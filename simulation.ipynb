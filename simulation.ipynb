{
  "cells": [
    {
      "cell_type": "markdown",
      "metadata": {
        "id": "view-in-github",
        "colab_type": "text"
      },
      "source": [
        "<a href=\"https://colab.research.google.com/github/RareDiseaseData/Meta-analysis-data/blob/main/simulation.ipynb\" target=\"_parent\"><img src=\"https://colab.research.google.com/assets/colab-badge.svg\" alt=\"Open In Colab\"/></a>"
      ]
    },
    {
      "cell_type": "markdown",
      "metadata": {
        "id": "vT3qm419Wz19"
      },
      "source": [
        "## Packages"
      ]
    },
    {
      "cell_type": "code",
      "execution_count": 1,
      "metadata": {
        "id": "dHfLZ_gITD32"
      },
      "outputs": [],
      "source": [
        "import numpy as np\n",
        "import pandas as pd\n",
        "import matplotlib.pyplot as plt\n",
        "import seaborn as sns"
      ]
    },
    {
      "cell_type": "markdown",
      "metadata": {
        "id": "f1_HLPUfW2N_"
      },
      "source": [
        "## Read data"
      ]
    },
    {
      "cell_type": "code",
      "execution_count": null,
      "metadata": {
        "id": "NVa0eUQCTM1g"
      },
      "outputs": [],
      "source": [
        "df_patient = pd.read_csv(\"content/Hyl_Patient_data.csv\")\n",
        "df_patient = df_patient[[\n",
        "    'ID',\n",
        "    'Cell1', # 1 fibroblast or 2 bone\n",
        "    'Age',\n",
        "    'Sex',\n",
        "    'Type', # severity of the pain (not linear)\n",
        "    # 'n',\n",
        "    'Method', # quemistry method used for the extraction\n",
        "    '%hydroxylysine_ind', # outcome for ipd\n",
        "    # 'STD_n1', # within study std\n",
        "    # 'STD_n2' # within study std within type\n",
        "]]\n",
        "\n",
        "df_control = pd.read_csv(\"content/Hyl_Control_data.csv\")\n",
        "df_control = df_control[[\n",
        "    'ID',\n",
        "    'Cell1', # 1 fibroblast or 2 bone\n",
        "    'Age',\n",
        "    'Sex',\n",
        "    'Type', # severity of the pain (not linear)\n",
        "    # 'n',\n",
        "    'Method', # quemistry method used for the extraction\n",
        "    '%hydroxylysine_ind', # outcome for ipd\n",
        "    # 'STD_n1', # within study std\n",
        "    # 'STD_n2' # within study std within type\n",
        "]]"
      ]
    },
    {
      "cell_type": "code",
      "execution_count": null,
      "metadata": {
        "id": "5dBrWzEefHmb",
        "outputId": "b5dfab2f-79f7-44ec-db86-1b8447db98c8"
      },
      "outputs": [
        {
          "data": {
            "text/html": [
              "<div>\n",
              "<style scoped>\n",
              "    .dataframe tbody tr th:only-of-type {\n",
              "        vertical-align: middle;\n",
              "    }\n",
              "\n",
              "    .dataframe tbody tr th {\n",
              "        vertical-align: top;\n",
              "    }\n",
              "\n",
              "    .dataframe thead th {\n",
              "        text-align: right;\n",
              "    }\n",
              "</style>\n",
              "<table border=\"1\" class=\"dataframe\">\n",
              "  <thead>\n",
              "    <tr style=\"text-align: right;\">\n",
              "      <th></th>\n",
              "      <th>ID</th>\n",
              "      <th>Cell1</th>\n",
              "      <th>Age</th>\n",
              "      <th>Sex</th>\n",
              "      <th>Type</th>\n",
              "      <th>Method</th>\n",
              "      <th>%hydroxylysine_ind</th>\n",
              "    </tr>\n",
              "  </thead>\n",
              "  <tbody>\n",
              "  </tbody>\n",
              "</table>\n",
              "</div>"
            ],
            "text/plain": [
              "Empty DataFrame\n",
              "Columns: [ID, Cell1, Age, Sex, Type, Method, %hydroxylysine_ind]\n",
              "Index: []"
            ]
          },
          "execution_count": 182,
          "metadata": {},
          "output_type": "execute_result"
        }
      ],
      "source": [
        "df_patient[df_patient.isna().any(axis=1)]"
      ]
    },
    {
      "cell_type": "code",
      "execution_count": null,
      "metadata": {
        "id": "c14wKsRafHmc",
        "outputId": "2fc8fc2c-3da9-42e2-994e-049ef9011d4c"
      },
      "outputs": [
        {
          "data": {
            "text/html": [
              "<div>\n",
              "<style scoped>\n",
              "    .dataframe tbody tr th:only-of-type {\n",
              "        vertical-align: middle;\n",
              "    }\n",
              "\n",
              "    .dataframe tbody tr th {\n",
              "        vertical-align: top;\n",
              "    }\n",
              "\n",
              "    .dataframe thead th {\n",
              "        text-align: right;\n",
              "    }\n",
              "</style>\n",
              "<table border=\"1\" class=\"dataframe\">\n",
              "  <thead>\n",
              "    <tr style=\"text-align: right;\">\n",
              "      <th></th>\n",
              "      <th>ID</th>\n",
              "      <th>Cell1</th>\n",
              "      <th>Age</th>\n",
              "      <th>Sex</th>\n",
              "      <th>Type</th>\n",
              "      <th>n</th>\n",
              "      <th>Method</th>\n",
              "      <th>%hydroxylysine_ind</th>\n",
              "    </tr>\n",
              "  </thead>\n",
              "  <tbody>\n",
              "    <tr>\n",
              "      <th>0</th>\n",
              "      <td>6</td>\n",
              "      <td>2</td>\n",
              "      <td>2</td>\n",
              "      <td>1</td>\n",
              "      <td>9</td>\n",
              "      <td>1.0</td>\n",
              "      <td>1</td>\n",
              "      <td>0.465116</td>\n",
              "    </tr>\n",
              "    <tr>\n",
              "      <th>1</th>\n",
              "      <td>8</td>\n",
              "      <td>2</td>\n",
              "      <td>1</td>\n",
              "      <td>1</td>\n",
              "      <td>2</td>\n",
              "      <td>1.0</td>\n",
              "      <td>2</td>\n",
              "      <td>0.219020</td>\n",
              "    </tr>\n",
              "    <tr>\n",
              "      <th>2</th>\n",
              "      <td>15</td>\n",
              "      <td>1</td>\n",
              "      <td>1</td>\n",
              "      <td>2</td>\n",
              "      <td>2</td>\n",
              "      <td>3.0</td>\n",
              "      <td>5</td>\n",
              "      <td>0.218750</td>\n",
              "    </tr>\n",
              "    <tr>\n",
              "      <th>3</th>\n",
              "      <td>15</td>\n",
              "      <td>2</td>\n",
              "      <td>1</td>\n",
              "      <td>2</td>\n",
              "      <td>2</td>\n",
              "      <td>NaN</td>\n",
              "      <td>3</td>\n",
              "      <td>0.371429</td>\n",
              "    </tr>\n",
              "    <tr>\n",
              "      <th>4</th>\n",
              "      <td>15</td>\n",
              "      <td>2</td>\n",
              "      <td>1</td>\n",
              "      <td>2</td>\n",
              "      <td>2</td>\n",
              "      <td>NaN</td>\n",
              "      <td>3</td>\n",
              "      <td>0.352941</td>\n",
              "    </tr>\n",
              "    <tr>\n",
              "      <th>...</th>\n",
              "      <td>...</td>\n",
              "      <td>...</td>\n",
              "      <td>...</td>\n",
              "      <td>...</td>\n",
              "      <td>...</td>\n",
              "      <td>...</td>\n",
              "      <td>...</td>\n",
              "      <td>...</td>\n",
              "    </tr>\n",
              "    <tr>\n",
              "      <th>42</th>\n",
              "      <td>207</td>\n",
              "      <td>1</td>\n",
              "      <td>5</td>\n",
              "      <td>3</td>\n",
              "      <td>10</td>\n",
              "      <td>NaN</td>\n",
              "      <td>7</td>\n",
              "      <td>0.243000</td>\n",
              "    </tr>\n",
              "    <tr>\n",
              "      <th>43</th>\n",
              "      <td>243</td>\n",
              "      <td>1</td>\n",
              "      <td>2</td>\n",
              "      <td>3</td>\n",
              "      <td>10</td>\n",
              "      <td>NaN</td>\n",
              "      <td>7</td>\n",
              "      <td>0.198000</td>\n",
              "    </tr>\n",
              "    <tr>\n",
              "      <th>44</th>\n",
              "      <td>265</td>\n",
              "      <td>1</td>\n",
              "      <td>5</td>\n",
              "      <td>3</td>\n",
              "      <td>10</td>\n",
              "      <td>NaN</td>\n",
              "      <td>7</td>\n",
              "      <td>0.235000</td>\n",
              "    </tr>\n",
              "    <tr>\n",
              "      <th>45</th>\n",
              "      <td>352</td>\n",
              "      <td>1</td>\n",
              "      <td>5</td>\n",
              "      <td>3</td>\n",
              "      <td>10</td>\n",
              "      <td>NaN</td>\n",
              "      <td>7</td>\n",
              "      <td>0.210000</td>\n",
              "    </tr>\n",
              "    <tr>\n",
              "      <th>46</th>\n",
              "      <td>377</td>\n",
              "      <td>1</td>\n",
              "      <td>2</td>\n",
              "      <td>2</td>\n",
              "      <td>10</td>\n",
              "      <td>NaN</td>\n",
              "      <td>7</td>\n",
              "      <td>0.305700</td>\n",
              "    </tr>\n",
              "  </tbody>\n",
              "</table>\n",
              "<p>116 rows × 8 columns</p>\n",
              "</div>"
            ],
            "text/plain": [
              "     ID  Cell1  Age  Sex  Type    n  Method  %hydroxylysine_ind\n",
              "0     6      2    2    1     9  1.0       1            0.465116\n",
              "1     8      2    1    1     2  1.0       2            0.219020\n",
              "2    15      1    1    2     2  3.0       5            0.218750\n",
              "3    15      2    1    2     2  NaN       3            0.371429\n",
              "4    15      2    1    2     2  NaN       3            0.352941\n",
              "..  ...    ...  ...  ...   ...  ...     ...                 ...\n",
              "42  207      1    5    3    10  NaN       7            0.243000\n",
              "43  243      1    2    3    10  NaN       7            0.198000\n",
              "44  265      1    5    3    10  NaN       7            0.235000\n",
              "45  352      1    5    3    10  NaN       7            0.210000\n",
              "46  377      1    2    2    10  NaN       7            0.305700\n",
              "\n",
              "[116 rows x 8 columns]"
            ]
          },
          "execution_count": 125,
          "metadata": {},
          "output_type": "execute_result"
        }
      ],
      "source": [
        "df = pd.concat([df_patient, df_control])\n",
        "df"
      ]
    },
    {
      "cell_type": "markdown",
      "metadata": {
        "id": "U0DPRcOIW422"
      },
      "source": [
        "## Preprocessing"
      ]
    },
    {
      "cell_type": "code",
      "execution_count": null,
      "metadata": {
        "colab": {
          "base_uri": "https://localhost:8080/"
        },
        "id": "SWVyZZM1V51c",
        "outputId": "e9697714-8c3d-444f-b38d-936a7eab9aec"
      },
      "outputs": [
        {
          "data": {
            "text/plain": [
              "Index(['ID', 'Cell1', 'Age', 'Sex', 'Type', 'n', 'Method',\n",
              "       '%hydroxylysine_ind'],\n",
              "      dtype='object')"
            ]
          },
          "execution_count": 126,
          "metadata": {},
          "output_type": "execute_result"
        }
      ],
      "source": [
        "df.columns"
      ]
    },
    {
      "cell_type": "code",
      "execution_count": null,
      "metadata": {
        "id": "oBe4UDfCV7t-"
      },
      "outputs": [],
      "source": [
        "df_sel = df.copy()"
      ]
    },
    {
      "cell_type": "markdown",
      "metadata": {
        "id": "Rw2bG6LBfHmd"
      },
      "source": [
        "We suppose two articles have irregularities."
      ]
    },
    {
      "cell_type": "code",
      "execution_count": null,
      "metadata": {
        "colab": {
          "base_uri": "https://localhost:8080/",
          "height": 300
        },
        "id": "NhcsPmwiYLKN",
        "outputId": "f9e22504-6ee5-4222-b010-8935337fb2a1"
      },
      "outputs": [
        {
          "data": {
            "text/html": [
              "<div>\n",
              "<style scoped>\n",
              "    .dataframe tbody tr th:only-of-type {\n",
              "        vertical-align: middle;\n",
              "    }\n",
              "\n",
              "    .dataframe tbody tr th {\n",
              "        vertical-align: top;\n",
              "    }\n",
              "\n",
              "    .dataframe thead th {\n",
              "        text-align: right;\n",
              "    }\n",
              "</style>\n",
              "<table border=\"1\" class=\"dataframe\">\n",
              "  <thead>\n",
              "    <tr style=\"text-align: right;\">\n",
              "      <th></th>\n",
              "      <th>ID</th>\n",
              "      <th>Cell1</th>\n",
              "      <th>Age</th>\n",
              "      <th>Sex</th>\n",
              "      <th>Type</th>\n",
              "      <th>n</th>\n",
              "      <th>Method</th>\n",
              "      <th>%hydroxylysine_ind</th>\n",
              "    </tr>\n",
              "  </thead>\n",
              "  <tbody>\n",
              "    <tr>\n",
              "      <th>15</th>\n",
              "      <td>61</td>\n",
              "      <td>1</td>\n",
              "      <td>2</td>\n",
              "      <td>3</td>\n",
              "      <td>1</td>\n",
              "      <td>3.0</td>\n",
              "      <td>5</td>\n",
              "      <td>0.129901</td>\n",
              "    </tr>\n",
              "    <tr>\n",
              "      <th>16</th>\n",
              "      <td>61</td>\n",
              "      <td>1</td>\n",
              "      <td>1</td>\n",
              "      <td>3</td>\n",
              "      <td>2</td>\n",
              "      <td>5.0</td>\n",
              "      <td>5</td>\n",
              "      <td>0.260990</td>\n",
              "    </tr>\n",
              "    <tr>\n",
              "      <th>17</th>\n",
              "      <td>61</td>\n",
              "      <td>1</td>\n",
              "      <td>5</td>\n",
              "      <td>3</td>\n",
              "      <td>3</td>\n",
              "      <td>12.0</td>\n",
              "      <td>5</td>\n",
              "      <td>0.140198</td>\n",
              "    </tr>\n",
              "    <tr>\n",
              "      <th>18</th>\n",
              "      <td>61</td>\n",
              "      <td>1</td>\n",
              "      <td>5</td>\n",
              "      <td>3</td>\n",
              "      <td>4</td>\n",
              "      <td>3.0</td>\n",
              "      <td>5</td>\n",
              "      <td>0.121188</td>\n",
              "    </tr>\n",
              "    <tr>\n",
              "      <th>19</th>\n",
              "      <td>61</td>\n",
              "      <td>2</td>\n",
              "      <td>2</td>\n",
              "      <td>3</td>\n",
              "      <td>1</td>\n",
              "      <td>3.0</td>\n",
              "      <td>3</td>\n",
              "      <td>0.134257</td>\n",
              "    </tr>\n",
              "    <tr>\n",
              "      <th>20</th>\n",
              "      <td>61</td>\n",
              "      <td>2</td>\n",
              "      <td>1</td>\n",
              "      <td>3</td>\n",
              "      <td>2</td>\n",
              "      <td>5.0</td>\n",
              "      <td>3</td>\n",
              "      <td>0.271683</td>\n",
              "    </tr>\n",
              "    <tr>\n",
              "      <th>21</th>\n",
              "      <td>61</td>\n",
              "      <td>2</td>\n",
              "      <td>5</td>\n",
              "      <td>3</td>\n",
              "      <td>3</td>\n",
              "      <td>12.0</td>\n",
              "      <td>3</td>\n",
              "      <td>0.114455</td>\n",
              "    </tr>\n",
              "    <tr>\n",
              "      <th>22</th>\n",
              "      <td>61</td>\n",
              "      <td>2</td>\n",
              "      <td>5</td>\n",
              "      <td>3</td>\n",
              "      <td>4</td>\n",
              "      <td>3.0</td>\n",
              "      <td>3</td>\n",
              "      <td>0.152079</td>\n",
              "    </tr>\n",
              "    <tr>\n",
              "      <th>14</th>\n",
              "      <td>61</td>\n",
              "      <td>1</td>\n",
              "      <td>1</td>\n",
              "      <td>3</td>\n",
              "      <td>10</td>\n",
              "      <td>2.0</td>\n",
              "      <td>5</td>\n",
              "      <td>0.189307</td>\n",
              "    </tr>\n",
              "    <tr>\n",
              "      <th>15</th>\n",
              "      <td>61</td>\n",
              "      <td>1</td>\n",
              "      <td>4</td>\n",
              "      <td>3</td>\n",
              "      <td>10</td>\n",
              "      <td>8.0</td>\n",
              "      <td>5</td>\n",
              "      <td>0.123168</td>\n",
              "    </tr>\n",
              "    <tr>\n",
              "      <th>16</th>\n",
              "      <td>61</td>\n",
              "      <td>2</td>\n",
              "      <td>1</td>\n",
              "      <td>3</td>\n",
              "      <td>10</td>\n",
              "      <td>2.0</td>\n",
              "      <td>3</td>\n",
              "      <td>0.190891</td>\n",
              "    </tr>\n",
              "    <tr>\n",
              "      <th>17</th>\n",
              "      <td>61</td>\n",
              "      <td>2</td>\n",
              "      <td>4</td>\n",
              "      <td>3</td>\n",
              "      <td>10</td>\n",
              "      <td>8.0</td>\n",
              "      <td>3</td>\n",
              "      <td>0.124356</td>\n",
              "    </tr>\n",
              "  </tbody>\n",
              "</table>\n",
              "</div>"
            ],
            "text/plain": [
              "    ID  Cell1  Age  Sex  Type     n  Method  %hydroxylysine_ind\n",
              "15  61      1    2    3     1   3.0       5            0.129901\n",
              "16  61      1    1    3     2   5.0       5            0.260990\n",
              "17  61      1    5    3     3  12.0       5            0.140198\n",
              "18  61      1    5    3     4   3.0       5            0.121188\n",
              "19  61      2    2    3     1   3.0       3            0.134257\n",
              "20  61      2    1    3     2   5.0       3            0.271683\n",
              "21  61      2    5    3     3  12.0       3            0.114455\n",
              "22  61      2    5    3     4   3.0       3            0.152079\n",
              "14  61      1    1    3    10   2.0       5            0.189307\n",
              "15  61      1    4    3    10   8.0       5            0.123168\n",
              "16  61      2    1    3    10   2.0       3            0.190891\n",
              "17  61      2    4    3    10   8.0       3            0.124356"
            ]
          },
          "execution_count": 128,
          "metadata": {},
          "output_type": "execute_result"
        }
      ],
      "source": [
        "df_sel[df_sel.ID == 61] # aggregate; maybe something went wrong here"
      ]
    },
    {
      "cell_type": "code",
      "execution_count": null,
      "metadata": {
        "colab": {
          "base_uri": "https://localhost:8080/",
          "height": 143
        },
        "id": "sXJ5ObFXYnyK",
        "outputId": "c2832a03-fe40-4a7c-ca91-b372526c94c8"
      },
      "outputs": [
        {
          "data": {
            "text/html": [
              "<div>\n",
              "<style scoped>\n",
              "    .dataframe tbody tr th:only-of-type {\n",
              "        vertical-align: middle;\n",
              "    }\n",
              "\n",
              "    .dataframe tbody tr th {\n",
              "        vertical-align: top;\n",
              "    }\n",
              "\n",
              "    .dataframe thead th {\n",
              "        text-align: right;\n",
              "    }\n",
              "</style>\n",
              "<table border=\"1\" class=\"dataframe\">\n",
              "  <thead>\n",
              "    <tr style=\"text-align: right;\">\n",
              "      <th></th>\n",
              "      <th>ID</th>\n",
              "      <th>Cell1</th>\n",
              "      <th>Age</th>\n",
              "      <th>Sex</th>\n",
              "      <th>Type</th>\n",
              "      <th>n</th>\n",
              "      <th>Method</th>\n",
              "      <th>%hydroxylysine_ind</th>\n",
              "    </tr>\n",
              "  </thead>\n",
              "  <tbody>\n",
              "    <tr>\n",
              "      <th>24</th>\n",
              "      <td>75</td>\n",
              "      <td>1</td>\n",
              "      <td>3</td>\n",
              "      <td>3</td>\n",
              "      <td>9</td>\n",
              "      <td>3.0</td>\n",
              "      <td>-1</td>\n",
              "      <td>0.241</td>\n",
              "    </tr>\n",
              "    <tr>\n",
              "      <th>25</th>\n",
              "      <td>75</td>\n",
              "      <td>1</td>\n",
              "      <td>1</td>\n",
              "      <td>3</td>\n",
              "      <td>9</td>\n",
              "      <td>NaN</td>\n",
              "      <td>-1</td>\n",
              "      <td>0.196</td>\n",
              "    </tr>\n",
              "    <tr>\n",
              "      <th>26</th>\n",
              "      <td>75</td>\n",
              "      <td>1</td>\n",
              "      <td>4</td>\n",
              "      <td>3</td>\n",
              "      <td>9</td>\n",
              "      <td>NaN</td>\n",
              "      <td>-1</td>\n",
              "      <td>0.151</td>\n",
              "    </tr>\n",
              "    <tr>\n",
              "      <th>20</th>\n",
              "      <td>75</td>\n",
              "      <td>1</td>\n",
              "      <td>3</td>\n",
              "      <td>3</td>\n",
              "      <td>10</td>\n",
              "      <td>3.0</td>\n",
              "      <td>-1</td>\n",
              "      <td>0.125</td>\n",
              "    </tr>\n",
              "    <tr>\n",
              "      <th>21</th>\n",
              "      <td>75</td>\n",
              "      <td>1</td>\n",
              "      <td>1</td>\n",
              "      <td>3</td>\n",
              "      <td>10</td>\n",
              "      <td>NaN</td>\n",
              "      <td>-1</td>\n",
              "      <td>0.146</td>\n",
              "    </tr>\n",
              "    <tr>\n",
              "      <th>22</th>\n",
              "      <td>75</td>\n",
              "      <td>1</td>\n",
              "      <td>4</td>\n",
              "      <td>3</td>\n",
              "      <td>10</td>\n",
              "      <td>NaN</td>\n",
              "      <td>-1</td>\n",
              "      <td>0.134</td>\n",
              "    </tr>\n",
              "  </tbody>\n",
              "</table>\n",
              "</div>"
            ],
            "text/plain": [
              "    ID  Cell1  Age  Sex  Type    n  Method  %hydroxylysine_ind\n",
              "24  75      1    3    3     9  3.0      -1               0.241\n",
              "25  75      1    1    3     9  NaN      -1               0.196\n",
              "26  75      1    4    3     9  NaN      -1               0.151\n",
              "20  75      1    3    3    10  3.0      -1               0.125\n",
              "21  75      1    1    3    10  NaN      -1               0.146\n",
              "22  75      1    4    3    10  NaN      -1               0.134"
            ]
          },
          "execution_count": 129,
          "metadata": {},
          "output_type": "execute_result"
        }
      ],
      "source": [
        "df_sel[df_sel.ID == 75] # Did not report the method, values significantly lower\n",
        "df_sel.loc[df_sel.ID == 75, 'Method'] = -1\n",
        "df_sel[df_sel.ID == 75]"
      ]
    },
    {
      "cell_type": "code",
      "execution_count": null,
      "metadata": {
        "id": "8XfGQ1lbZIaN"
      },
      "outputs": [],
      "source": [
        "idx = df_sel.loc[(df_sel.ID == 61) | (df_sel.ID == 75)].index\n",
        "df_sel['errors'] = 'Others'\n",
        "df_sel.loc[df_sel.ID == 61, 'errors'] = '61'\n",
        "df_sel.loc[df_sel.ID == 75, 'errors'] = '75'"
      ]
    },
    {
      "cell_type": "markdown",
      "metadata": {
        "id": "nzVs3L9VfHmd"
      },
      "source": [
        "## Outlier detection"
      ]
    },
    {
      "cell_type": "markdown",
      "metadata": {
        "id": "wiTnh-_TfHmd"
      },
      "source": [
        "- [x] Reason to remove them (Priyesh)\n",
        "\n",
        "Grubb's Test\n",
        "- [x] https://www.analyticsvidhya.com/blog/2021/05/feature-engineering-how-to-detect-and-remove-outliers-with-python-code/\n",
        "- [x] https://towardsdatascience.com/5-outlier-detection-methods-that-every-data-enthusiast-must-know-f917bf439210\n",
        "\n",
        "- DBSCAN: https://medium.com/@dilip.voleti/dbscan-algorithm-for-fraud-detection-outlier-detection-in-a-data-set-60a10ad06ea8"
      ]
    },
    {
      "cell_type": "code",
      "execution_count": null,
      "metadata": {
        "id": "j719oi5NfHme"
      },
      "outputs": [],
      "source": [
        "def grubbs_test(x, x_test):\n",
        "    m = x.mean()\n",
        "    std = x.std()\n",
        "    g = (x - m) / std\n",
        "    return abs(g)"
      ]
    },
    {
      "cell_type": "code",
      "execution_count": null,
      "metadata": {
        "id": "-5DPofXwfHme"
      },
      "outputs": [],
      "source": [
        "from outliers import smirnov_grubbs as grubbs"
      ]
    },
    {
      "cell_type": "code",
      "execution_count": null,
      "metadata": {
        "id": "mBLZsT4IfHme",
        "outputId": "47ec210f-f957-4ab2-9625-a57dfdaa2584"
      },
      "outputs": [
        {
          "data": {
            "text/plain": [
              "69"
            ]
          },
          "execution_count": 174,
          "metadata": {},
          "output_type": "execute_result"
        }
      ],
      "source": [
        "len(df_patient['%hydroxylysine_ind'].values)"
      ]
    },
    {
      "cell_type": "code",
      "execution_count": null,
      "metadata": {
        "id": "8xFI76cxfHme",
        "outputId": "54c5a7fd-5d7e-4be2-a5a5-89138a33a1eb"
      },
      "outputs": [
        {
          "data": {
            "text/plain": [
              "69"
            ]
          },
          "execution_count": 175,
          "metadata": {},
          "output_type": "execute_result"
        }
      ],
      "source": [
        "df_sel['%hydroxylysine_ind']\n",
        "len(grubbs.test(df_patient['%hydroxylysine_ind'].values, alpha = 0.1))"
      ]
    },
    {
      "cell_type": "code",
      "execution_count": null,
      "metadata": {
        "id": "X1kzOK2sfHme"
      },
      "outputs": [],
      "source": [
        "a = df_sel[df_sel['Type'] == 9].ID"
      ]
    },
    {
      "cell_type": "code",
      "execution_count": null,
      "metadata": {
        "id": "kiF_ftyOfHme",
        "outputId": "42d8b24c-9e69-4420-f15b-b9f218f94793"
      },
      "outputs": [
        {
          "data": {
            "text/html": [
              "<div>\n",
              "<style scoped>\n",
              "    .dataframe tbody tr th:only-of-type {\n",
              "        vertical-align: middle;\n",
              "    }\n",
              "\n",
              "    .dataframe tbody tr th {\n",
              "        vertical-align: top;\n",
              "    }\n",
              "\n",
              "    .dataframe thead th {\n",
              "        text-align: right;\n",
              "    }\n",
              "</style>\n",
              "<table border=\"1\" class=\"dataframe\">\n",
              "  <thead>\n",
              "    <tr style=\"text-align: right;\">\n",
              "      <th></th>\n",
              "      <th>ID</th>\n",
              "      <th>Cell1</th>\n",
              "      <th>Age</th>\n",
              "      <th>Sex</th>\n",
              "      <th>Type</th>\n",
              "      <th>n</th>\n",
              "      <th>Method</th>\n",
              "      <th>%hydroxylysine_ind</th>\n",
              "      <th>errors</th>\n",
              "    </tr>\n",
              "  </thead>\n",
              "  <tbody>\n",
              "    <tr>\n",
              "      <th>0</th>\n",
              "      <td>6</td>\n",
              "      <td>2</td>\n",
              "      <td>2</td>\n",
              "      <td>1</td>\n",
              "      <td>9</td>\n",
              "      <td>1.0</td>\n",
              "      <td>1</td>\n",
              "      <td>0.465116</td>\n",
              "      <td>Others</td>\n",
              "    </tr>\n",
              "    <tr>\n",
              "      <th>0</th>\n",
              "      <td>6</td>\n",
              "      <td>2</td>\n",
              "      <td>2</td>\n",
              "      <td>1</td>\n",
              "      <td>10</td>\n",
              "      <td>NaN</td>\n",
              "      <td>1</td>\n",
              "      <td>0.395257</td>\n",
              "      <td>Others</td>\n",
              "    </tr>\n",
              "    <tr>\n",
              "      <th>13</th>\n",
              "      <td>46</td>\n",
              "      <td>1</td>\n",
              "      <td>5</td>\n",
              "      <td>3</td>\n",
              "      <td>9</td>\n",
              "      <td>1.0</td>\n",
              "      <td>5</td>\n",
              "      <td>0.365854</td>\n",
              "      <td>Others</td>\n",
              "    </tr>\n",
              "    <tr>\n",
              "      <th>12</th>\n",
              "      <td>46</td>\n",
              "      <td>1</td>\n",
              "      <td>5</td>\n",
              "      <td>3</td>\n",
              "      <td>10</td>\n",
              "      <td>NaN</td>\n",
              "      <td>5</td>\n",
              "      <td>0.239825</td>\n",
              "      <td>Others</td>\n",
              "    </tr>\n",
              "    <tr>\n",
              "      <th>24</th>\n",
              "      <td>75</td>\n",
              "      <td>1</td>\n",
              "      <td>3</td>\n",
              "      <td>3</td>\n",
              "      <td>9</td>\n",
              "      <td>3.0</td>\n",
              "      <td>-1</td>\n",
              "      <td>0.241000</td>\n",
              "      <td>75</td>\n",
              "    </tr>\n",
              "    <tr>\n",
              "      <th>25</th>\n",
              "      <td>75</td>\n",
              "      <td>1</td>\n",
              "      <td>1</td>\n",
              "      <td>3</td>\n",
              "      <td>9</td>\n",
              "      <td>NaN</td>\n",
              "      <td>-1</td>\n",
              "      <td>0.196000</td>\n",
              "      <td>75</td>\n",
              "    </tr>\n",
              "    <tr>\n",
              "      <th>26</th>\n",
              "      <td>75</td>\n",
              "      <td>1</td>\n",
              "      <td>4</td>\n",
              "      <td>3</td>\n",
              "      <td>9</td>\n",
              "      <td>NaN</td>\n",
              "      <td>-1</td>\n",
              "      <td>0.151000</td>\n",
              "      <td>75</td>\n",
              "    </tr>\n",
              "    <tr>\n",
              "      <th>20</th>\n",
              "      <td>75</td>\n",
              "      <td>1</td>\n",
              "      <td>3</td>\n",
              "      <td>3</td>\n",
              "      <td>10</td>\n",
              "      <td>3.0</td>\n",
              "      <td>-1</td>\n",
              "      <td>0.125000</td>\n",
              "      <td>75</td>\n",
              "    </tr>\n",
              "    <tr>\n",
              "      <th>21</th>\n",
              "      <td>75</td>\n",
              "      <td>1</td>\n",
              "      <td>1</td>\n",
              "      <td>3</td>\n",
              "      <td>10</td>\n",
              "      <td>NaN</td>\n",
              "      <td>-1</td>\n",
              "      <td>0.146000</td>\n",
              "      <td>75</td>\n",
              "    </tr>\n",
              "    <tr>\n",
              "      <th>22</th>\n",
              "      <td>75</td>\n",
              "      <td>1</td>\n",
              "      <td>4</td>\n",
              "      <td>3</td>\n",
              "      <td>10</td>\n",
              "      <td>NaN</td>\n",
              "      <td>-1</td>\n",
              "      <td>0.134000</td>\n",
              "      <td>75</td>\n",
              "    </tr>\n",
              "    <tr>\n",
              "      <th>29</th>\n",
              "      <td>144</td>\n",
              "      <td>1</td>\n",
              "      <td>2</td>\n",
              "      <td>1</td>\n",
              "      <td>9</td>\n",
              "      <td>1.0</td>\n",
              "      <td>7</td>\n",
              "      <td>0.360000</td>\n",
              "      <td>Others</td>\n",
              "    </tr>\n",
              "    <tr>\n",
              "      <th>26</th>\n",
              "      <td>144</td>\n",
              "      <td>1</td>\n",
              "      <td>2</td>\n",
              "      <td>3</td>\n",
              "      <td>10</td>\n",
              "      <td>NaN</td>\n",
              "      <td>7</td>\n",
              "      <td>0.250000</td>\n",
              "      <td>Others</td>\n",
              "    </tr>\n",
              "  </tbody>\n",
              "</table>\n",
              "</div>"
            ],
            "text/plain": [
              "     ID  Cell1  Age  Sex  Type    n  Method  %hydroxylysine_ind  errors\n",
              "0     6      2    2    1     9  1.0       1            0.465116  Others\n",
              "0     6      2    2    1    10  NaN       1            0.395257  Others\n",
              "13   46      1    5    3     9  1.0       5            0.365854  Others\n",
              "12   46      1    5    3    10  NaN       5            0.239825  Others\n",
              "24   75      1    3    3     9  3.0      -1            0.241000      75\n",
              "25   75      1    1    3     9  NaN      -1            0.196000      75\n",
              "26   75      1    4    3     9  NaN      -1            0.151000      75\n",
              "20   75      1    3    3    10  3.0      -1            0.125000      75\n",
              "21   75      1    1    3    10  NaN      -1            0.146000      75\n",
              "22   75      1    4    3    10  NaN      -1            0.134000      75\n",
              "29  144      1    2    1     9  1.0       7            0.360000  Others\n",
              "26  144      1    2    3    10  NaN       7            0.250000  Others"
            ]
          },
          "execution_count": 132,
          "metadata": {},
          "output_type": "execute_result"
        }
      ],
      "source": [
        "df_sel[df_sel.ID.isin(a)].sort_values('ID')"
      ]
    },
    {
      "cell_type": "code",
      "execution_count": null,
      "metadata": {
        "id": "W8X5zcd7fHmf",
        "outputId": "571d7e55-3b59-423c-ba6a-b840db499755"
      },
      "outputs": [
        {
          "data": {
            "text/plain": [
              "1      9\n",
              "2     19\n",
              "3     17\n",
              "4     18\n",
              "9      6\n",
              "10    47\n",
              "Name: Type, dtype: int64"
            ]
          },
          "execution_count": 133,
          "metadata": {},
          "output_type": "execute_result"
        }
      ],
      "source": [
        "df_sel.Type.value_counts().sort_index()"
      ]
    },
    {
      "cell_type": "markdown",
      "metadata": {
        "id": "uqHjlj7FfHmf"
      },
      "source": [
        "We are dropping the 6 patients that have OI type 9 because that is unknown (equal to NaN or NULL)."
      ]
    },
    {
      "cell_type": "code",
      "execution_count": null,
      "metadata": {
        "id": "xpd_o8oafHmf",
        "outputId": "476df700-cb44-4d11-a4c5-b7bde495d217"
      },
      "outputs": [
        {
          "data": {
            "text/html": [
              "<div>\n",
              "<style scoped>\n",
              "    .dataframe tbody tr th:only-of-type {\n",
              "        vertical-align: middle;\n",
              "    }\n",
              "\n",
              "    .dataframe tbody tr th {\n",
              "        vertical-align: top;\n",
              "    }\n",
              "\n",
              "    .dataframe thead th {\n",
              "        text-align: right;\n",
              "    }\n",
              "</style>\n",
              "<table border=\"1\" class=\"dataframe\">\n",
              "  <thead>\n",
              "    <tr style=\"text-align: right;\">\n",
              "      <th></th>\n",
              "      <th>ID</th>\n",
              "      <th>Cell1</th>\n",
              "      <th>Age</th>\n",
              "      <th>Sex</th>\n",
              "      <th>Type</th>\n",
              "      <th>n</th>\n",
              "      <th>Method</th>\n",
              "      <th>%hydroxylysine_ind</th>\n",
              "      <th>errors</th>\n",
              "    </tr>\n",
              "  </thead>\n",
              "  <tbody>\n",
              "    <tr>\n",
              "      <th>1</th>\n",
              "      <td>8</td>\n",
              "      <td>2</td>\n",
              "      <td>1</td>\n",
              "      <td>1</td>\n",
              "      <td>2</td>\n",
              "      <td>1.0</td>\n",
              "      <td>2</td>\n",
              "      <td>0.219020</td>\n",
              "      <td>Others</td>\n",
              "    </tr>\n",
              "    <tr>\n",
              "      <th>2</th>\n",
              "      <td>15</td>\n",
              "      <td>1</td>\n",
              "      <td>1</td>\n",
              "      <td>2</td>\n",
              "      <td>2</td>\n",
              "      <td>3.0</td>\n",
              "      <td>5</td>\n",
              "      <td>0.218750</td>\n",
              "      <td>Others</td>\n",
              "    </tr>\n",
              "    <tr>\n",
              "      <th>3</th>\n",
              "      <td>15</td>\n",
              "      <td>2</td>\n",
              "      <td>1</td>\n",
              "      <td>2</td>\n",
              "      <td>2</td>\n",
              "      <td>NaN</td>\n",
              "      <td>3</td>\n",
              "      <td>0.371429</td>\n",
              "      <td>Others</td>\n",
              "    </tr>\n",
              "    <tr>\n",
              "      <th>4</th>\n",
              "      <td>15</td>\n",
              "      <td>2</td>\n",
              "      <td>1</td>\n",
              "      <td>2</td>\n",
              "      <td>2</td>\n",
              "      <td>NaN</td>\n",
              "      <td>3</td>\n",
              "      <td>0.352941</td>\n",
              "      <td>Others</td>\n",
              "    </tr>\n",
              "    <tr>\n",
              "      <th>5</th>\n",
              "      <td>25</td>\n",
              "      <td>1</td>\n",
              "      <td>1</td>\n",
              "      <td>1</td>\n",
              "      <td>2</td>\n",
              "      <td>2.0</td>\n",
              "      <td>5</td>\n",
              "      <td>0.294000</td>\n",
              "      <td>Others</td>\n",
              "    </tr>\n",
              "    <tr>\n",
              "      <th>...</th>\n",
              "      <td>...</td>\n",
              "      <td>...</td>\n",
              "      <td>...</td>\n",
              "      <td>...</td>\n",
              "      <td>...</td>\n",
              "      <td>...</td>\n",
              "      <td>...</td>\n",
              "      <td>...</td>\n",
              "      <td>...</td>\n",
              "    </tr>\n",
              "    <tr>\n",
              "      <th>42</th>\n",
              "      <td>207</td>\n",
              "      <td>1</td>\n",
              "      <td>5</td>\n",
              "      <td>3</td>\n",
              "      <td>10</td>\n",
              "      <td>NaN</td>\n",
              "      <td>7</td>\n",
              "      <td>0.243000</td>\n",
              "      <td>Others</td>\n",
              "    </tr>\n",
              "    <tr>\n",
              "      <th>43</th>\n",
              "      <td>243</td>\n",
              "      <td>1</td>\n",
              "      <td>2</td>\n",
              "      <td>3</td>\n",
              "      <td>10</td>\n",
              "      <td>NaN</td>\n",
              "      <td>7</td>\n",
              "      <td>0.198000</td>\n",
              "      <td>Others</td>\n",
              "    </tr>\n",
              "    <tr>\n",
              "      <th>44</th>\n",
              "      <td>265</td>\n",
              "      <td>1</td>\n",
              "      <td>5</td>\n",
              "      <td>3</td>\n",
              "      <td>10</td>\n",
              "      <td>NaN</td>\n",
              "      <td>7</td>\n",
              "      <td>0.235000</td>\n",
              "      <td>Others</td>\n",
              "    </tr>\n",
              "    <tr>\n",
              "      <th>45</th>\n",
              "      <td>352</td>\n",
              "      <td>1</td>\n",
              "      <td>5</td>\n",
              "      <td>3</td>\n",
              "      <td>10</td>\n",
              "      <td>NaN</td>\n",
              "      <td>7</td>\n",
              "      <td>0.210000</td>\n",
              "      <td>Others</td>\n",
              "    </tr>\n",
              "    <tr>\n",
              "      <th>46</th>\n",
              "      <td>377</td>\n",
              "      <td>1</td>\n",
              "      <td>2</td>\n",
              "      <td>2</td>\n",
              "      <td>10</td>\n",
              "      <td>NaN</td>\n",
              "      <td>7</td>\n",
              "      <td>0.305700</td>\n",
              "      <td>Others</td>\n",
              "    </tr>\n",
              "  </tbody>\n",
              "</table>\n",
              "<p>104 rows × 9 columns</p>\n",
              "</div>"
            ],
            "text/plain": [
              "     ID  Cell1  Age  Sex  Type    n  Method  %hydroxylysine_ind  errors\n",
              "1     8      2    1    1     2  1.0       2            0.219020  Others\n",
              "2    15      1    1    2     2  3.0       5            0.218750  Others\n",
              "3    15      2    1    2     2  NaN       3            0.371429  Others\n",
              "4    15      2    1    2     2  NaN       3            0.352941  Others\n",
              "5    25      1    1    1     2  2.0       5            0.294000  Others\n",
              "..  ...    ...  ...  ...   ...  ...     ...                 ...     ...\n",
              "42  207      1    5    3    10  NaN       7            0.243000  Others\n",
              "43  243      1    2    3    10  NaN       7            0.198000  Others\n",
              "44  265      1    5    3    10  NaN       7            0.235000  Others\n",
              "45  352      1    5    3    10  NaN       7            0.210000  Others\n",
              "46  377      1    2    2    10  NaN       7            0.305700  Others\n",
              "\n",
              "[104 rows x 9 columns]"
            ]
          },
          "execution_count": 134,
          "metadata": {},
          "output_type": "execute_result"
        }
      ],
      "source": [
        "df_sel = df_sel.drop(a.index)\n",
        "df_sel"
      ]
    },
    {
      "cell_type": "markdown",
      "source": [],
      "metadata": {
        "id": "R5Bmwayufvpm"
      }
    },
    {
      "cell_type": "markdown",
      "source": [
        "## DBSCAN test\n",
        "\n",
        "For this test, we need data that has no null variables, so for this we take out all of the columns with null values."
      ],
      "metadata": {
        "id": "WhfK7wtlc3xN"
      }
    },
    {
      "cell_type": "code",
      "source": [
        "df_dbscan = dataset[[\n",
        "    \"Cell1\",\n",
        "    \"Type\",\n",
        "    \"Method\",\n",
        "    \"%hydroxylysine_ind\"\n",
        "    ]]\n",
        "df_dbscan.rename(columns = {'%hydroxylysine_ind':'hydroxylysine_ind'}, inplace = True)\n",
        "df_dbscan"
      ],
      "metadata": {
        "id": "SpmgT2__dDgE",
        "outputId": "de58963b-0507-4e53-cfe2-416b10ce836d",
        "colab": {
          "base_uri": "https://localhost:8080/",
          "height": 510
        }
      },
      "execution_count": null,
      "outputs": [
        {
          "output_type": "stream",
          "name": "stderr",
          "text": [
            "<ipython-input-10-1a440fb037e8>:7: SettingWithCopyWarning: \n",
            "A value is trying to be set on a copy of a slice from a DataFrame\n",
            "\n",
            "See the caveats in the documentation: https://pandas.pydata.org/pandas-docs/stable/user_guide/indexing.html#returning-a-view-versus-a-copy\n",
            "  df_dbscan.rename(columns = {'%hydroxylysine_ind':'hydroxylysine_ind'}, inplace = True)\n"
          ]
        },
        {
          "output_type": "execute_result",
          "data": {
            "text/plain": [
              "    Cell1  Type  Method  hydroxylysine_ind\n",
              "0       2     9       1           0.465116\n",
              "1       2     2       2           0.219020\n",
              "2       1     2       5           0.218750\n",
              "3       2     2       3           0.371429\n",
              "4       2     2       3           0.352941\n",
              "..    ...   ...     ...                ...\n",
              "64      1     4       5           0.370504\n",
              "65      1     4       5           0.412710\n",
              "66      1     4       5           0.423261\n",
              "67      1     4       5           0.425180\n",
              "68      1     4       5           0.469305\n",
              "\n",
              "[69 rows x 4 columns]"
            ],
            "text/html": [
              "\n",
              "\n",
              "  <div id=\"df-07806bb1-db72-4e02-92b4-48e0fd697d36\">\n",
              "    <div class=\"colab-df-container\">\n",
              "      <div>\n",
              "<style scoped>\n",
              "    .dataframe tbody tr th:only-of-type {\n",
              "        vertical-align: middle;\n",
              "    }\n",
              "\n",
              "    .dataframe tbody tr th {\n",
              "        vertical-align: top;\n",
              "    }\n",
              "\n",
              "    .dataframe thead th {\n",
              "        text-align: right;\n",
              "    }\n",
              "</style>\n",
              "<table border=\"1\" class=\"dataframe\">\n",
              "  <thead>\n",
              "    <tr style=\"text-align: right;\">\n",
              "      <th></th>\n",
              "      <th>Cell1</th>\n",
              "      <th>Type</th>\n",
              "      <th>Method</th>\n",
              "      <th>hydroxylysine_ind</th>\n",
              "    </tr>\n",
              "  </thead>\n",
              "  <tbody>\n",
              "    <tr>\n",
              "      <th>0</th>\n",
              "      <td>2</td>\n",
              "      <td>9</td>\n",
              "      <td>1</td>\n",
              "      <td>0.465116</td>\n",
              "    </tr>\n",
              "    <tr>\n",
              "      <th>1</th>\n",
              "      <td>2</td>\n",
              "      <td>2</td>\n",
              "      <td>2</td>\n",
              "      <td>0.219020</td>\n",
              "    </tr>\n",
              "    <tr>\n",
              "      <th>2</th>\n",
              "      <td>1</td>\n",
              "      <td>2</td>\n",
              "      <td>5</td>\n",
              "      <td>0.218750</td>\n",
              "    </tr>\n",
              "    <tr>\n",
              "      <th>3</th>\n",
              "      <td>2</td>\n",
              "      <td>2</td>\n",
              "      <td>3</td>\n",
              "      <td>0.371429</td>\n",
              "    </tr>\n",
              "    <tr>\n",
              "      <th>4</th>\n",
              "      <td>2</td>\n",
              "      <td>2</td>\n",
              "      <td>3</td>\n",
              "      <td>0.352941</td>\n",
              "    </tr>\n",
              "    <tr>\n",
              "      <th>...</th>\n",
              "      <td>...</td>\n",
              "      <td>...</td>\n",
              "      <td>...</td>\n",
              "      <td>...</td>\n",
              "    </tr>\n",
              "    <tr>\n",
              "      <th>64</th>\n",
              "      <td>1</td>\n",
              "      <td>4</td>\n",
              "      <td>5</td>\n",
              "      <td>0.370504</td>\n",
              "    </tr>\n",
              "    <tr>\n",
              "      <th>65</th>\n",
              "      <td>1</td>\n",
              "      <td>4</td>\n",
              "      <td>5</td>\n",
              "      <td>0.412710</td>\n",
              "    </tr>\n",
              "    <tr>\n",
              "      <th>66</th>\n",
              "      <td>1</td>\n",
              "      <td>4</td>\n",
              "      <td>5</td>\n",
              "      <td>0.423261</td>\n",
              "    </tr>\n",
              "    <tr>\n",
              "      <th>67</th>\n",
              "      <td>1</td>\n",
              "      <td>4</td>\n",
              "      <td>5</td>\n",
              "      <td>0.425180</td>\n",
              "    </tr>\n",
              "    <tr>\n",
              "      <th>68</th>\n",
              "      <td>1</td>\n",
              "      <td>4</td>\n",
              "      <td>5</td>\n",
              "      <td>0.469305</td>\n",
              "    </tr>\n",
              "  </tbody>\n",
              "</table>\n",
              "<p>69 rows × 4 columns</p>\n",
              "</div>\n",
              "      <button class=\"colab-df-convert\" onclick=\"convertToInteractive('df-07806bb1-db72-4e02-92b4-48e0fd697d36')\"\n",
              "              title=\"Convert this dataframe to an interactive table.\"\n",
              "              style=\"display:none;\">\n",
              "\n",
              "  <svg xmlns=\"http://www.w3.org/2000/svg\" height=\"24px\"viewBox=\"0 0 24 24\"\n",
              "       width=\"24px\">\n",
              "    <path d=\"M0 0h24v24H0V0z\" fill=\"none\"/>\n",
              "    <path d=\"M18.56 5.44l.94 2.06.94-2.06 2.06-.94-2.06-.94-.94-2.06-.94 2.06-2.06.94zm-11 1L8.5 8.5l.94-2.06 2.06-.94-2.06-.94L8.5 2.5l-.94 2.06-2.06.94zm10 10l.94 2.06.94-2.06 2.06-.94-2.06-.94-.94-2.06-.94 2.06-2.06.94z\"/><path d=\"M17.41 7.96l-1.37-1.37c-.4-.4-.92-.59-1.43-.59-.52 0-1.04.2-1.43.59L10.3 9.45l-7.72 7.72c-.78.78-.78 2.05 0 2.83L4 21.41c.39.39.9.59 1.41.59.51 0 1.02-.2 1.41-.59l7.78-7.78 2.81-2.81c.8-.78.8-2.07 0-2.86zM5.41 20L4 18.59l7.72-7.72 1.47 1.35L5.41 20z\"/>\n",
              "  </svg>\n",
              "      </button>\n",
              "\n",
              "\n",
              "\n",
              "    <div id=\"df-8b3d163a-c93d-468c-80dc-c36ee2393345\">\n",
              "      <button class=\"colab-df-quickchart\" onclick=\"quickchart('df-8b3d163a-c93d-468c-80dc-c36ee2393345')\"\n",
              "              title=\"Suggest charts.\"\n",
              "              style=\"display:none;\">\n",
              "\n",
              "<svg xmlns=\"http://www.w3.org/2000/svg\" height=\"24px\"viewBox=\"0 0 24 24\"\n",
              "     width=\"24px\">\n",
              "    <g>\n",
              "        <path d=\"M19 3H5c-1.1 0-2 .9-2 2v14c0 1.1.9 2 2 2h14c1.1 0 2-.9 2-2V5c0-1.1-.9-2-2-2zM9 17H7v-7h2v7zm4 0h-2V7h2v10zm4 0h-2v-4h2v4z\"/>\n",
              "    </g>\n",
              "</svg>\n",
              "      </button>\n",
              "    </div>\n",
              "\n",
              "<style>\n",
              "  .colab-df-quickchart {\n",
              "    background-color: #E8F0FE;\n",
              "    border: none;\n",
              "    border-radius: 50%;\n",
              "    cursor: pointer;\n",
              "    display: none;\n",
              "    fill: #1967D2;\n",
              "    height: 32px;\n",
              "    padding: 0 0 0 0;\n",
              "    width: 32px;\n",
              "  }\n",
              "\n",
              "  .colab-df-quickchart:hover {\n",
              "    background-color: #E2EBFA;\n",
              "    box-shadow: 0px 1px 2px rgba(60, 64, 67, 0.3), 0px 1px 3px 1px rgba(60, 64, 67, 0.15);\n",
              "    fill: #174EA6;\n",
              "  }\n",
              "\n",
              "  [theme=dark] .colab-df-quickchart {\n",
              "    background-color: #3B4455;\n",
              "    fill: #D2E3FC;\n",
              "  }\n",
              "\n",
              "  [theme=dark] .colab-df-quickchart:hover {\n",
              "    background-color: #434B5C;\n",
              "    box-shadow: 0px 1px 3px 1px rgba(0, 0, 0, 0.15);\n",
              "    filter: drop-shadow(0px 1px 2px rgba(0, 0, 0, 0.3));\n",
              "    fill: #FFFFFF;\n",
              "  }\n",
              "</style>\n",
              "\n",
              "    <script>\n",
              "      async function quickchart(key) {\n",
              "        const containerElement = document.querySelector('#' + key);\n",
              "        const charts = await google.colab.kernel.invokeFunction(\n",
              "            'suggestCharts', [key], {});\n",
              "      }\n",
              "    </script>\n",
              "\n",
              "      <script>\n",
              "\n",
              "function displayQuickchartButton(domScope) {\n",
              "  let quickchartButtonEl =\n",
              "    domScope.querySelector('#df-8b3d163a-c93d-468c-80dc-c36ee2393345 button.colab-df-quickchart');\n",
              "  quickchartButtonEl.style.display =\n",
              "    google.colab.kernel.accessAllowed ? 'block' : 'none';\n",
              "}\n",
              "\n",
              "        displayQuickchartButton(document);\n",
              "      </script>\n",
              "      <style>\n",
              "    .colab-df-container {\n",
              "      display:flex;\n",
              "      flex-wrap:wrap;\n",
              "      gap: 12px;\n",
              "    }\n",
              "\n",
              "    .colab-df-convert {\n",
              "      background-color: #E8F0FE;\n",
              "      border: none;\n",
              "      border-radius: 50%;\n",
              "      cursor: pointer;\n",
              "      display: none;\n",
              "      fill: #1967D2;\n",
              "      height: 32px;\n",
              "      padding: 0 0 0 0;\n",
              "      width: 32px;\n",
              "    }\n",
              "\n",
              "    .colab-df-convert:hover {\n",
              "      background-color: #E2EBFA;\n",
              "      box-shadow: 0px 1px 2px rgba(60, 64, 67, 0.3), 0px 1px 3px 1px rgba(60, 64, 67, 0.15);\n",
              "      fill: #174EA6;\n",
              "    }\n",
              "\n",
              "    [theme=dark] .colab-df-convert {\n",
              "      background-color: #3B4455;\n",
              "      fill: #D2E3FC;\n",
              "    }\n",
              "\n",
              "    [theme=dark] .colab-df-convert:hover {\n",
              "      background-color: #434B5C;\n",
              "      box-shadow: 0px 1px 3px 1px rgba(0, 0, 0, 0.15);\n",
              "      filter: drop-shadow(0px 1px 2px rgba(0, 0, 0, 0.3));\n",
              "      fill: #FFFFFF;\n",
              "    }\n",
              "  </style>\n",
              "\n",
              "      <script>\n",
              "        const buttonEl =\n",
              "          document.querySelector('#df-07806bb1-db72-4e02-92b4-48e0fd697d36 button.colab-df-convert');\n",
              "        buttonEl.style.display =\n",
              "          google.colab.kernel.accessAllowed ? 'block' : 'none';\n",
              "\n",
              "        async function convertToInteractive(key) {\n",
              "          const element = document.querySelector('#df-07806bb1-db72-4e02-92b4-48e0fd697d36');\n",
              "          const dataTable =\n",
              "            await google.colab.kernel.invokeFunction('convertToInteractive',\n",
              "                                                     [key], {});\n",
              "          if (!dataTable) return;\n",
              "\n",
              "          const docLinkHtml = 'Like what you see? Visit the ' +\n",
              "            '<a target=\"_blank\" href=https://colab.research.google.com/notebooks/data_table.ipynb>data table notebook</a>'\n",
              "            + ' to learn more about interactive tables.';\n",
              "          element.innerHTML = '';\n",
              "          dataTable['output_type'] = 'display_data';\n",
              "          await google.colab.output.renderOutput(dataTable, element);\n",
              "          const docLink = document.createElement('div');\n",
              "          docLink.innerHTML = docLinkHtml;\n",
              "          element.appendChild(docLink);\n",
              "        }\n",
              "      </script>\n",
              "    </div>\n",
              "  </div>\n"
            ]
          },
          "metadata": {},
          "execution_count": 10
        }
      ]
    },
    {
      "cell_type": "code",
      "source": [
        "df_dbscan.isna().sum()"
      ],
      "metadata": {
        "id": "7TAdZ4fedSxD",
        "outputId": "abdf66b6-2c90-459c-8648-852d98b74c91",
        "colab": {
          "base_uri": "https://localhost:8080/"
        }
      },
      "execution_count": null,
      "outputs": [
        {
          "output_type": "execute_result",
          "data": {
            "text/plain": [
              "Cell1                0\n",
              "Type                 0\n",
              "Method               0\n",
              "hydroxylysine_ind    0\n",
              "dtype: int64"
            ]
          },
          "metadata": {},
          "execution_count": 11
        }
      ]
    },
    {
      "cell_type": "code",
      "source": [
        "from sklearn.neighbors import LocalOutlierFactor\n",
        "import matplotlib.pyplot as plt\n",
        "import seaborn as sns\n",
        "import scipy.stats as st\n",
        "%matplotlib inline\n",
        "import warnings\n",
        "warnings.filterwarnings('ignore')\n",
        "\n",
        "import statsmodels.api as sm\n",
        "import os\n",
        "\n",
        "from scipy.cluster.vq import kmeans\n",
        "from scipy.cluster.vq import vq\n",
        "\n",
        "import plotly.express as px\n",
        "from sklearn.ensemble import IsolationForest"
      ],
      "metadata": {
        "id": "PWQsh3oxdTtj"
      },
      "execution_count": null,
      "outputs": []
    },
    {
      "cell_type": "code",
      "source": [
        "df_dbscan.info()"
      ],
      "metadata": {
        "id": "CtoShenhdYH3",
        "outputId": "9bde3584-21c9-4e56-9661-acde09138096",
        "colab": {
          "base_uri": "https://localhost:8080/"
        }
      },
      "execution_count": null,
      "outputs": [
        {
          "output_type": "stream",
          "name": "stdout",
          "text": [
            "<class 'pandas.core.frame.DataFrame'>\n",
            "RangeIndex: 69 entries, 0 to 68\n",
            "Data columns (total 4 columns):\n",
            " #   Column             Non-Null Count  Dtype  \n",
            "---  ------             --------------  -----  \n",
            " 0   Cell1              69 non-null     int64  \n",
            " 1   Type               69 non-null     int64  \n",
            " 2   Method             69 non-null     int64  \n",
            " 3   hydroxylysine_ind  69 non-null     float64\n",
            "dtypes: float64(1), int64(3)\n",
            "memory usage: 2.3 KB\n"
          ]
        }
      ]
    },
    {
      "cell_type": "markdown",
      "source": [],
      "metadata": {
        "id": "OsLlzRfHel9v"
      }
    },
    {
      "cell_type": "code",
      "source": [
        "sns.displot(df_dbscan['hydroxylysine_ind'],\n",
        "           kde = True)\n",
        "\n",
        "#label the axis\n",
        "plt.xlabel(\"H_ind\", fontsize = 15)\n",
        "plt.ylabel(\"Count\", fontsize = 15)\n",
        "plt.title(\"Hydroxylysine distribution\", fontsize = 15)\n",
        "\n",
        "plt.show()"
      ],
      "metadata": {
        "id": "pRUxiinjdcaG",
        "outputId": "387513d0-26ba-4c3b-d7b9-b4beb2472156",
        "colab": {
          "base_uri": "https://localhost:8080/",
          "height": 538
        }
      },
      "execution_count": null,
      "outputs": [
        {
          "output_type": "display_data",
          "data": {
            "text/plain": [
              "<Figure size 500x500 with 1 Axes>"
            ],
            "image/png": "[encoded data removed]"
          },
          "metadata": {}
        }
      ]
    },
    {
      "cell_type": "code",
      "source": [
        "print(f\"skewness: {df_dbscan['hydroxylysine_ind'].skew():.2f}\")\n",
        "print(f\"Kurtosis: {df_dbscan['hydroxylysine_ind'].kurt():.2f}\")"
      ],
      "metadata": {
        "id": "J_TdqBmddg60",
        "outputId": "b9bca9f0-695b-4d4c-aa62-945dc78020e7",
        "colab": {
          "base_uri": "https://localhost:8080/"
        }
      },
      "execution_count": null,
      "outputs": [
        {
          "output_type": "stream",
          "name": "stdout",
          "text": [
            "skewness: 0.14\n",
            "Kurtosis: -0.12\n"
          ]
        }
      ]
    },
    {
      "cell_type": "code",
      "source": [
        "#create the boxplot\n",
        "ax = sns.boxplot(x = df_dbscan['hydroxylysine_ind'])\n",
        "\n",
        "#add labels to the plot\n",
        "ax.set_xlabel(\"H_ind\", fontsize = 15)\n",
        "ax.set_ylabel(\"Variable\", fontsize = 15)\n",
        "ax.set_title(\"Boxplot\", fontsize =20, pad = 20)\n",
        "\n",
        "plt.show()"
      ],
      "metadata": {
        "id": "TdCqbWgLdjWr",
        "outputId": "480b3008-5383-4706-f9db-b1b6c4adeb9d",
        "colab": {
          "base_uri": "https://localhost:8080/",
          "height": 506
        }
      },
      "execution_count": null,
      "outputs": [
        {
          "output_type": "display_data",
          "data": {
            "text/plain": [
              "<Figure size 640x480 with 1 Axes>"
            ],
            "image/png": "[encoded data removed]"
          },
          "metadata": {}
        }
      ]
    },
    {
      "cell_type": "code",
      "source": [
        "h_ind_lq = df_dbscan['hydroxylysine_ind'].quantile(0.25)\n",
        "h_ind_uq = df_dbscan['hydroxylysine_ind'].quantile(0.75)\n",
        "#extract the inter quartile range\n",
        "h_ind_iqr = h_ind_uq - h_ind_lq\n",
        "\n",
        "#get the upper and lower bounds\n",
        "lower_bound = h_ind_lq - 1.5*h_ind_iqr\n",
        "upper_bound = h_ind_uq + 1.5*h_ind_iqr\n",
        "\n",
        "#extract values outside these bounds\n",
        "IQR_outliers = df_dbscan[(df_dbscan.hydroxylysine_ind <= lower_bound) | (df_dbscan.hydroxylysine_ind >= upper_bound)]\n",
        "IQR_outliers"
      ],
      "metadata": {
        "id": "aijgMwtpdmIl",
        "outputId": "3eda038b-9a36-4f48-a6f1-3a10779badd3",
        "colab": {
          "base_uri": "https://localhost:8080/",
          "height": 80
        }
      },
      "execution_count": null,
      "outputs": [
        {
          "output_type": "execute_result",
          "data": {
            "text/plain": [
              "    Cell1  Type  Method  hydroxylysine_ind\n",
              "27      1     2       6              0.626"
            ],
            "text/html": [
              "\n",
              "\n",
              "  <div id=\"df-fc4cf1fc-e9ec-412a-a0af-e7b4cf0d85fc\">\n",
              "    <div class=\"colab-df-container\">\n",
              "      <div>\n",
              "<style scoped>\n",
              "    .dataframe tbody tr th:only-of-type {\n",
              "        vertical-align: middle;\n",
              "    }\n",
              "\n",
              "    .dataframe tbody tr th {\n",
              "        vertical-align: top;\n",
              "    }\n",
              "\n",
              "    .dataframe thead th {\n",
              "        text-align: right;\n",
              "    }\n",
              "</style>\n",
              "<table border=\"1\" class=\"dataframe\">\n",
              "  <thead>\n",
              "    <tr style=\"text-align: right;\">\n",
              "      <th></th>\n",
              "      <th>Cell1</th>\n",
              "      <th>Type</th>\n",
              "      <th>Method</th>\n",
              "      <th>hydroxylysine_ind</th>\n",
              "    </tr>\n",
              "  </thead>\n",
              "  <tbody>\n",
              "    <tr>\n",
              "      <th>27</th>\n",
              "      <td>1</td>\n",
              "      <td>2</td>\n",
              "      <td>6</td>\n",
              "      <td>0.626</td>\n",
              "    </tr>\n",
              "  </tbody>\n",
              "</table>\n",
              "</div>\n",
              "      <button class=\"colab-df-convert\" onclick=\"convertToInteractive('df-fc4cf1fc-e9ec-412a-a0af-e7b4cf0d85fc')\"\n",
              "              title=\"Convert this dataframe to an interactive table.\"\n",
              "              style=\"display:none;\">\n",
              "\n",
              "  <svg xmlns=\"http://www.w3.org/2000/svg\" height=\"24px\"viewBox=\"0 0 24 24\"\n",
              "       width=\"24px\">\n",
              "    <path d=\"M0 0h24v24H0V0z\" fill=\"none\"/>\n",
              "    <path d=\"M18.56 5.44l.94 2.06.94-2.06 2.06-.94-2.06-.94-.94-2.06-.94 2.06-2.06.94zm-11 1L8.5 8.5l.94-2.06 2.06-.94-2.06-.94L8.5 2.5l-.94 2.06-2.06.94zm10 10l.94 2.06.94-2.06 2.06-.94-2.06-.94-.94-2.06-.94 2.06-2.06.94z\"/><path d=\"M17.41 7.96l-1.37-1.37c-.4-.4-.92-.59-1.43-.59-.52 0-1.04.2-1.43.59L10.3 9.45l-7.72 7.72c-.78.78-.78 2.05 0 2.83L4 21.41c.39.39.9.59 1.41.59.51 0 1.02-.2 1.41-.59l7.78-7.78 2.81-2.81c.8-.78.8-2.07 0-2.86zM5.41 20L4 18.59l7.72-7.72 1.47 1.35L5.41 20z\"/>\n",
              "  </svg>\n",
              "      </button>\n",
              "\n",
              "\n",
              "\n",
              "    <div id=\"df-0ea3b3c6-a21f-448a-bc13-c47805434bf9\">\n",
              "      <button class=\"colab-df-quickchart\" onclick=\"quickchart('df-0ea3b3c6-a21f-448a-bc13-c47805434bf9')\"\n",
              "              title=\"Suggest charts.\"\n",
              "              style=\"display:none;\">\n",
              "\n",
              "<svg xmlns=\"http://www.w3.org/2000/svg\" height=\"24px\"viewBox=\"0 0 24 24\"\n",
              "     width=\"24px\">\n",
              "    <g>\n",
              "        <path d=\"M19 3H5c-1.1 0-2 .9-2 2v14c0 1.1.9 2 2 2h14c1.1 0 2-.9 2-2V5c0-1.1-.9-2-2-2zM9 17H7v-7h2v7zm4 0h-2V7h2v10zm4 0h-2v-4h2v4z\"/>\n",
              "    </g>\n",
              "</svg>\n",
              "      </button>\n",
              "    </div>\n",
              "\n",
              "<style>\n",
              "  .colab-df-quickchart {\n",
              "    background-color: #E8F0FE;\n",
              "    border: none;\n",
              "    border-radius: 50%;\n",
              "    cursor: pointer;\n",
              "    display: none;\n",
              "    fill: #1967D2;\n",
              "    height: 32px;\n",
              "    padding: 0 0 0 0;\n",
              "    width: 32px;\n",
              "  }\n",
              "\n",
              "  .colab-df-quickchart:hover {\n",
              "    background-color: #E2EBFA;\n",
              "    box-shadow: 0px 1px 2px rgba(60, 64, 67, 0.3), 0px 1px 3px 1px rgba(60, 64, 67, 0.15);\n",
              "    fill: #174EA6;\n",
              "  }\n",
              "\n",
              "  [theme=dark] .colab-df-quickchart {\n",
              "    background-color: #3B4455;\n",
              "    fill: #D2E3FC;\n",
              "  }\n",
              "\n",
              "  [theme=dark] .colab-df-quickchart:hover {\n",
              "    background-color: #434B5C;\n",
              "    box-shadow: 0px 1px 3px 1px rgba(0, 0, 0, 0.15);\n",
              "    filter: drop-shadow(0px 1px 2px rgba(0, 0, 0, 0.3));\n",
              "    fill: #FFFFFF;\n",
              "  }\n",
              "</style>\n",
              "\n",
              "    <script>\n",
              "      async function quickchart(key) {\n",
              "        const containerElement = document.querySelector('#' + key);\n",
              "        const charts = await google.colab.kernel.invokeFunction(\n",
              "            'suggestCharts', [key], {});\n",
              "      }\n",
              "    </script>\n",
              "\n",
              "      <script>\n",
              "\n",
              "function displayQuickchartButton(domScope) {\n",
              "  let quickchartButtonEl =\n",
              "    domScope.querySelector('#df-0ea3b3c6-a21f-448a-bc13-c47805434bf9 button.colab-df-quickchart');\n",
              "  quickchartButtonEl.style.display =\n",
              "    google.colab.kernel.accessAllowed ? 'block' : 'none';\n",
              "}\n",
              "\n",
              "        displayQuickchartButton(document);\n",
              "      </script>\n",
              "      <style>\n",
              "    .colab-df-container {\n",
              "      display:flex;\n",
              "      flex-wrap:wrap;\n",
              "      gap: 12px;\n",
              "    }\n",
              "\n",
              "    .colab-df-convert {\n",
              "      background-color: #E8F0FE;\n",
              "      border: none;\n",
              "      border-radius: 50%;\n",
              "      cursor: pointer;\n",
              "      display: none;\n",
              "      fill: #1967D2;\n",
              "      height: 32px;\n",
              "      padding: 0 0 0 0;\n",
              "      width: 32px;\n",
              "    }\n",
              "\n",
              "    .colab-df-convert:hover {\n",
              "      background-color: #E2EBFA;\n",
              "      box-shadow: 0px 1px 2px rgba(60, 64, 67, 0.3), 0px 1px 3px 1px rgba(60, 64, 67, 0.15);\n",
              "      fill: #174EA6;\n",
              "    }\n",
              "\n",
              "    [theme=dark] .colab-df-convert {\n",
              "      background-color: #3B4455;\n",
              "      fill: #D2E3FC;\n",
              "    }\n",
              "\n",
              "    [theme=dark] .colab-df-convert:hover {\n",
              "      background-color: #434B5C;\n",
              "      box-shadow: 0px 1px 3px 1px rgba(0, 0, 0, 0.15);\n",
              "      filter: drop-shadow(0px 1px 2px rgba(0, 0, 0, 0.3));\n",
              "      fill: #FFFFFF;\n",
              "    }\n",
              "  </style>\n",
              "\n",
              "      <script>\n",
              "        const buttonEl =\n",
              "          document.querySelector('#df-fc4cf1fc-e9ec-412a-a0af-e7b4cf0d85fc button.colab-df-convert');\n",
              "        buttonEl.style.display =\n",
              "          google.colab.kernel.accessAllowed ? 'block' : 'none';\n",
              "\n",
              "        async function convertToInteractive(key) {\n",
              "          const element = document.querySelector('#df-fc4cf1fc-e9ec-412a-a0af-e7b4cf0d85fc');\n",
              "          const dataTable =\n",
              "            await google.colab.kernel.invokeFunction('convertToInteractive',\n",
              "                                                     [key], {});\n",
              "          if (!dataTable) return;\n",
              "\n",
              "          const docLinkHtml = 'Like what you see? Visit the ' +\n",
              "            '<a target=\"_blank\" href=https://colab.research.google.com/notebooks/data_table.ipynb>data table notebook</a>'\n",
              "            + ' to learn more about interactive tables.';\n",
              "          element.innerHTML = '';\n",
              "          dataTable['output_type'] = 'display_data';\n",
              "          await google.colab.output.renderOutput(dataTable, element);\n",
              "          const docLink = document.createElement('div');\n",
              "          docLink.innerHTML = docLinkHtml;\n",
              "          element.appendChild(docLink);\n",
              "        }\n",
              "      </script>\n",
              "    </div>\n",
              "  </div>\n"
            ]
          },
          "metadata": {},
          "execution_count": 16
        }
      ]
    },
    {
      "cell_type": "code",
      "source": [
        "from sklearn.cluster import DBSCAN\n",
        "from sklearn.preprocessing import MinMaxScaler\n",
        "mms = MinMaxScaler()\n",
        "df_dbscan[['hydroxylysine_ind','Method']] = mms.fit_transform(df_dbscan[['hydroxylysine_ind','Method']])\n",
        "df_dbscan.head()"
      ],
      "metadata": {
        "id": "gO-UlEjWdwKE",
        "outputId": "3ebd48f8-e6d0-492f-e359-d091520effa2",
        "colab": {
          "base_uri": "https://localhost:8080/",
          "height": 310
        }
      },
      "execution_count": null,
      "outputs": [
        {
          "output_type": "stream",
          "name": "stderr",
          "text": [
            "<ipython-input-17-908de0139f0e>:4: SettingWithCopyWarning: \n",
            "A value is trying to be set on a copy of a slice from a DataFrame.\n",
            "Try using .loc[row_indexer,col_indexer] = value instead\n",
            "\n",
            "See the caveats in the documentation: https://pandas.pydata.org/pandas-docs/stable/user_guide/indexing.html#returning-a-view-versus-a-copy\n",
            "  df_dbscan[['hydroxylysine_ind','Method']] = mms.fit_transform(df_dbscan[['hydroxylysine_ind','Method']])\n"
          ]
        },
        {
          "output_type": "execute_result",
          "data": {
            "text/plain": [
              "   Cell1  Type    Method  hydroxylysine_ind\n",
              "0      2     9  0.000000           0.685494\n",
              "1      2     2  0.166667           0.204410\n",
              "2      1     2  0.666667           0.203882\n",
              "3      2     2  0.333333           0.502347\n",
              "4      2     2  0.333333           0.466207"
            ],
            "text/html": [
              "\n",
              "\n",
              "  <div id=\"df-b0adfe1d-2061-4357-a896-a87b252346c0\">\n",
              "    <div class=\"colab-df-container\">\n",
              "      <div>\n",
              "<style scoped>\n",
              "    .dataframe tbody tr th:only-of-type {\n",
              "        vertical-align: middle;\n",
              "    }\n",
              "\n",
              "    .dataframe tbody tr th {\n",
              "        vertical-align: top;\n",
              "    }\n",
              "\n",
              "    .dataframe thead th {\n",
              "        text-align: right;\n",
              "    }\n",
              "</style>\n",
              "<table border=\"1\" class=\"dataframe\">\n",
              "  <thead>\n",
              "    <tr style=\"text-align: right;\">\n",
              "      <th></th>\n",
              "      <th>Cell1</th>\n",
              "      <th>Type</th>\n",
              "      <th>Method</th>\n",
              "      <th>hydroxylysine_ind</th>\n",
              "    </tr>\n",
              "  </thead>\n",
              "  <tbody>\n",
              "    <tr>\n",
              "      <th>0</th>\n",
              "      <td>2</td>\n",
              "      <td>9</td>\n",
              "      <td>0.000000</td>\n",
              "      <td>0.685494</td>\n",
              "    </tr>\n",
              "    <tr>\n",
              "      <th>1</th>\n",
              "      <td>2</td>\n",
              "      <td>2</td>\n",
              "      <td>0.166667</td>\n",
              "      <td>0.204410</td>\n",
              "    </tr>\n",
              "    <tr>\n",
              "      <th>2</th>\n",
              "      <td>1</td>\n",
              "      <td>2</td>\n",
              "      <td>0.666667</td>\n",
              "      <td>0.203882</td>\n",
              "    </tr>\n",
              "    <tr>\n",
              "      <th>3</th>\n",
              "      <td>2</td>\n",
              "      <td>2</td>\n",
              "      <td>0.333333</td>\n",
              "      <td>0.502347</td>\n",
              "    </tr>\n",
              "    <tr>\n",
              "      <th>4</th>\n",
              "      <td>2</td>\n",
              "      <td>2</td>\n",
              "      <td>0.333333</td>\n",
              "      <td>0.466207</td>\n",
              "    </tr>\n",
              "  </tbody>\n",
              "</table>\n",
              "</div>\n",
              "      <button class=\"colab-df-convert\" onclick=\"convertToInteractive('df-b0adfe1d-2061-4357-a896-a87b252346c0')\"\n",
              "              title=\"Convert this dataframe to an interactive table.\"\n",
              "              style=\"display:none;\">\n",
              "\n",
              "  <svg xmlns=\"http://www.w3.org/2000/svg\" height=\"24px\"viewBox=\"0 0 24 24\"\n",
              "       width=\"24px\">\n",
              "    <path d=\"M0 0h24v24H0V0z\" fill=\"none\"/>\n",
              "    <path d=\"M18.56 5.44l.94 2.06.94-2.06 2.06-.94-2.06-.94-.94-2.06-.94 2.06-2.06.94zm-11 1L8.5 8.5l.94-2.06 2.06-.94-2.06-.94L8.5 2.5l-.94 2.06-2.06.94zm10 10l.94 2.06.94-2.06 2.06-.94-2.06-.94-.94-2.06-.94 2.06-2.06.94z\"/><path d=\"M17.41 7.96l-1.37-1.37c-.4-.4-.92-.59-1.43-.59-.52 0-1.04.2-1.43.59L10.3 9.45l-7.72 7.72c-.78.78-.78 2.05 0 2.83L4 21.41c.39.39.9.59 1.41.59.51 0 1.02-.2 1.41-.59l7.78-7.78 2.81-2.81c.8-.78.8-2.07 0-2.86zM5.41 20L4 18.59l7.72-7.72 1.47 1.35L5.41 20z\"/>\n",
              "  </svg>\n",
              "      </button>\n",
              "\n",
              "\n",
              "\n",
              "    <div id=\"df-9fc1dfe4-9de8-4b2b-84b3-ea153a07c457\">\n",
              "      <button class=\"colab-df-quickchart\" onclick=\"quickchart('df-9fc1dfe4-9de8-4b2b-84b3-ea153a07c457')\"\n",
              "              title=\"Suggest charts.\"\n",
              "              style=\"display:none;\">\n",
              "\n",
              "<svg xmlns=\"http://www.w3.org/2000/svg\" height=\"24px\"viewBox=\"0 0 24 24\"\n",
              "     width=\"24px\">\n",
              "    <g>\n",
              "        <path d=\"M19 3H5c-1.1 0-2 .9-2 2v14c0 1.1.9 2 2 2h14c1.1 0 2-.9 2-2V5c0-1.1-.9-2-2-2zM9 17H7v-7h2v7zm4 0h-2V7h2v10zm4 0h-2v-4h2v4z\"/>\n",
              "    </g>\n",
              "</svg>\n",
              "      </button>\n",
              "    </div>\n",
              "\n",
              "<style>\n",
              "  .colab-df-quickchart {\n",
              "    background-color: #E8F0FE;\n",
              "    border: none;\n",
              "    border-radius: 50%;\n",
              "    cursor: pointer;\n",
              "    display: none;\n",
              "    fill: #1967D2;\n",
              "    height: 32px;\n",
              "    padding: 0 0 0 0;\n",
              "    width: 32px;\n",
              "  }\n",
              "\n",
              "  .colab-df-quickchart:hover {\n",
              "    background-color: #E2EBFA;\n",
              "    box-shadow: 0px 1px 2px rgba(60, 64, 67, 0.3), 0px 1px 3px 1px rgba(60, 64, 67, 0.15);\n",
              "    fill: #174EA6;\n",
              "  }\n",
              "\n",
              "  [theme=dark] .colab-df-quickchart {\n",
              "    background-color: #3B4455;\n",
              "    fill: #D2E3FC;\n",
              "  }\n",
              "\n",
              "  [theme=dark] .colab-df-quickchart:hover {\n",
              "    background-color: #434B5C;\n",
              "    box-shadow: 0px 1px 3px 1px rgba(0, 0, 0, 0.15);\n",
              "    filter: drop-shadow(0px 1px 2px rgba(0, 0, 0, 0.3));\n",
              "    fill: #FFFFFF;\n",
              "  }\n",
              "</style>\n",
              "\n",
              "    <script>\n",
              "      async function quickchart(key) {\n",
              "        const containerElement = document.querySelector('#' + key);\n",
              "        const charts = await google.colab.kernel.invokeFunction(\n",
              "            'suggestCharts', [key], {});\n",
              "      }\n",
              "    </script>\n",
              "\n",
              "      <script>\n",
              "\n",
              "function displayQuickchartButton(domScope) {\n",
              "  let quickchartButtonEl =\n",
              "    domScope.querySelector('#df-9fc1dfe4-9de8-4b2b-84b3-ea153a07c457 button.colab-df-quickchart');\n",
              "  quickchartButtonEl.style.display =\n",
              "    google.colab.kernel.accessAllowed ? 'block' : 'none';\n",
              "}\n",
              "\n",
              "        displayQuickchartButton(document);\n",
              "      </script>\n",
              "      <style>\n",
              "    .colab-df-container {\n",
              "      display:flex;\n",
              "      flex-wrap:wrap;\n",
              "      gap: 12px;\n",
              "    }\n",
              "\n",
              "    .colab-df-convert {\n",
              "      background-color: #E8F0FE;\n",
              "      border: none;\n",
              "      border-radius: 50%;\n",
              "      cursor: pointer;\n",
              "      display: none;\n",
              "      fill: #1967D2;\n",
              "      height: 32px;\n",
              "      padding: 0 0 0 0;\n",
              "      width: 32px;\n",
              "    }\n",
              "\n",
              "    .colab-df-convert:hover {\n",
              "      background-color: #E2EBFA;\n",
              "      box-shadow: 0px 1px 2px rgba(60, 64, 67, 0.3), 0px 1px 3px 1px rgba(60, 64, 67, 0.15);\n",
              "      fill: #174EA6;\n",
              "    }\n",
              "\n",
              "    [theme=dark] .colab-df-convert {\n",
              "      background-color: #3B4455;\n",
              "      fill: #D2E3FC;\n",
              "    }\n",
              "\n",
              "    [theme=dark] .colab-df-convert:hover {\n",
              "      background-color: #434B5C;\n",
              "      box-shadow: 0px 1px 3px 1px rgba(0, 0, 0, 0.15);\n",
              "      filter: drop-shadow(0px 1px 2px rgba(0, 0, 0, 0.3));\n",
              "      fill: #FFFFFF;\n",
              "    }\n",
              "  </style>\n",
              "\n",
              "      <script>\n",
              "        const buttonEl =\n",
              "          document.querySelector('#df-b0adfe1d-2061-4357-a896-a87b252346c0 button.colab-df-convert');\n",
              "        buttonEl.style.display =\n",
              "          google.colab.kernel.accessAllowed ? 'block' : 'none';\n",
              "\n",
              "        async function convertToInteractive(key) {\n",
              "          const element = document.querySelector('#df-b0adfe1d-2061-4357-a896-a87b252346c0');\n",
              "          const dataTable =\n",
              "            await google.colab.kernel.invokeFunction('convertToInteractive',\n",
              "                                                     [key], {});\n",
              "          if (!dataTable) return;\n",
              "\n",
              "          const docLinkHtml = 'Like what you see? Visit the ' +\n",
              "            '<a target=\"_blank\" href=https://colab.research.google.com/notebooks/data_table.ipynb>data table notebook</a>'\n",
              "            + ' to learn more about interactive tables.';\n",
              "          element.innerHTML = '';\n",
              "          dataTable['output_type'] = 'display_data';\n",
              "          await google.colab.output.renderOutput(dataTable, element);\n",
              "          const docLink = document.createElement('div');\n",
              "          docLink.innerHTML = docLinkHtml;\n",
              "          element.appendChild(docLink);\n",
              "        }\n",
              "      </script>\n",
              "    </div>\n",
              "  </div>\n"
            ]
          },
          "metadata": {},
          "execution_count": 17
        }
      ]
    },
    {
      "cell_type": "code",
      "source": [
        "fig, ax = plt.subplots(1,1, figsize = (8,10))\n",
        "\n",
        "#plot teh scatter plot\n",
        "ax.scatter(df_dbscan['hydroxylysine_ind'], df_dbscan['Method'])\n",
        "\n",
        "#add labels\n",
        "ax.set_xlabel(\"hydroxylysine_ind\", fontsize = 20, labelpad = 20)\n",
        "ax.set_ylabel(\"Method\", fontsize = 20, labelpad = 20)\n",
        "ax.set_title(\"scatter plot\", fontsize = 20, pad = 20)\n",
        "#alter the tick parametes\n",
        "ax.tick_params(axis = \"both\", labelsize = 20)"
      ],
      "metadata": {
        "id": "zsr-Km4Yd0Yl",
        "outputId": "91f61857-303d-4cc7-9428-d374f7e14a58",
        "colab": {
          "base_uri": "https://localhost:8080/",
          "height": 951
        }
      },
      "execution_count": null,
      "outputs": [
        {
          "output_type": "display_data",
          "data": {
            "text/plain": [
              "<Figure size 800x1000 with 1 Axes>"
            ],
            "image/png": "[encoded data removed]"
          },
          "metadata": {}
        }
      ]
    },
    {
      "cell_type": "code",
      "source": [
        "from sklearn.neighbors import NearestNeighbors\n",
        "neigh = NearestNeighbors(n_neighbors=2)\n",
        "nbrs = neigh.fit(df_dbscan[['hydroxylysine_ind','Method']])\n",
        "distances, indices = nbrs.kneighbors(df_dbscan[['hydroxylysine_ind','Method']])\n",
        "# Plotting K-distance Graph\n",
        "distances = np.sort(distances, axis=0)\n",
        "distances = distances[:,1]\n"
      ],
      "metadata": {
        "id": "FEpYy4L0d3Rc"
      },
      "execution_count": null,
      "outputs": []
    },
    {
      "cell_type": "code",
      "source": [
        "plt.figure(figsize=(8,5))\n",
        "plt.plot(distances)\n",
        "plt.title('K-distance Graph',fontsize=20)\n",
        "plt.xlabel('Data Points sorted by distance',fontsize=14)\n",
        "plt.ylabel('Epsilon',fontsize=14)\n",
        "plt.show()"
      ],
      "metadata": {
        "id": "s71hpTsBdoSN",
        "outputId": "5e2ef4e8-c757-44e1-ee0d-f46176a31992",
        "colab": {
          "base_uri": "https://localhost:8080/",
          "height": 500
        }
      },
      "execution_count": null,
      "outputs": [
        {
          "output_type": "display_data",
          "data": {
            "text/plain": [
              "<Figure size 800x500 with 1 Axes>"
            ],
            "image/png": "[encoded data removed]"
          },
          "metadata": {}
        }
      ]
    },
    {
      "cell_type": "code",
      "source": [
        "model = DBSCAN(eps = 0.05, min_samples = 2).fit(df_dbscan)\n",
        "colors = model.labels_\n",
        "plt.figure(figsize=(10,7))\n",
        "plt.scatter(df_dbscan['hydroxylysine_ind'], df_dbscan['Method'], c = colors)\n",
        "plt.title('Outliers Detection using DBSCAN',fontsize=20)"
      ],
      "metadata": {
        "id": "Sr6XeJ6od-dD",
        "outputId": "f1409c07-6e66-444e-ea72-265949259fef",
        "colab": {
          "base_uri": "https://localhost:8080/",
          "height": 647
        }
      },
      "execution_count": null,
      "outputs": [
        {
          "output_type": "execute_result",
          "data": {
            "text/plain": [
              "Text(0.5, 1.0, 'Outliers Detection using DBSCAN')"
            ]
          },
          "metadata": {},
          "execution_count": 24
        },
        {
          "output_type": "display_data",
          "data": {
            "text/plain": [
              "<Figure size 1000x700 with 1 Axes>"
            ],
            "image/png": "[encoded data removed]"
          },
          "metadata": {}
        }
      ]
    },
    {
      "cell_type": "code",
      "source": [
        "from sklearn.cluster import DBSCAN\n",
        "\n",
        "\n",
        "outlier_detection = DBSCAN(eps = 0.05, metric = \"euclidean\", min_samples = 10, n_jobs = -1)\n",
        "#fit_predict the algorithm to the existing data\n",
        "clusters = outlier_detection.fit_predict(df_dbscan[['hydroxylysine_ind', 'Method']])\n",
        "\n",
        "#extract the labels from the algorithm\n",
        "df_dbscan[\"dbscan_outliers\"] = clusters\n",
        "#label all others as inliers\n",
        "df_dbscan[\"dbscan_outliers\"] = df_dbscan[\"dbscan_outliers\"].apply(lambda x: str(1) if x>-1 else str(-1))\n",
        "#print the vaue counts\n",
        "print(df_dbscan[\"dbscan_outliers\"].value_counts())"
      ],
      "metadata": {
        "id": "y3OuRGuaeCtK",
        "outputId": "c53935ca-7f0e-41b5-a72b-328618d8cdc5",
        "colab": {
          "base_uri": "https://localhost:8080/"
        }
      },
      "execution_count": null,
      "outputs": [
        {
          "output_type": "stream",
          "name": "stdout",
          "text": [
            "-1    39\n",
            "1     30\n",
            "Name: dbscan_outliers, dtype: int64\n"
          ]
        },
        {
          "output_type": "stream",
          "name": "stderr",
          "text": [
            "<ipython-input-25-b5cc82bd699c>:9: SettingWithCopyWarning: \n",
            "A value is trying to be set on a copy of a slice from a DataFrame.\n",
            "Try using .loc[row_indexer,col_indexer] = value instead\n",
            "\n",
            "See the caveats in the documentation: https://pandas.pydata.org/pandas-docs/stable/user_guide/indexing.html#returning-a-view-versus-a-copy\n",
            "  df_dbscan[\"dbscan_outliers\"] = clusters\n",
            "<ipython-input-25-b5cc82bd699c>:11: SettingWithCopyWarning: \n",
            "A value is trying to be set on a copy of a slice from a DataFrame.\n",
            "Try using .loc[row_indexer,col_indexer] = value instead\n",
            "\n",
            "See the caveats in the documentation: https://pandas.pydata.org/pandas-docs/stable/user_guide/indexing.html#returning-a-view-versus-a-copy\n",
            "  df_dbscan[\"dbscan_outliers\"] = df_dbscan[\"dbscan_outliers\"].apply(lambda x: str(1) if x>-1 else str(-1))\n"
          ]
        }
      ]
    },
    {
      "cell_type": "code",
      "source": [
        "\n",
        "import plotly.express as px\n",
        "\n",
        "#this plot will be repeated so it is better to create a function\n",
        "def scatter_plot(dataframe, x, y, color, title, hover_name):\n",
        "    \"\"\"Create a plotly express scatter plot with x and y values with a colour\n",
        "\n",
        "    Input:\n",
        "        dataframe: Dataframe containing columns for x, y, colour and hover_name data\n",
        "        x: The column to go on the x axis\n",
        "        y: Column name to go on the y axis\n",
        "        color: Column name to specify colour\n",
        "        title: Title for plot\n",
        "        hover_name: column name for hover\n",
        "\n",
        "    Returns:\n",
        "        Scatter plot figure\n",
        "    \"\"\"\n",
        "    #create the base scatter plot\n",
        "    fig = px.scatter(dataframe, x = x, y=y,\n",
        "                    color = color,\n",
        "                     hover_name = hover_name)\n",
        "    #set the layout conditions\n",
        "    fig.update_layout(title = title,\n",
        "                     title_x = 0.5)\n",
        "    #show the figure\n",
        "    fig.show()\n",
        "\n",
        "scatter_plot(df_dbscan, \"hydroxylysine_ind\", \"Method\", \"dbscan_outliers\",\n",
        "             \"DBScan Outlier Detection\",\n",
        "            \"hydroxylysine_ind\")"
      ],
      "metadata": {
        "id": "u5mmAioceF3D",
        "outputId": "856d32a8-3642-41d3-923a-64bd92967a3e",
        "colab": {
          "base_uri": "https://localhost:8080/",
          "height": 542
        }
      },
      "execution_count": null,
      "outputs": [
        {
          "output_type": "display_data",
          "data": {
            "text/html": [
              "<html>\n",
              "<head><meta charset=\"utf-8\" /></head>\n",
              "<body>\n",
              "    <div>            <script src=\"https://cdnjs.cloudflare.com/ajax/libs/mathjax/2.7.5/MathJax.js?config=TeX-AMS-MML_SVG\"></script><script type=\"text/javascript\">if (window.MathJax && window.MathJax.Hub && window.MathJax.Hub.Config) {window.MathJax.Hub.Config({SVG: {font: \"STIX-Web\"}});}</script>                <script type=\"text/javascript\">window.PlotlyConfig = {MathJaxConfig: 'local'};</script>\n",
              "        <script src=\"https://cdn.plot.ly/plotly-2.18.2.min.js\"></script>                <div id=\"8d3716f3-aa65-4978-b434-66a5fb1c21a7\" class=\"plotly-graph-div\" style=\"height:525px; width:100%;\"></div>            <script type=\"text/javascript\">                                    window.PLOTLYENV=window.PLOTLYENV || {};                                    if (document.getElementById(\"8d3716f3-aa65-4978-b434-66a5fb1c21a7\")) {                    Plotly.newPlot(                        \"8d3716f3-aa65-4978-b434-66a5fb1c21a7\",                        [{\"hovertemplate\":\"<b>%{hovertext}</b><br><br>dbscan_outliers=-1<br>hydroxylysine_ind=%{x}<br>Method=%{y}<extra></extra>\",\"hovertext\":[0.6854942160130983,0.20440981373442602,0.20388166228038862,0.5023474944471797,0.4662071527009161,0.32606065824717984,0.2690325112912843,0.28387177786277445,0.2021752517767983,0.33086544989393046,0.3696912664229048,0.2123462231209679,0.03019393692929434,0.2864553084461143,0.05032322951873319,0.013161459637003575,0.03871017655287173,0.3073588033936922,0.0,0.07354933545045617,0.24737738484456623,0.1594085077484766,0.07143963065238695,1.0000000000000002,0.04211667162035709,0.4800061931653367,0.290520340482405,0.6280508051308469,0.6955568976695625,0.7630629902082782,0.830569082746994,0.2230142479436894,0.26051763420787005,0.6636790213976163,0.7218092678590027,0.7518119741335376,0.7555623141283605,0.28489483439989866,0.6936817276721512],\"legendgroup\":\"-1\",\"marker\":{\"color\":\"#636efa\",\"symbol\":\"circle\"},\"mode\":\"markers\",\"name\":\"-1\",\"orientation\":\"v\",\"showlegend\":true,\"x\":[0.6854942160130983,0.20440981373442602,0.20388166228038862,0.5023474944471797,0.4662071527009161,0.32606065824717984,0.2690325112912843,0.28387177786277445,0.2021752517767983,0.33086544989393046,0.3696912664229048,0.2123462231209679,0.03019393692929434,0.2864553084461143,0.05032322951873319,0.013161459637003575,0.03871017655287173,0.3073588033936922,0.0,0.07354933545045617,0.24737738484456623,0.1594085077484766,0.07143963065238695,1.0000000000000002,0.04211667162035709,0.4800061931653367,0.290520340482405,0.6280508051308469,0.6955568976695625,0.7630629902082782,0.830569082746994,0.2230142479436894,0.26051763420787005,0.6636790213976163,0.7218092678590027,0.7518119741335376,0.7555623141283605,0.28489483439989866,0.6936817276721512],\"xaxis\":\"x\",\"y\":[0.0,0.16666666666666666,0.6666666666666666,0.33333333333333337,0.33333333333333337,0.33333333333333337,0.33333333333333337,0.33333333333333337,0.33333333333333337,0.33333333333333337,0.33333333333333337,0.33333333333333337,0.6666666666666666,0.6666666666666666,0.6666666666666666,0.6666666666666666,0.33333333333333337,0.33333333333333337,0.33333333333333337,0.33333333333333337,0.33333333333333337,0.33333333333333337,0.33333333333333337,0.8333333333333334,0.33333333333333337,0.9999999999999999,0.6666666666666666,0.6666666666666666,0.6666666666666666,0.6666666666666666,0.6666666666666666,0.6666666666666666,0.6666666666666666,0.6666666666666666,0.6666666666666666,0.6666666666666666,0.6666666666666666,0.6666666666666666,0.6666666666666666],\"yaxis\":\"y\",\"type\":\"scatter\"},{\"hovertemplate\":\"<b>%{hovertext}</b><br><br>dbscan_outliers=1<br>hydroxylysine_ind=%{x}<br>Method=%{y}<extra></extra>\",\"hovertext\":[0.3509851734244052,0.5582007505840831,0.4914493000349683,0.3568497652308112,0.5699205586694605,0.541793020437473,0.40678083340517784,0.3842788032105607,0.3617767730159434,0.38990431124793085,0.4105311734000007,0.5192909882879919,0.5586695425947199,0.32052304871180387,0.37302778713582013,0.39552981928530123,0.49303862005341575,0.5305420043627325,0.5361675124001029,0.346775418901244,0.3617767730159434,0.3917794812453423,0.44615938771190594,0.45928557378405793,0.4649110798665644,0.47053658790393466,0.5005392961333335,0.5830467427867485,0.6036736049388183,0.6074239429787773],\"legendgroup\":\"1\",\"marker\":{\"color\":\"#EF553B\",\"symbol\":\"circle\"},\"mode\":\"markers\",\"name\":\"1\",\"orientation\":\"v\",\"showlegend\":true,\"x\":[0.3509851734244052,0.5582007505840831,0.4914493000349683,0.3568497652308112,0.5699205586694605,0.541793020437473,0.40678083340517784,0.3842788032105607,0.3617767730159434,0.38990431124793085,0.4105311734000007,0.5192909882879919,0.5586695425947199,0.32052304871180387,0.37302778713582013,0.39552981928530123,0.49303862005341575,0.5305420043627325,0.5361675124001029,0.346775418901244,0.3617767730159434,0.3917794812453423,0.44615938771190594,0.45928557378405793,0.4649110798665644,0.47053658790393466,0.5005392961333335,0.5830467427867485,0.6036736049388183,0.6074239429787773],\"xaxis\":\"x\",\"y\":[0.6666666666666666,0.6666666666666666,0.6666666666666666,0.6666666666666666,0.6666666666666666,0.6666666666666666,0.6666666666666666,0.6666666666666666,0.6666666666666666,0.6666666666666666,0.6666666666666666,0.6666666666666666,0.6666666666666666,0.6666666666666666,0.6666666666666666,0.6666666666666666,0.6666666666666666,0.6666666666666666,0.6666666666666666,0.6666666666666666,0.6666666666666666,0.6666666666666666,0.6666666666666666,0.6666666666666666,0.6666666666666666,0.6666666666666666,0.6666666666666666,0.6666666666666666,0.6666666666666666,0.6666666666666666],\"yaxis\":\"y\",\"type\":\"scatter\"}],                        {\"template\":{\"data\":{\"histogram2dcontour\":[{\"type\":\"histogram2dcontour\",\"colorbar\":{\"outlinewidth\":0,\"ticks\":\"\"},\"colorscale\":[[0.0,\"#0d0887\"],[0.1111111111111111,\"#46039f\"],[0.2222222222222222,\"#7201a8\"],[0.3333333333333333,\"#9c179e\"],[0.4444444444444444,\"#bd3786\"],[0.5555555555555556,\"#d8576b\"],[0.6666666666666666,\"#ed7953\"],[0.7777777777777778,\"#fb9f3a\"],[0.8888888888888888,\"#fdca26\"],[1.0,\"#f0f921\"]]}],\"choropleth\":[{\"type\":\"choropleth\",\"colorbar\":{\"outlinewidth\":0,\"ticks\":\"\"}}],\"histogram2d\":[{\"type\":\"histogram2d\",\"colorbar\":{\"outlinewidth\":0,\"ticks\":\"\"},\"colorscale\":[[0.0,\"#0d0887\"],[0.1111111111111111,\"#46039f\"],[0.2222222222222222,\"#7201a8\"],[0.3333333333333333,\"#9c179e\"],[0.4444444444444444,\"#bd3786\"],[0.5555555555555556,\"#d8576b\"],[0.6666666666666666,\"#ed7953\"],[0.7777777777777778,\"#fb9f3a\"],[0.8888888888888888,\"#fdca26\"],[1.0,\"#f0f921\"]]}],\"heatmap\":[{\"type\":\"heatmap\",\"colorbar\":{\"outlinewidth\":0,\"ticks\":\"\"},\"colorscale\":[[0.0,\"#0d0887\"],[0.1111111111111111,\"#46039f\"],[0.2222222222222222,\"#7201a8\"],[0.3333333333333333,\"#9c179e\"],[0.4444444444444444,\"#bd3786\"],[0.5555555555555556,\"#d8576b\"],[0.6666666666666666,\"#ed7953\"],[0.7777777777777778,\"#fb9f3a\"],[0.8888888888888888,\"#fdca26\"],[1.0,\"#f0f921\"]]}],\"heatmapgl\":[{\"type\":\"heatmapgl\",\"colorbar\":{\"outlinewidth\":0,\"ticks\":\"\"},\"colorscale\":[[0.0,\"#0d0887\"],[0.1111111111111111,\"#46039f\"],[0.2222222222222222,\"#7201a8\"],[0.3333333333333333,\"#9c179e\"],[0.4444444444444444,\"#bd3786\"],[0.5555555555555556,\"#d8576b\"],[0.6666666666666666,\"#ed7953\"],[0.7777777777777778,\"#fb9f3a\"],[0.8888888888888888,\"#fdca26\"],[1.0,\"#f0f921\"]]}],\"contourcarpet\":[{\"type\":\"contourcarpet\",\"colorbar\":{\"outlinewidth\":0,\"ticks\":\"\"}}],\"contour\":[{\"type\":\"contour\",\"colorbar\":{\"outlinewidth\":0,\"ticks\":\"\"},\"colorscale\":[[0.0,\"#0d0887\"],[0.1111111111111111,\"#46039f\"],[0.2222222222222222,\"#7201a8\"],[0.3333333333333333,\"#9c179e\"],[0.4444444444444444,\"#bd3786\"],[0.5555555555555556,\"#d8576b\"],[0.6666666666666666,\"#ed7953\"],[0.7777777777777778,\"#fb9f3a\"],[0.8888888888888888,\"#fdca26\"],[1.0,\"#f0f921\"]]}],\"surface\":[{\"type\":\"surface\",\"colorbar\":{\"outlinewidth\":0,\"ticks\":\"\"},\"colorscale\":[[0.0,\"#0d0887\"],[0.1111111111111111,\"#46039f\"],[0.2222222222222222,\"#7201a8\"],[0.3333333333333333,\"#9c179e\"],[0.4444444444444444,\"#bd3786\"],[0.5555555555555556,\"#d8576b\"],[0.6666666666666666,\"#ed7953\"],[0.7777777777777778,\"#fb9f3a\"],[0.8888888888888888,\"#fdca26\"],[1.0,\"#f0f921\"]]}],\"mesh3d\":[{\"type\":\"mesh3d\",\"colorbar\":{\"outlinewidth\":0,\"ticks\":\"\"}}],\"scatter\":[{\"fillpattern\":{\"fillmode\":\"overlay\",\"size\":10,\"solidity\":0.2},\"type\":\"scatter\"}],\"parcoords\":[{\"type\":\"parcoords\",\"line\":{\"colorbar\":{\"outlinewidth\":0,\"ticks\":\"\"}}}],\"scatterpolargl\":[{\"type\":\"scatterpolargl\",\"marker\":{\"colorbar\":{\"outlinewidth\":0,\"ticks\":\"\"}}}],\"bar\":[{\"error_x\":{\"color\":\"#2a3f5f\"},\"error_y\":{\"color\":\"#2a3f5f\"},\"marker\":{\"line\":{\"color\":\"#E5ECF6\",\"width\":0.5},\"pattern\":{\"fillmode\":\"overlay\",\"size\":10,\"solidity\":0.2}},\"type\":\"bar\"}],\"scattergeo\":[{\"type\":\"scattergeo\",\"marker\":{\"colorbar\":{\"outlinewidth\":0,\"ticks\":\"\"}}}],\"scatterpolar\":[{\"type\":\"scatterpolar\",\"marker\":{\"colorbar\":{\"outlinewidth\":0,\"ticks\":\"\"}}}],\"histogram\":[{\"marker\":{\"pattern\":{\"fillmode\":\"overlay\",\"size\":10,\"solidity\":0.2}},\"type\":\"histogram\"}],\"scattergl\":[{\"type\":\"scattergl\",\"marker\":{\"colorbar\":{\"outlinewidth\":0,\"ticks\":\"\"}}}],\"scatter3d\":[{\"type\":\"scatter3d\",\"line\":{\"colorbar\":{\"outlinewidth\":0,\"ticks\":\"\"}},\"marker\":{\"colorbar\":{\"outlinewidth\":0,\"ticks\":\"\"}}}],\"scattermapbox\":[{\"type\":\"scattermapbox\",\"marker\":{\"colorbar\":{\"outlinewidth\":0,\"ticks\":\"\"}}}],\"scatterternary\":[{\"type\":\"scatterternary\",\"marker\":{\"colorbar\":{\"outlinewidth\":0,\"ticks\":\"\"}}}],\"scattercarpet\":[{\"type\":\"scattercarpet\",\"marker\":{\"colorbar\":{\"outlinewidth\":0,\"ticks\":\"\"}}}],\"carpet\":[{\"aaxis\":{\"endlinecolor\":\"#2a3f5f\",\"gridcolor\":\"white\",\"linecolor\":\"white\",\"minorgridcolor\":\"white\",\"startlinecolor\":\"#2a3f5f\"},\"baxis\":{\"endlinecolor\":\"#2a3f5f\",\"gridcolor\":\"white\",\"linecolor\":\"white\",\"minorgridcolor\":\"white\",\"startlinecolor\":\"#2a3f5f\"},\"type\":\"carpet\"}],\"table\":[{\"cells\":{\"fill\":{\"color\":\"#EBF0F8\"},\"line\":{\"color\":\"white\"}},\"header\":{\"fill\":{\"color\":\"#C8D4E3\"},\"line\":{\"color\":\"white\"}},\"type\":\"table\"}],\"barpolar\":[{\"marker\":{\"line\":{\"color\":\"#E5ECF6\",\"width\":0.5},\"pattern\":{\"fillmode\":\"overlay\",\"size\":10,\"solidity\":0.2}},\"type\":\"barpolar\"}],\"pie\":[{\"automargin\":true,\"type\":\"pie\"}]},\"layout\":{\"autotypenumbers\":\"strict\",\"colorway\":[\"#636efa\",\"#EF553B\",\"#00cc96\",\"#ab63fa\",\"#FFA15A\",\"#19d3f3\",\"#FF6692\",\"#B6E880\",\"#FF97FF\",\"#FECB52\"],\"font\":{\"color\":\"#2a3f5f\"},\"hovermode\":\"closest\",\"hoverlabel\":{\"align\":\"left\"},\"paper_bgcolor\":\"white\",\"plot_bgcolor\":\"#E5ECF6\",\"polar\":{\"bgcolor\":\"#E5ECF6\",\"angularaxis\":{\"gridcolor\":\"white\",\"linecolor\":\"white\",\"ticks\":\"\"},\"radialaxis\":{\"gridcolor\":\"white\",\"linecolor\":\"white\",\"ticks\":\"\"}},\"ternary\":{\"bgcolor\":\"#E5ECF6\",\"aaxis\":{\"gridcolor\":\"white\",\"linecolor\":\"white\",\"ticks\":\"\"},\"baxis\":{\"gridcolor\":\"white\",\"linecolor\":\"white\",\"ticks\":\"\"},\"caxis\":{\"gridcolor\":\"white\",\"linecolor\":\"white\",\"ticks\":\"\"}},\"coloraxis\":{\"colorbar\":{\"outlinewidth\":0,\"ticks\":\"\"}},\"colorscale\":{\"sequential\":[[0.0,\"#0d0887\"],[0.1111111111111111,\"#46039f\"],[0.2222222222222222,\"#7201a8\"],[0.3333333333333333,\"#9c179e\"],[0.4444444444444444,\"#bd3786\"],[0.5555555555555556,\"#d8576b\"],[0.6666666666666666,\"#ed7953\"],[0.7777777777777778,\"#fb9f3a\"],[0.8888888888888888,\"#fdca26\"],[1.0,\"#f0f921\"]],\"sequentialminus\":[[0.0,\"#0d0887\"],[0.1111111111111111,\"#46039f\"],[0.2222222222222222,\"#7201a8\"],[0.3333333333333333,\"#9c179e\"],[0.4444444444444444,\"#bd3786\"],[0.5555555555555556,\"#d8576b\"],[0.6666666666666666,\"#ed7953\"],[0.7777777777777778,\"#fb9f3a\"],[0.8888888888888888,\"#fdca26\"],[1.0,\"#f0f921\"]],\"diverging\":[[0,\"#8e0152\"],[0.1,\"#c51b7d\"],[0.2,\"#de77ae\"],[0.3,\"#f1b6da\"],[0.4,\"#fde0ef\"],[0.5,\"#f7f7f7\"],[0.6,\"#e6f5d0\"],[0.7,\"#b8e186\"],[0.8,\"#7fbc41\"],[0.9,\"#4d9221\"],[1,\"#276419\"]]},\"xaxis\":{\"gridcolor\":\"white\",\"linecolor\":\"white\",\"ticks\":\"\",\"title\":{\"standoff\":15},\"zerolinecolor\":\"white\",\"automargin\":true,\"zerolinewidth\":2},\"yaxis\":{\"gridcolor\":\"white\",\"linecolor\":\"white\",\"ticks\":\"\",\"title\":{\"standoff\":15},\"zerolinecolor\":\"white\",\"automargin\":true,\"zerolinewidth\":2},\"scene\":{\"xaxis\":{\"backgroundcolor\":\"#E5ECF6\",\"gridcolor\":\"white\",\"linecolor\":\"white\",\"showbackground\":true,\"ticks\":\"\",\"zerolinecolor\":\"white\",\"gridwidth\":2},\"yaxis\":{\"backgroundcolor\":\"#E5ECF6\",\"gridcolor\":\"white\",\"linecolor\":\"white\",\"showbackground\":true,\"ticks\":\"\",\"zerolinecolor\":\"white\",\"gridwidth\":2},\"zaxis\":{\"backgroundcolor\":\"#E5ECF6\",\"gridcolor\":\"white\",\"linecolor\":\"white\",\"showbackground\":true,\"ticks\":\"\",\"zerolinecolor\":\"white\",\"gridwidth\":2}},\"shapedefaults\":{\"line\":{\"color\":\"#2a3f5f\"}},\"annotationdefaults\":{\"arrowcolor\":\"#2a3f5f\",\"arrowhead\":0,\"arrowwidth\":1},\"geo\":{\"bgcolor\":\"white\",\"landcolor\":\"#E5ECF6\",\"subunitcolor\":\"white\",\"showland\":true,\"showlakes\":true,\"lakecolor\":\"white\"},\"title\":{\"x\":0.05},\"mapbox\":{\"style\":\"light\"}}},\"xaxis\":{\"anchor\":\"y\",\"domain\":[0.0,1.0],\"title\":{\"text\":\"hydroxylysine_ind\"}},\"yaxis\":{\"anchor\":\"x\",\"domain\":[0.0,1.0],\"title\":{\"text\":\"Method\"}},\"legend\":{\"title\":{\"text\":\"dbscan_outliers\"},\"tracegroupgap\":0},\"margin\":{\"t\":60},\"title\":{\"text\":\"DBScan Outlier Detection\",\"x\":0.5}},                        {\"responsive\": true}                    ).then(function(){\n",
              "                            \n",
              "var gd = document.getElementById('8d3716f3-aa65-4978-b434-66a5fb1c21a7');\n",
              "var x = new MutationObserver(function (mutations, observer) {{\n",
              "        var display = window.getComputedStyle(gd).display;\n",
              "        if (!display || display === 'none') {{\n",
              "            console.log([gd, 'removed!']);\n",
              "            Plotly.purge(gd);\n",
              "            observer.disconnect();\n",
              "        }}\n",
              "}});\n",
              "\n",
              "// Listen for the removal of the full notebook cells\n",
              "var notebookContainer = gd.closest('#notebook-container');\n",
              "if (notebookContainer) {{\n",
              "    x.observe(notebookContainer, {childList: true});\n",
              "}}\n",
              "\n",
              "// Listen for the clearing of the current output cell\n",
              "var outputEl = gd.closest('.output');\n",
              "if (outputEl) {{\n",
              "    x.observe(outputEl, {childList: true});\n",
              "}}\n",
              "\n",
              "                        })                };                            </script>        </div>\n",
              "</body>\n",
              "</html>"
            ]
          },
          "metadata": {}
        }
      ]
    },
    {
      "cell_type": "code",
      "source": [
        "df_dbscan = df1[[\n",
        "    \"Cell1\",\n",
        "    \"Type\",\n",
        "    \"Method\",\n",
        "    \"%hydroxylysine_ind\"\n",
        "    ]]\n",
        "df_dbscan.rename(columns = {'%hydroxylysine_ind':'hydroxylysine_ind'}, inplace = True)\n",
        "df_dbscan"
      ],
      "metadata": {
        "id": "vdfOuwYUc1R-"
      },
      "execution_count": null,
      "outputs": []
    },
    {
      "cell_type": "code",
      "source": [],
      "metadata": {
        "id": "1OiTwWbNfvbQ"
      },
      "execution_count": null,
      "outputs": []
    },
    {
      "cell_type": "markdown",
      "metadata": {
        "id": "DOCT0c4NW7vd"
      },
      "source": [
        "## Roadmap"
      ]
    },
    {
      "cell_type": "markdown",
      "metadata": {
        "id": "LZWIS-9daoO_"
      },
      "source": [
        "- [x] Empirical distribution (https://machinelearningmastery.com/empirical-distribution-function-in-python/)\n",
        "\n",
        "##############################\n",
        "\n",
        "- [ ] Check distribution of each column (normal, Bernoulli (maybe others))\n",
        "- [ ] Generate data based on those distributions 🙂\n",
        "\n",
        "##############################\n",
        "\n",
        "- [ ] Statistical test for normality\n",
        "\n",
        "- [ ] Get mean and std if normal and simulate data from those values\n",
        "\n",
        "- [ ] Oversampling methods (SMOTE)\n",
        "\n",
        "- [ ] Clusters or Groups\n",
        "\n",
        "  - [ ] Apply some techniques for simulate data from above\n",
        "\n",
        "##############################\n",
        "\n",
        "- [ ] sample (increase variability)\n",
        "- [ ] see distribution\n",
        "- [ ] randomize\n",
        "\n",
        "##############################\n",
        "\n",
        "- [x] add control patient data -> put type = 0\n",
        "- [ ] determine OI type for type 9 patients based on other records\n",
        "- [ ] convert type to categorical\n",
        "- [ ] check distributions"
      ]
    },
    {
      "cell_type": "markdown",
      "metadata": {
        "id": "a60nKOn1fDcx"
      },
      "source": [
        "## Base dataframe"
      ]
    },
    {
      "cell_type": "code",
      "execution_count": null,
      "metadata": {
        "colab": {
          "base_uri": "https://localhost:8080/",
          "height": 1000
        },
        "id": "qN9_QXeyfCq8",
        "outputId": "66aa8d33-9214-4eb0-a353-443e2ff868ba"
      },
      "outputs": [
        {
          "data": {
            "text/html": [
              "<div>\n",
              "<style scoped>\n",
              "    .dataframe tbody tr th:only-of-type {\n",
              "        vertical-align: middle;\n",
              "    }\n",
              "\n",
              "    .dataframe tbody tr th {\n",
              "        vertical-align: top;\n",
              "    }\n",
              "\n",
              "    .dataframe thead th {\n",
              "        text-align: right;\n",
              "    }\n",
              "</style>\n",
              "<table border=\"1\" class=\"dataframe\">\n",
              "  <thead>\n",
              "    <tr style=\"text-align: right;\">\n",
              "      <th></th>\n",
              "      <th>ID</th>\n",
              "      <th>Cell1</th>\n",
              "      <th>Age</th>\n",
              "      <th>Sex</th>\n",
              "      <th>Type</th>\n",
              "      <th>Method</th>\n",
              "      <th>%hydroxylysine_ind</th>\n",
              "      <th>errors</th>\n",
              "    </tr>\n",
              "  </thead>\n",
              "  <tbody>\n",
              "    <tr>\n",
              "      <th>1</th>\n",
              "      <td>8</td>\n",
              "      <td>2</td>\n",
              "      <td>1</td>\n",
              "      <td>1</td>\n",
              "      <td>2</td>\n",
              "      <td>2</td>\n",
              "      <td>0.219020</td>\n",
              "      <td>Others</td>\n",
              "    </tr>\n",
              "    <tr>\n",
              "      <th>2</th>\n",
              "      <td>15</td>\n",
              "      <td>1</td>\n",
              "      <td>1</td>\n",
              "      <td>2</td>\n",
              "      <td>2</td>\n",
              "      <td>5</td>\n",
              "      <td>0.218750</td>\n",
              "      <td>Others</td>\n",
              "    </tr>\n",
              "    <tr>\n",
              "      <th>3</th>\n",
              "      <td>15</td>\n",
              "      <td>2</td>\n",
              "      <td>1</td>\n",
              "      <td>2</td>\n",
              "      <td>2</td>\n",
              "      <td>3</td>\n",
              "      <td>0.371429</td>\n",
              "      <td>Others</td>\n",
              "    </tr>\n",
              "    <tr>\n",
              "      <th>4</th>\n",
              "      <td>15</td>\n",
              "      <td>2</td>\n",
              "      <td>1</td>\n",
              "      <td>2</td>\n",
              "      <td>2</td>\n",
              "      <td>3</td>\n",
              "      <td>0.352941</td>\n",
              "      <td>Others</td>\n",
              "    </tr>\n",
              "    <tr>\n",
              "      <th>5</th>\n",
              "      <td>25</td>\n",
              "      <td>1</td>\n",
              "      <td>1</td>\n",
              "      <td>1</td>\n",
              "      <td>2</td>\n",
              "      <td>5</td>\n",
              "      <td>0.294000</td>\n",
              "      <td>Others</td>\n",
              "    </tr>\n",
              "    <tr>\n",
              "      <th>...</th>\n",
              "      <td>...</td>\n",
              "      <td>...</td>\n",
              "      <td>...</td>\n",
              "      <td>...</td>\n",
              "      <td>...</td>\n",
              "      <td>...</td>\n",
              "      <td>...</td>\n",
              "      <td>...</td>\n",
              "    </tr>\n",
              "    <tr>\n",
              "      <th>42</th>\n",
              "      <td>207</td>\n",
              "      <td>1</td>\n",
              "      <td>5</td>\n",
              "      <td>3</td>\n",
              "      <td>10</td>\n",
              "      <td>7</td>\n",
              "      <td>0.243000</td>\n",
              "      <td>Others</td>\n",
              "    </tr>\n",
              "    <tr>\n",
              "      <th>43</th>\n",
              "      <td>243</td>\n",
              "      <td>1</td>\n",
              "      <td>2</td>\n",
              "      <td>3</td>\n",
              "      <td>10</td>\n",
              "      <td>7</td>\n",
              "      <td>0.198000</td>\n",
              "      <td>Others</td>\n",
              "    </tr>\n",
              "    <tr>\n",
              "      <th>44</th>\n",
              "      <td>265</td>\n",
              "      <td>1</td>\n",
              "      <td>5</td>\n",
              "      <td>3</td>\n",
              "      <td>10</td>\n",
              "      <td>7</td>\n",
              "      <td>0.235000</td>\n",
              "      <td>Others</td>\n",
              "    </tr>\n",
              "    <tr>\n",
              "      <th>45</th>\n",
              "      <td>352</td>\n",
              "      <td>1</td>\n",
              "      <td>5</td>\n",
              "      <td>3</td>\n",
              "      <td>10</td>\n",
              "      <td>7</td>\n",
              "      <td>0.210000</td>\n",
              "      <td>Others</td>\n",
              "    </tr>\n",
              "    <tr>\n",
              "      <th>46</th>\n",
              "      <td>377</td>\n",
              "      <td>1</td>\n",
              "      <td>2</td>\n",
              "      <td>2</td>\n",
              "      <td>10</td>\n",
              "      <td>7</td>\n",
              "      <td>0.305700</td>\n",
              "      <td>Others</td>\n",
              "    </tr>\n",
              "  </tbody>\n",
              "</table>\n",
              "<p>104 rows × 8 columns</p>\n",
              "</div>"
            ],
            "text/plain": [
              "     ID  Cell1  Age  Sex  Type  Method  %hydroxylysine_ind  errors\n",
              "1     8      2    1    1     2       2            0.219020  Others\n",
              "2    15      1    1    2     2       5            0.218750  Others\n",
              "3    15      2    1    2     2       3            0.371429  Others\n",
              "4    15      2    1    2     2       3            0.352941  Others\n",
              "5    25      1    1    1     2       5            0.294000  Others\n",
              "..  ...    ...  ...  ...   ...     ...                 ...     ...\n",
              "42  207      1    5    3    10       7            0.243000  Others\n",
              "43  243      1    2    3    10       7            0.198000  Others\n",
              "44  265      1    5    3    10       7            0.235000  Others\n",
              "45  352      1    5    3    10       7            0.210000  Others\n",
              "46  377      1    2    2    10       7            0.305700  Others\n",
              "\n",
              "[104 rows x 8 columns]"
            ]
          },
          "execution_count": 135,
          "metadata": {},
          "output_type": "execute_result"
        }
      ],
      "source": [
        "df_base = df_sel[[\n",
        "  'ID',\n",
        "  'Cell1',\n",
        "  'Age',\n",
        "  'Sex',\n",
        "  'Type',\n",
        "  'Method',\n",
        "  '%hydroxylysine_ind',\n",
        "  'errors'\n",
        "]]\n",
        "df_base"
      ]
    },
    {
      "cell_type": "code",
      "execution_count": null,
      "metadata": {
        "id": "oUokLvh6fHmg",
        "outputId": "84488544-260a-4cc8-d8bd-742e9e7bb924"
      },
      "outputs": [
        {
          "data": {
            "image/png": "[encoded data removed]",
            "text/plain": [
              "<Figure size 640x480 with 1 Axes>"
            ]
          },
          "metadata": {},
          "output_type": "display_data"
        }
      ],
      "source": [
        "df_base['ID'].value_counts()\n",
        "\n",
        "plt.figure()\n",
        "freq = df_base['ID'].value_counts() / sum(df_base['ID'].value_counts())\n",
        "freq.plot(kind = 'bar')\n",
        "plt.xlabel('Article ID')\n",
        "plt.ylabel('% Frequency')\n",
        "plt.show()"
      ]
    },
    {
      "cell_type": "code",
      "execution_count": null,
      "metadata": {
        "id": "3Y4xS6DyfHmg",
        "outputId": "ac38d4b0-2b5e-422c-9b98-0ab7cbeb7243"
      },
      "outputs": [
        {
          "name": "stderr",
          "output_type": "stream",
          "text": [
            "C:\\Users\\user\\AppData\\Local\\Temp\\ipykernel_47952\\606909762.py:6: UserWarning: The palette list has more values (10) than needed (3), which may not be intended.\n",
            "  sns.displot(\n",
            "C:\\Users\\user\\AppData\\Local\\Temp\\ipykernel_47952\\606909762.py:6: UserWarning: The palette list has more values (10) than needed (3), which may not be intended.\n",
            "  sns.displot(\n",
            "C:\\Users\\user\\AppData\\Local\\Temp\\ipykernel_47952\\606909762.py:6: UserWarning: The palette list has more values (10) than needed (3), which may not be intended.\n",
            "  sns.displot(\n",
            "C:\\Users\\user\\AppData\\Local\\Temp\\ipykernel_47952\\606909762.py:6: UserWarning: The palette list has more values (10) than needed (3), which may not be intended.\n",
            "  sns.displot(\n"
          ]
        },
        {
          "name": "stderr",
          "output_type": "stream",
          "text": [
            "C:\\Users\\user\\AppData\\Local\\Temp\\ipykernel_47952\\606909762.py:6: UserWarning: The palette list has more values (10) than needed (3), which may not be intended.\n",
            "  sns.displot(\n",
            "C:\\Users\\user\\AppData\\Local\\Temp\\ipykernel_47952\\606909762.py:6: UserWarning: The palette list has more values (10) than needed (3), which may not be intended.\n",
            "  sns.displot(\n"
          ]
        },
        {
          "data": {
            "text/plain": [
              "<Figure size 400x200 with 0 Axes>"
            ]
          },
          "metadata": {},
          "output_type": "display_data"
        },
        {
          "data": {
            "image/png": "[encoded data removed]",
            "text/plain": [
              "<Figure size 496.5x200 with 1 Axes>"
            ]
          },
          "metadata": {},
          "output_type": "display_data"
        },
        {
          "data": {
            "image/png": "[encoded data removed]",
            "text/plain": [
              "<Figure size 496.5x200 with 1 Axes>"
            ]
          },
          "metadata": {},
          "output_type": "display_data"
        },
        {
          "data": {
            "image/png": "[encoded data removed]",
            "text/plain": [
              "<Figure size 496.5x200 with 1 Axes>"
            ]
          },
          "metadata": {},
          "output_type": "display_data"
        },
        {
          "data": {
            "image/png": "[encoded data removed]",
            "text/plain": [
              "<Figure size 496.5x200 with 1 Axes>"
            ]
          },
          "metadata": {},
          "output_type": "display_data"
        },
        {
          "data": {
            "image/png": "[encoded data removed]",
            "text/plain": [
              "<Figure size 496.5x200 with 1 Axes>"
            ]
          },
          "metadata": {},
          "output_type": "display_data"
        },
        {
          "data": {
            "image/png": "[encoded data removed]",
            "text/plain": [
              "<Figure size 496.5x200 with 1 Axes>"
            ]
          },
          "metadata": {},
          "output_type": "display_data"
        }
      ],
      "source": [
        "columns = [\n",
        "    'Cell1', 'Age', 'Sex', 'Type', 'Method', '%hydroxylysine_ind'\n",
        "]\n",
        "plt.figure(figsize=(4,2))\n",
        "for c in columns:\n",
        "    sns.displot(\n",
        "        df_base, x = c,\n",
        "        hue=\"errors\",\n",
        "        palette = sns.color_palette(),\n",
        "        height = 2,\n",
        "        aspect=2\n",
        "    )\n",
        "    plt.title(c)\n",
        "plt.show()"
      ]
    },
    {
      "cell_type": "markdown",
      "metadata": {
        "id": "DF9h5UZofHmg"
      },
      "source": [
        "- [ ] Sex seems odd.What does the values mean?"
      ]
    },
    {
      "cell_type": "code",
      "execution_count": null,
      "metadata": {
        "id": "qcxQEuxgfHmg",
        "outputId": "8f4a8693-fb06-4881-8bab-d57a8d2783cb"
      },
      "outputs": [
        {
          "data": {
            "text/plain": [
              "array([1, 2, 3], dtype=int64)"
            ]
          },
          "execution_count": 138,
          "metadata": {},
          "output_type": "execute_result"
        }
      ],
      "source": [
        "df_base.Sex.unique()"
      ]
    },
    {
      "cell_type": "markdown",
      "metadata": {
        "id": "gaOUXSphfHmh"
      },
      "source": [
        "- [ ] Dropping Sex and Age because they have too much imputated data."
      ]
    },
    {
      "cell_type": "code",
      "execution_count": null,
      "metadata": {
        "id": "AX1VJP-CfHmh",
        "outputId": "bda53811-cd80-485e-a665-d17416339439"
      },
      "outputs": [
        {
          "data": {
            "text/html": [
              "<div>\n",
              "<style scoped>\n",
              "    .dataframe tbody tr th:only-of-type {\n",
              "        vertical-align: middle;\n",
              "    }\n",
              "\n",
              "    .dataframe tbody tr th {\n",
              "        vertical-align: top;\n",
              "    }\n",
              "\n",
              "    .dataframe thead th {\n",
              "        text-align: right;\n",
              "    }\n",
              "</style>\n",
              "<table border=\"1\" class=\"dataframe\">\n",
              "  <thead>\n",
              "    <tr style=\"text-align: right;\">\n",
              "      <th></th>\n",
              "      <th>ID</th>\n",
              "      <th>Cell1</th>\n",
              "      <th>Age</th>\n",
              "      <th>Sex</th>\n",
              "      <th>Type</th>\n",
              "      <th>Method</th>\n",
              "      <th>%hydroxylysine_ind</th>\n",
              "      <th>errors</th>\n",
              "    </tr>\n",
              "  </thead>\n",
              "  <tbody>\n",
              "    <tr>\n",
              "      <th>1</th>\n",
              "      <td>8</td>\n",
              "      <td>2</td>\n",
              "      <td>1</td>\n",
              "      <td>1</td>\n",
              "      <td>2</td>\n",
              "      <td>2</td>\n",
              "      <td>0.219020</td>\n",
              "      <td>Others</td>\n",
              "    </tr>\n",
              "    <tr>\n",
              "      <th>2</th>\n",
              "      <td>15</td>\n",
              "      <td>1</td>\n",
              "      <td>1</td>\n",
              "      <td>2</td>\n",
              "      <td>2</td>\n",
              "      <td>5</td>\n",
              "      <td>0.218750</td>\n",
              "      <td>Others</td>\n",
              "    </tr>\n",
              "    <tr>\n",
              "      <th>3</th>\n",
              "      <td>15</td>\n",
              "      <td>2</td>\n",
              "      <td>1</td>\n",
              "      <td>2</td>\n",
              "      <td>2</td>\n",
              "      <td>3</td>\n",
              "      <td>0.371429</td>\n",
              "      <td>Others</td>\n",
              "    </tr>\n",
              "    <tr>\n",
              "      <th>4</th>\n",
              "      <td>15</td>\n",
              "      <td>2</td>\n",
              "      <td>1</td>\n",
              "      <td>2</td>\n",
              "      <td>2</td>\n",
              "      <td>3</td>\n",
              "      <td>0.352941</td>\n",
              "      <td>Others</td>\n",
              "    </tr>\n",
              "    <tr>\n",
              "      <th>5</th>\n",
              "      <td>25</td>\n",
              "      <td>1</td>\n",
              "      <td>1</td>\n",
              "      <td>1</td>\n",
              "      <td>2</td>\n",
              "      <td>5</td>\n",
              "      <td>0.294000</td>\n",
              "      <td>Others</td>\n",
              "    </tr>\n",
              "    <tr>\n",
              "      <th>...</th>\n",
              "      <td>...</td>\n",
              "      <td>...</td>\n",
              "      <td>...</td>\n",
              "      <td>...</td>\n",
              "      <td>...</td>\n",
              "      <td>...</td>\n",
              "      <td>...</td>\n",
              "      <td>...</td>\n",
              "    </tr>\n",
              "    <tr>\n",
              "      <th>42</th>\n",
              "      <td>207</td>\n",
              "      <td>1</td>\n",
              "      <td>5</td>\n",
              "      <td>3</td>\n",
              "      <td>10</td>\n",
              "      <td>7</td>\n",
              "      <td>0.243000</td>\n",
              "      <td>Others</td>\n",
              "    </tr>\n",
              "    <tr>\n",
              "      <th>43</th>\n",
              "      <td>243</td>\n",
              "      <td>1</td>\n",
              "      <td>2</td>\n",
              "      <td>3</td>\n",
              "      <td>10</td>\n",
              "      <td>7</td>\n",
              "      <td>0.198000</td>\n",
              "      <td>Others</td>\n",
              "    </tr>\n",
              "    <tr>\n",
              "      <th>44</th>\n",
              "      <td>265</td>\n",
              "      <td>1</td>\n",
              "      <td>5</td>\n",
              "      <td>3</td>\n",
              "      <td>10</td>\n",
              "      <td>7</td>\n",
              "      <td>0.235000</td>\n",
              "      <td>Others</td>\n",
              "    </tr>\n",
              "    <tr>\n",
              "      <th>45</th>\n",
              "      <td>352</td>\n",
              "      <td>1</td>\n",
              "      <td>5</td>\n",
              "      <td>3</td>\n",
              "      <td>10</td>\n",
              "      <td>7</td>\n",
              "      <td>0.210000</td>\n",
              "      <td>Others</td>\n",
              "    </tr>\n",
              "    <tr>\n",
              "      <th>46</th>\n",
              "      <td>377</td>\n",
              "      <td>1</td>\n",
              "      <td>2</td>\n",
              "      <td>2</td>\n",
              "      <td>10</td>\n",
              "      <td>7</td>\n",
              "      <td>0.305700</td>\n",
              "      <td>Others</td>\n",
              "    </tr>\n",
              "  </tbody>\n",
              "</table>\n",
              "<p>104 rows × 8 columns</p>\n",
              "</div>"
            ],
            "text/plain": [
              "     ID  Cell1  Age  Sex  Type  Method  %hydroxylysine_ind  errors\n",
              "1     8      2    1    1     2       2            0.219020  Others\n",
              "2    15      1    1    2     2       5            0.218750  Others\n",
              "3    15      2    1    2     2       3            0.371429  Others\n",
              "4    15      2    1    2     2       3            0.352941  Others\n",
              "5    25      1    1    1     2       5            0.294000  Others\n",
              "..  ...    ...  ...  ...   ...     ...                 ...     ...\n",
              "42  207      1    5    3    10       7            0.243000  Others\n",
              "43  243      1    2    3    10       7            0.198000  Others\n",
              "44  265      1    5    3    10       7            0.235000  Others\n",
              "45  352      1    5    3    10       7            0.210000  Others\n",
              "46  377      1    2    2    10       7            0.305700  Others\n",
              "\n",
              "[104 rows x 8 columns]"
            ]
          },
          "execution_count": 139,
          "metadata": {},
          "output_type": "execute_result"
        }
      ],
      "source": [
        "df_base = df_base[[\n",
        "    'ID',\n",
        "    'Cell1',\n",
        "    'Age',\n",
        "    'Sex',\n",
        "    'Type',\n",
        "    'Method',\n",
        "    '%hydroxylysine_ind',\n",
        "    'errors'\n",
        "]]\n",
        "df_base"
      ]
    },
    {
      "cell_type": "markdown",
      "metadata": {
        "id": "YdtUxV9MfHmh"
      },
      "source": [
        "Empty values that can be droped. None."
      ]
    },
    {
      "cell_type": "code",
      "execution_count": null,
      "metadata": {
        "id": "hj5vNwRQfHmh",
        "outputId": "c32a63dc-f642-4275-cd61-72d68e8c0385"
      },
      "outputs": [
        {
          "data": {
            "text/html": [
              "<div>\n",
              "<style scoped>\n",
              "    .dataframe tbody tr th:only-of-type {\n",
              "        vertical-align: middle;\n",
              "    }\n",
              "\n",
              "    .dataframe tbody tr th {\n",
              "        vertical-align: top;\n",
              "    }\n",
              "\n",
              "    .dataframe thead th {\n",
              "        text-align: right;\n",
              "    }\n",
              "</style>\n",
              "<table border=\"1\" class=\"dataframe\">\n",
              "  <thead>\n",
              "    <tr style=\"text-align: right;\">\n",
              "      <th></th>\n",
              "      <th>ID</th>\n",
              "      <th>Cell1</th>\n",
              "      <th>Type</th>\n",
              "      <th>Method</th>\n",
              "      <th>%hydroxylysine_ind</th>\n",
              "      <th>errors</th>\n",
              "    </tr>\n",
              "  </thead>\n",
              "  <tbody>\n",
              "  </tbody>\n",
              "</table>\n",
              "</div>"
            ],
            "text/plain": [
              "Empty DataFrame\n",
              "Columns: [ID, Cell1, Type, Method, %hydroxylysine_ind, errors]\n",
              "Index: []"
            ]
          },
          "execution_count": 94,
          "metadata": {},
          "output_type": "execute_result"
        }
      ],
      "source": [
        "df_base[df_base.isna().any(axis=1)]"
      ]
    },
    {
      "cell_type": "markdown",
      "metadata": {
        "id": "unE2oG9dfHmh"
      },
      "source": [
        "## Prediction"
      ]
    },
    {
      "cell_type": "code",
      "execution_count": null,
      "metadata": {
        "id": "yP0f7msFfHmh"
      },
      "outputs": [],
      "source": [
        "from sklearn.model_selection import train_test_split\n",
        "from sklearn.model_selection import RepeatedKFold\n",
        "from sklearn.model_selection import cross_val_score\n",
        "from sklearn.metrics import mean_absolute_percentage_error as MAPE\n",
        "from sklearn.metrics import mean_squared_error as RMSE\n",
        "\n",
        "import xgboost as xgb"
      ]
    },
    {
      "cell_type": "code",
      "execution_count": null,
      "metadata": {
        "id": "G9xPLfNpfHmh",
        "outputId": "9e650516-70ed-49a6-f123-a9cdba113122"
      },
      "outputs": [
        {
          "data": {
            "text/plain": [
              "Index(['ID', 'Cell1', 'Type', 'Method', '%hydroxylysine_ind', 'errors'], dtype='object')"
            ]
          },
          "execution_count": 96,
          "metadata": {},
          "output_type": "execute_result"
        }
      ],
      "source": [
        "df_base.columns"
      ]
    },
    {
      "cell_type": "code",
      "execution_count": null,
      "metadata": {
        "id": "fPBTYUJafHml"
      },
      "outputs": [],
      "source": [
        "x_col = [\n",
        "    'Cell1',\n",
        "    'Age',\n",
        "    'Sex',\n",
        "    'Type',\n",
        "    'Method']\n",
        "y_col = ['%hydroxylysine_ind']"
      ]
    },
    {
      "cell_type": "markdown",
      "metadata": {
        "id": "VdBA2aCVfHmm"
      },
      "source": [
        "### Train and test split"
      ]
    },
    {
      "cell_type": "code",
      "execution_count": null,
      "metadata": {
        "id": "dHCmnLY6fHmm"
      },
      "outputs": [],
      "source": [
        "x_train, x_test, y_train, y_test = train_test_split(df_base[x_col], df_base[y_col], test_size = 0.3)"
      ]
    },
    {
      "cell_type": "markdown",
      "metadata": {
        "id": "PolsZcIufHmm"
      },
      "source": [
        "### Best result by random folds"
      ]
    },
    {
      "cell_type": "code",
      "execution_count": null,
      "metadata": {
        "id": "i35A1LC4fHmm",
        "outputId": "a9bafe00-a3d5-46a6-e49d-46cf9a43952e"
      },
      "outputs": [
        {
          "name": "stdout",
          "output_type": "stream",
          "text": [
            "Mean MAPE: 0.255; Sdv MAPE: 0.101\n"
          ]
        }
      ],
      "source": [
        "xgb_r = xgb.XGBRegressor()\n",
        "\n",
        "cv = RepeatedKFold(n_splits=10, n_repeats=3)\n",
        "# evaluate model\n",
        "scores = cross_val_score(xgb_r, df_sel[x_col], df_sel[y_col], scoring='neg_mean_absolute_percentage_error', cv = cv, n_jobs = -1)\n",
        "scores = abs(scores)\n",
        "print('Mean MAPE: %.3f; Sdv MAPE: %.3f' % (scores.mean(), scores.std()) )"
      ]
    },
    {
      "cell_type": "markdown",
      "metadata": {
        "id": "tuapWg9RfHmm"
      },
      "source": [
        "### GridSearch"
      ]
    },
    {
      "cell_type": "markdown",
      "metadata": {
        "id": "OUdGDVcrfHmm"
      },
      "source": [
        "- [ ] DOE for explore the best values instead of only doing a GridSearchCV"
      ]
    },
    {
      "cell_type": "code",
      "execution_count": null,
      "metadata": {
        "id": "uj8biAZrfHmn",
        "outputId": "1f12d1ba-80f8-48d3-975d-c189b353f056"
      },
      "outputs": [
        {
          "name": "stdout",
          "output_type": "stream",
          "text": [
            "The best hyperparameters are  {'learning_rate': 0.15, 'max_depth': 4, 'n_estimators': 600}\n"
          ]
        }
      ],
      "source": [
        "# https://machinelearningmastery.com/xgboost-for-regression/\n",
        "xgb_r = xgb.XGBRegressor(eval_metric = 'rmsle')\n",
        "\n",
        "#=========================================================================\n",
        "# exhaustively search for the optimal hyperparameters\n",
        "#=========================================================================\n",
        "from sklearn.model_selection import GridSearchCV\n",
        "# set up our search grid\n",
        "# https://xgboost.readthedocs.io/en/latest/python/python_api.html#xgboost.XGBRegressor\n",
        "param_grid = {\n",
        "    \"max_depth\" :    [4, 5, 6],\n",
        "    \"n_estimators\" : [600, 700, 800],\n",
        "    \"learning_rate\" : [0.05, 0.1, 0.15],\n",
        "    # \"colsample_bytree\" : [1, 5/6, 4/6, 3/6]\n",
        "}\n",
        "\n",
        "# try out every combination of the above values\n",
        "search = GridSearchCV(xgb_r, param_grid, cv = cv).fit(x_train, y_train)\n",
        "\n",
        "print(\"The best hyperparameters are \", search.best_params_)"
      ]
    },
    {
      "cell_type": "code",
      "execution_count": null,
      "metadata": {
        "id": "gghOt8d9fHmn",
        "outputId": "97925edc-6a2a-4bf9-c0db-73cacab1ecc1"
      },
      "outputs": [
        {
          "data": {
            "text/html": [
              "<div>\n",
              "<style scoped>\n",
              "    .dataframe tbody tr th:only-of-type {\n",
              "        vertical-align: middle;\n",
              "    }\n",
              "\n",
              "    .dataframe tbody tr th {\n",
              "        vertical-align: top;\n",
              "    }\n",
              "\n",
              "    .dataframe thead th {\n",
              "        text-align: right;\n",
              "    }\n",
              "</style>\n",
              "<table border=\"1\" class=\"dataframe\">\n",
              "  <thead>\n",
              "    <tr style=\"text-align: right;\">\n",
              "      <th></th>\n",
              "      <th>mean_fit_time</th>\n",
              "      <th>std_fit_time</th>\n",
              "      <th>mean_score_time</th>\n",
              "      <th>std_score_time</th>\n",
              "      <th>param_learning_rate</th>\n",
              "      <th>param_max_depth</th>\n",
              "      <th>param_n_estimators</th>\n",
              "      <th>params</th>\n",
              "      <th>split0_test_score</th>\n",
              "      <th>split1_test_score</th>\n",
              "      <th>...</th>\n",
              "      <th>split23_test_score</th>\n",
              "      <th>split24_test_score</th>\n",
              "      <th>split25_test_score</th>\n",
              "      <th>split26_test_score</th>\n",
              "      <th>split27_test_score</th>\n",
              "      <th>split28_test_score</th>\n",
              "      <th>split29_test_score</th>\n",
              "      <th>mean_test_score</th>\n",
              "      <th>std_test_score</th>\n",
              "      <th>rank_test_score</th>\n",
              "    </tr>\n",
              "  </thead>\n",
              "  <tbody>\n",
              "    <tr>\n",
              "      <th>0</th>\n",
              "      <td>0.124940</td>\n",
              "      <td>0.010724</td>\n",
              "      <td>0.003105</td>\n",
              "      <td>0.000525</td>\n",
              "      <td>0.05</td>\n",
              "      <td>4</td>\n",
              "      <td>600</td>\n",
              "      <td>{'learning_rate': 0.05, 'max_depth': 4, 'n_est...</td>\n",
              "      <td>-0.204088</td>\n",
              "      <td>0.297535</td>\n",
              "      <td>...</td>\n",
              "      <td>-0.108803</td>\n",
              "      <td>0.377131</td>\n",
              "      <td>0.413786</td>\n",
              "      <td>-0.028253</td>\n",
              "      <td>0.112258</td>\n",
              "      <td>-0.162864</td>\n",
              "      <td>0.363707</td>\n",
              "      <td>-0.184059</td>\n",
              "      <td>1.521568</td>\n",
              "      <td>4</td>\n",
              "    </tr>\n",
              "    <tr>\n",
              "      <th>1</th>\n",
              "      <td>0.143444</td>\n",
              "      <td>0.006511</td>\n",
              "      <td>0.002904</td>\n",
              "      <td>0.000571</td>\n",
              "      <td>0.05</td>\n",
              "      <td>4</td>\n",
              "      <td>700</td>\n",
              "      <td>{'learning_rate': 0.05, 'max_depth': 4, 'n_est...</td>\n",
              "      <td>-0.204088</td>\n",
              "      <td>0.297535</td>\n",
              "      <td>...</td>\n",
              "      <td>-0.108803</td>\n",
              "      <td>0.377131</td>\n",
              "      <td>0.413786</td>\n",
              "      <td>-0.028253</td>\n",
              "      <td>0.112258</td>\n",
              "      <td>-0.162864</td>\n",
              "      <td>0.363707</td>\n",
              "      <td>-0.184059</td>\n",
              "      <td>1.521568</td>\n",
              "      <td>4</td>\n",
              "    </tr>\n",
              "    <tr>\n",
              "      <th>2</th>\n",
              "      <td>0.171823</td>\n",
              "      <td>0.015359</td>\n",
              "      <td>0.002906</td>\n",
              "      <td>0.000689</td>\n",
              "      <td>0.05</td>\n",
              "      <td>4</td>\n",
              "      <td>800</td>\n",
              "      <td>{'learning_rate': 0.05, 'max_depth': 4, 'n_est...</td>\n",
              "      <td>-0.204088</td>\n",
              "      <td>0.297535</td>\n",
              "      <td>...</td>\n",
              "      <td>-0.108803</td>\n",
              "      <td>0.377131</td>\n",
              "      <td>0.413786</td>\n",
              "      <td>-0.028253</td>\n",
              "      <td>0.112258</td>\n",
              "      <td>-0.162864</td>\n",
              "      <td>0.363707</td>\n",
              "      <td>-0.184059</td>\n",
              "      <td>1.521568</td>\n",
              "      <td>4</td>\n",
              "    </tr>\n",
              "    <tr>\n",
              "      <th>3</th>\n",
              "      <td>0.128333</td>\n",
              "      <td>0.017362</td>\n",
              "      <td>0.002853</td>\n",
              "      <td>0.000468</td>\n",
              "      <td>0.05</td>\n",
              "      <td>5</td>\n",
              "      <td>600</td>\n",
              "      <td>{'learning_rate': 0.05, 'max_depth': 5, 'n_est...</td>\n",
              "      <td>-0.249771</td>\n",
              "      <td>0.296364</td>\n",
              "      <td>...</td>\n",
              "      <td>-0.109230</td>\n",
              "      <td>0.364800</td>\n",
              "      <td>0.412809</td>\n",
              "      <td>-0.098685</td>\n",
              "      <td>0.110325</td>\n",
              "      <td>-0.178207</td>\n",
              "      <td>0.363512</td>\n",
              "      <td>-0.191245</td>\n",
              "      <td>1.522942</td>\n",
              "      <td>16</td>\n",
              "    </tr>\n",
              "    <tr>\n",
              "      <th>4</th>\n",
              "      <td>0.150133</td>\n",
              "      <td>0.022149</td>\n",
              "      <td>0.002921</td>\n",
              "      <td>0.000532</td>\n",
              "      <td>0.05</td>\n",
              "      <td>5</td>\n",
              "      <td>700</td>\n",
              "      <td>{'learning_rate': 0.05, 'max_depth': 5, 'n_est...</td>\n",
              "      <td>-0.249771</td>\n",
              "      <td>0.296364</td>\n",
              "      <td>...</td>\n",
              "      <td>-0.109230</td>\n",
              "      <td>0.364800</td>\n",
              "      <td>0.412809</td>\n",
              "      <td>-0.098685</td>\n",
              "      <td>0.110325</td>\n",
              "      <td>-0.178207</td>\n",
              "      <td>0.363512</td>\n",
              "      <td>-0.191245</td>\n",
              "      <td>1.522942</td>\n",
              "      <td>16</td>\n",
              "    </tr>\n",
              "    <tr>\n",
              "      <th>5</th>\n",
              "      <td>0.171033</td>\n",
              "      <td>0.023443</td>\n",
              "      <td>0.002805</td>\n",
              "      <td>0.000479</td>\n",
              "      <td>0.05</td>\n",
              "      <td>5</td>\n",
              "      <td>800</td>\n",
              "      <td>{'learning_rate': 0.05, 'max_depth': 5, 'n_est...</td>\n",
              "      <td>-0.249771</td>\n",
              "      <td>0.296364</td>\n",
              "      <td>...</td>\n",
              "      <td>-0.109230</td>\n",
              "      <td>0.364800</td>\n",
              "      <td>0.412809</td>\n",
              "      <td>-0.098685</td>\n",
              "      <td>0.110325</td>\n",
              "      <td>-0.178207</td>\n",
              "      <td>0.363512</td>\n",
              "      <td>-0.191245</td>\n",
              "      <td>1.522942</td>\n",
              "      <td>16</td>\n",
              "    </tr>\n",
              "    <tr>\n",
              "      <th>6</th>\n",
              "      <td>0.131146</td>\n",
              "      <td>0.004262</td>\n",
              "      <td>0.002870</td>\n",
              "      <td>0.000482</td>\n",
              "      <td>0.05</td>\n",
              "      <td>6</td>\n",
              "      <td>600</td>\n",
              "      <td>{'learning_rate': 0.05, 'max_depth': 6, 'n_est...</td>\n",
              "      <td>-0.240069</td>\n",
              "      <td>0.295615</td>\n",
              "      <td>...</td>\n",
              "      <td>-0.108820</td>\n",
              "      <td>0.365526</td>\n",
              "      <td>0.412750</td>\n",
              "      <td>-0.092915</td>\n",
              "      <td>0.109000</td>\n",
              "      <td>-0.191642</td>\n",
              "      <td>0.364385</td>\n",
              "      <td>-0.192448</td>\n",
              "      <td>1.523837</td>\n",
              "      <td>22</td>\n",
              "    </tr>\n",
              "    <tr>\n",
              "      <th>7</th>\n",
              "      <td>0.152552</td>\n",
              "      <td>0.006399</td>\n",
              "      <td>0.003271</td>\n",
              "      <td>0.001584</td>\n",
              "      <td>0.05</td>\n",
              "      <td>6</td>\n",
              "      <td>700</td>\n",
              "      <td>{'learning_rate': 0.05, 'max_depth': 6, 'n_est...</td>\n",
              "      <td>-0.240069</td>\n",
              "      <td>0.295615</td>\n",
              "      <td>...</td>\n",
              "      <td>-0.108820</td>\n",
              "      <td>0.365526</td>\n",
              "      <td>0.412750</td>\n",
              "      <td>-0.092915</td>\n",
              "      <td>0.109000</td>\n",
              "      <td>-0.191642</td>\n",
              "      <td>0.364385</td>\n",
              "      <td>-0.192448</td>\n",
              "      <td>1.523837</td>\n",
              "      <td>22</td>\n",
              "    </tr>\n",
              "    <tr>\n",
              "      <th>8</th>\n",
              "      <td>0.170902</td>\n",
              "      <td>0.014162</td>\n",
              "      <td>0.002888</td>\n",
              "      <td>0.000602</td>\n",
              "      <td>0.05</td>\n",
              "      <td>6</td>\n",
              "      <td>800</td>\n",
              "      <td>{'learning_rate': 0.05, 'max_depth': 6, 'n_est...</td>\n",
              "      <td>-0.240069</td>\n",
              "      <td>0.295615</td>\n",
              "      <td>...</td>\n",
              "      <td>-0.108820</td>\n",
              "      <td>0.365526</td>\n",
              "      <td>0.412750</td>\n",
              "      <td>-0.092915</td>\n",
              "      <td>0.109000</td>\n",
              "      <td>-0.191642</td>\n",
              "      <td>0.364385</td>\n",
              "      <td>-0.192448</td>\n",
              "      <td>1.523837</td>\n",
              "      <td>22</td>\n",
              "    </tr>\n",
              "    <tr>\n",
              "      <th>9</th>\n",
              "      <td>0.115817</td>\n",
              "      <td>0.004093</td>\n",
              "      <td>0.002854</td>\n",
              "      <td>0.000470</td>\n",
              "      <td>0.1</td>\n",
              "      <td>4</td>\n",
              "      <td>600</td>\n",
              "      <td>{'learning_rate': 0.1, 'max_depth': 4, 'n_esti...</td>\n",
              "      <td>-0.208710</td>\n",
              "      <td>0.296688</td>\n",
              "      <td>...</td>\n",
              "      <td>-0.110826</td>\n",
              "      <td>0.382168</td>\n",
              "      <td>0.412537</td>\n",
              "      <td>-0.022608</td>\n",
              "      <td>0.112245</td>\n",
              "      <td>-0.161494</td>\n",
              "      <td>0.362980</td>\n",
              "      <td>-0.185035</td>\n",
              "      <td>1.528866</td>\n",
              "      <td>7</td>\n",
              "    </tr>\n",
              "    <tr>\n",
              "      <th>10</th>\n",
              "      <td>0.132973</td>\n",
              "      <td>0.004609</td>\n",
              "      <td>0.002905</td>\n",
              "      <td>0.000507</td>\n",
              "      <td>0.1</td>\n",
              "      <td>4</td>\n",
              "      <td>700</td>\n",
              "      <td>{'learning_rate': 0.1, 'max_depth': 4, 'n_esti...</td>\n",
              "      <td>-0.208710</td>\n",
              "      <td>0.296688</td>\n",
              "      <td>...</td>\n",
              "      <td>-0.110826</td>\n",
              "      <td>0.382168</td>\n",
              "      <td>0.412537</td>\n",
              "      <td>-0.022608</td>\n",
              "      <td>0.112245</td>\n",
              "      <td>-0.161494</td>\n",
              "      <td>0.362980</td>\n",
              "      <td>-0.185035</td>\n",
              "      <td>1.528866</td>\n",
              "      <td>7</td>\n",
              "    </tr>\n",
              "    <tr>\n",
              "      <th>11</th>\n",
              "      <td>0.150007</td>\n",
              "      <td>0.004543</td>\n",
              "      <td>0.002787</td>\n",
              "      <td>0.000603</td>\n",
              "      <td>0.1</td>\n",
              "      <td>4</td>\n",
              "      <td>800</td>\n",
              "      <td>{'learning_rate': 0.1, 'max_depth': 4, 'n_esti...</td>\n",
              "      <td>-0.208710</td>\n",
              "      <td>0.296688</td>\n",
              "      <td>...</td>\n",
              "      <td>-0.110826</td>\n",
              "      <td>0.382168</td>\n",
              "      <td>0.412537</td>\n",
              "      <td>-0.022608</td>\n",
              "      <td>0.112245</td>\n",
              "      <td>-0.161494</td>\n",
              "      <td>0.362980</td>\n",
              "      <td>-0.185035</td>\n",
              "      <td>1.528866</td>\n",
              "      <td>7</td>\n",
              "    </tr>\n",
              "    <tr>\n",
              "      <th>12</th>\n",
              "      <td>0.118932</td>\n",
              "      <td>0.005999</td>\n",
              "      <td>0.003055</td>\n",
              "      <td>0.000541</td>\n",
              "      <td>0.1</td>\n",
              "      <td>5</td>\n",
              "      <td>600</td>\n",
              "      <td>{'learning_rate': 0.1, 'max_depth': 5, 'n_esti...</td>\n",
              "      <td>-0.244649</td>\n",
              "      <td>0.296274</td>\n",
              "      <td>...</td>\n",
              "      <td>-0.111552</td>\n",
              "      <td>0.363658</td>\n",
              "      <td>0.412830</td>\n",
              "      <td>-0.089378</td>\n",
              "      <td>0.109641</td>\n",
              "      <td>-0.169495</td>\n",
              "      <td>0.363351</td>\n",
              "      <td>-0.190309</td>\n",
              "      <td>1.522384</td>\n",
              "      <td>10</td>\n",
              "    </tr>\n",
              "    <tr>\n",
              "      <th>13</th>\n",
              "      <td>0.142349</td>\n",
              "      <td>0.011672</td>\n",
              "      <td>0.002787</td>\n",
              "      <td>0.000441</td>\n",
              "      <td>0.1</td>\n",
              "      <td>5</td>\n",
              "      <td>700</td>\n",
              "      <td>{'learning_rate': 0.1, 'max_depth': 5, 'n_esti...</td>\n",
              "      <td>-0.244649</td>\n",
              "      <td>0.296274</td>\n",
              "      <td>...</td>\n",
              "      <td>-0.111552</td>\n",
              "      <td>0.363658</td>\n",
              "      <td>0.412830</td>\n",
              "      <td>-0.089378</td>\n",
              "      <td>0.109641</td>\n",
              "      <td>-0.169495</td>\n",
              "      <td>0.363351</td>\n",
              "      <td>-0.190309</td>\n",
              "      <td>1.522384</td>\n",
              "      <td>10</td>\n",
              "    </tr>\n",
              "    <tr>\n",
              "      <th>14</th>\n",
              "      <td>0.153686</td>\n",
              "      <td>0.009087</td>\n",
              "      <td>0.003021</td>\n",
              "      <td>0.000892</td>\n",
              "      <td>0.1</td>\n",
              "      <td>5</td>\n",
              "      <td>800</td>\n",
              "      <td>{'learning_rate': 0.1, 'max_depth': 5, 'n_esti...</td>\n",
              "      <td>-0.244649</td>\n",
              "      <td>0.296274</td>\n",
              "      <td>...</td>\n",
              "      <td>-0.111552</td>\n",
              "      <td>0.363658</td>\n",
              "      <td>0.412830</td>\n",
              "      <td>-0.089378</td>\n",
              "      <td>0.109641</td>\n",
              "      <td>-0.169495</td>\n",
              "      <td>0.363351</td>\n",
              "      <td>-0.190309</td>\n",
              "      <td>1.522384</td>\n",
              "      <td>10</td>\n",
              "    </tr>\n",
              "    <tr>\n",
              "      <th>15</th>\n",
              "      <td>0.120595</td>\n",
              "      <td>0.008413</td>\n",
              "      <td>0.002823</td>\n",
              "      <td>0.000458</td>\n",
              "      <td>0.1</td>\n",
              "      <td>6</td>\n",
              "      <td>600</td>\n",
              "      <td>{'learning_rate': 0.1, 'max_depth': 6, 'n_esti...</td>\n",
              "      <td>-0.259447</td>\n",
              "      <td>0.295761</td>\n",
              "      <td>...</td>\n",
              "      <td>-0.110578</td>\n",
              "      <td>0.364620</td>\n",
              "      <td>0.412775</td>\n",
              "      <td>-0.082972</td>\n",
              "      <td>0.109166</td>\n",
              "      <td>-0.167836</td>\n",
              "      <td>0.364540</td>\n",
              "      <td>-0.192297</td>\n",
              "      <td>1.524121</td>\n",
              "      <td>19</td>\n",
              "    </tr>\n",
              "    <tr>\n",
              "      <th>16</th>\n",
              "      <td>0.147362</td>\n",
              "      <td>0.014083</td>\n",
              "      <td>0.002939</td>\n",
              "      <td>0.000546</td>\n",
              "      <td>0.1</td>\n",
              "      <td>6</td>\n",
              "      <td>700</td>\n",
              "      <td>{'learning_rate': 0.1, 'max_depth': 6, 'n_esti...</td>\n",
              "      <td>-0.259447</td>\n",
              "      <td>0.295761</td>\n",
              "      <td>...</td>\n",
              "      <td>-0.110578</td>\n",
              "      <td>0.364620</td>\n",
              "      <td>0.412775</td>\n",
              "      <td>-0.082972</td>\n",
              "      <td>0.109166</td>\n",
              "      <td>-0.167836</td>\n",
              "      <td>0.364540</td>\n",
              "      <td>-0.192297</td>\n",
              "      <td>1.524121</td>\n",
              "      <td>19</td>\n",
              "    </tr>\n",
              "    <tr>\n",
              "      <th>17</th>\n",
              "      <td>0.157080</td>\n",
              "      <td>0.008838</td>\n",
              "      <td>0.002952</td>\n",
              "      <td>0.000436</td>\n",
              "      <td>0.1</td>\n",
              "      <td>6</td>\n",
              "      <td>800</td>\n",
              "      <td>{'learning_rate': 0.1, 'max_depth': 6, 'n_esti...</td>\n",
              "      <td>-0.259447</td>\n",
              "      <td>0.295761</td>\n",
              "      <td>...</td>\n",
              "      <td>-0.110578</td>\n",
              "      <td>0.364620</td>\n",
              "      <td>0.412775</td>\n",
              "      <td>-0.082972</td>\n",
              "      <td>0.109166</td>\n",
              "      <td>-0.167836</td>\n",
              "      <td>0.364540</td>\n",
              "      <td>-0.192297</td>\n",
              "      <td>1.524121</td>\n",
              "      <td>19</td>\n",
              "    </tr>\n",
              "    <tr>\n",
              "      <th>18</th>\n",
              "      <td>0.115575</td>\n",
              "      <td>0.010813</td>\n",
              "      <td>0.002804</td>\n",
              "      <td>0.000477</td>\n",
              "      <td>0.15</td>\n",
              "      <td>4</td>\n",
              "      <td>600</td>\n",
              "      <td>{'learning_rate': 0.15, 'max_depth': 4, 'n_est...</td>\n",
              "      <td>-0.190156</td>\n",
              "      <td>0.297802</td>\n",
              "      <td>...</td>\n",
              "      <td>-0.109663</td>\n",
              "      <td>0.375144</td>\n",
              "      <td>0.412179</td>\n",
              "      <td>-0.001619</td>\n",
              "      <td>0.112174</td>\n",
              "      <td>-0.159315</td>\n",
              "      <td>0.363210</td>\n",
              "      <td>-0.180758</td>\n",
              "      <td>1.525615</td>\n",
              "      <td>1</td>\n",
              "    </tr>\n",
              "    <tr>\n",
              "      <th>19</th>\n",
              "      <td>0.137802</td>\n",
              "      <td>0.008044</td>\n",
              "      <td>0.002975</td>\n",
              "      <td>0.000606</td>\n",
              "      <td>0.15</td>\n",
              "      <td>4</td>\n",
              "      <td>700</td>\n",
              "      <td>{'learning_rate': 0.15, 'max_depth': 4, 'n_est...</td>\n",
              "      <td>-0.190156</td>\n",
              "      <td>0.297802</td>\n",
              "      <td>...</td>\n",
              "      <td>-0.109663</td>\n",
              "      <td>0.375144</td>\n",
              "      <td>0.412179</td>\n",
              "      <td>-0.001619</td>\n",
              "      <td>0.112174</td>\n",
              "      <td>-0.159315</td>\n",
              "      <td>0.363210</td>\n",
              "      <td>-0.180758</td>\n",
              "      <td>1.525615</td>\n",
              "      <td>1</td>\n",
              "    </tr>\n",
              "    <tr>\n",
              "      <th>20</th>\n",
              "      <td>0.146980</td>\n",
              "      <td>0.004556</td>\n",
              "      <td>0.002856</td>\n",
              "      <td>0.000606</td>\n",
              "      <td>0.15</td>\n",
              "      <td>4</td>\n",
              "      <td>800</td>\n",
              "      <td>{'learning_rate': 0.15, 'max_depth': 4, 'n_est...</td>\n",
              "      <td>-0.190156</td>\n",
              "      <td>0.297802</td>\n",
              "      <td>...</td>\n",
              "      <td>-0.109663</td>\n",
              "      <td>0.375144</td>\n",
              "      <td>0.412179</td>\n",
              "      <td>-0.001619</td>\n",
              "      <td>0.112174</td>\n",
              "      <td>-0.159315</td>\n",
              "      <td>0.363210</td>\n",
              "      <td>-0.180758</td>\n",
              "      <td>1.525615</td>\n",
              "      <td>1</td>\n",
              "    </tr>\n",
              "    <tr>\n",
              "      <th>21</th>\n",
              "      <td>0.116070</td>\n",
              "      <td>0.003138</td>\n",
              "      <td>0.002824</td>\n",
              "      <td>0.000573</td>\n",
              "      <td>0.15</td>\n",
              "      <td>5</td>\n",
              "      <td>600</td>\n",
              "      <td>{'learning_rate': 0.15, 'max_depth': 5, 'n_est...</td>\n",
              "      <td>-0.244758</td>\n",
              "      <td>0.296008</td>\n",
              "      <td>...</td>\n",
              "      <td>-0.108667</td>\n",
              "      <td>0.369397</td>\n",
              "      <td>0.412622</td>\n",
              "      <td>-0.100377</td>\n",
              "      <td>0.110219</td>\n",
              "      <td>-0.174954</td>\n",
              "      <td>0.363316</td>\n",
              "      <td>-0.190384</td>\n",
              "      <td>1.522225</td>\n",
              "      <td>13</td>\n",
              "    </tr>\n",
              "    <tr>\n",
              "      <th>22</th>\n",
              "      <td>0.135385</td>\n",
              "      <td>0.011478</td>\n",
              "      <td>0.003154</td>\n",
              "      <td>0.000993</td>\n",
              "      <td>0.15</td>\n",
              "      <td>5</td>\n",
              "      <td>700</td>\n",
              "      <td>{'learning_rate': 0.15, 'max_depth': 5, 'n_est...</td>\n",
              "      <td>-0.244758</td>\n",
              "      <td>0.296008</td>\n",
              "      <td>...</td>\n",
              "      <td>-0.108667</td>\n",
              "      <td>0.369397</td>\n",
              "      <td>0.412622</td>\n",
              "      <td>-0.100377</td>\n",
              "      <td>0.110219</td>\n",
              "      <td>-0.174954</td>\n",
              "      <td>0.363316</td>\n",
              "      <td>-0.190384</td>\n",
              "      <td>1.522225</td>\n",
              "      <td>13</td>\n",
              "    </tr>\n",
              "    <tr>\n",
              "      <th>23</th>\n",
              "      <td>0.152896</td>\n",
              "      <td>0.008013</td>\n",
              "      <td>0.002703</td>\n",
              "      <td>0.000477</td>\n",
              "      <td>0.15</td>\n",
              "      <td>5</td>\n",
              "      <td>800</td>\n",
              "      <td>{'learning_rate': 0.15, 'max_depth': 5, 'n_est...</td>\n",
              "      <td>-0.244758</td>\n",
              "      <td>0.296008</td>\n",
              "      <td>...</td>\n",
              "      <td>-0.108667</td>\n",
              "      <td>0.369397</td>\n",
              "      <td>0.412622</td>\n",
              "      <td>-0.100377</td>\n",
              "      <td>0.110219</td>\n",
              "      <td>-0.174954</td>\n",
              "      <td>0.363316</td>\n",
              "      <td>-0.190384</td>\n",
              "      <td>1.522225</td>\n",
              "      <td>13</td>\n",
              "    </tr>\n",
              "    <tr>\n",
              "      <th>24</th>\n",
              "      <td>0.115030</td>\n",
              "      <td>0.005425</td>\n",
              "      <td>0.003005</td>\n",
              "      <td>0.000366</td>\n",
              "      <td>0.15</td>\n",
              "      <td>6</td>\n",
              "      <td>600</td>\n",
              "      <td>{'learning_rate': 0.15, 'max_depth': 6, 'n_est...</td>\n",
              "      <td>-0.277802</td>\n",
              "      <td>0.296021</td>\n",
              "      <td>...</td>\n",
              "      <td>-0.111494</td>\n",
              "      <td>0.369148</td>\n",
              "      <td>0.412719</td>\n",
              "      <td>-0.095065</td>\n",
              "      <td>0.108987</td>\n",
              "      <td>-0.180245</td>\n",
              "      <td>0.364341</td>\n",
              "      <td>-0.193087</td>\n",
              "      <td>1.522459</td>\n",
              "      <td>25</td>\n",
              "    </tr>\n",
              "    <tr>\n",
              "      <th>25</th>\n",
              "      <td>0.134154</td>\n",
              "      <td>0.006482</td>\n",
              "      <td>0.002905</td>\n",
              "      <td>0.000492</td>\n",
              "      <td>0.15</td>\n",
              "      <td>6</td>\n",
              "      <td>700</td>\n",
              "      <td>{'learning_rate': 0.15, 'max_depth': 6, 'n_est...</td>\n",
              "      <td>-0.277802</td>\n",
              "      <td>0.296021</td>\n",
              "      <td>...</td>\n",
              "      <td>-0.111494</td>\n",
              "      <td>0.369148</td>\n",
              "      <td>0.412719</td>\n",
              "      <td>-0.095065</td>\n",
              "      <td>0.108987</td>\n",
              "      <td>-0.180245</td>\n",
              "      <td>0.364341</td>\n",
              "      <td>-0.193087</td>\n",
              "      <td>1.522459</td>\n",
              "      <td>25</td>\n",
              "    </tr>\n",
              "    <tr>\n",
              "      <th>26</th>\n",
              "      <td>0.153421</td>\n",
              "      <td>0.008788</td>\n",
              "      <td>0.002871</td>\n",
              "      <td>0.000578</td>\n",
              "      <td>0.15</td>\n",
              "      <td>6</td>\n",
              "      <td>800</td>\n",
              "      <td>{'learning_rate': 0.15, 'max_depth': 6, 'n_est...</td>\n",
              "      <td>-0.277802</td>\n",
              "      <td>0.296021</td>\n",
              "      <td>...</td>\n",
              "      <td>-0.111494</td>\n",
              "      <td>0.369148</td>\n",
              "      <td>0.412719</td>\n",
              "      <td>-0.095065</td>\n",
              "      <td>0.108987</td>\n",
              "      <td>-0.180245</td>\n",
              "      <td>0.364341</td>\n",
              "      <td>-0.193087</td>\n",
              "      <td>1.522459</td>\n",
              "      <td>25</td>\n",
              "    </tr>\n",
              "  </tbody>\n",
              "</table>\n",
              "<p>27 rows × 41 columns</p>\n",
              "</div>"
            ],
            "text/plain": [
              "    mean_fit_time  std_fit_time  mean_score_time  std_score_time  \\\n",
              "0        0.124940      0.010724         0.003105        0.000525   \n",
              "1        0.143444      0.006511         0.002904        0.000571   \n",
              "2        0.171823      0.015359         0.002906        0.000689   \n",
              "3        0.128333      0.017362         0.002853        0.000468   \n",
              "4        0.150133      0.022149         0.002921        0.000532   \n",
              "5        0.171033      0.023443         0.002805        0.000479   \n",
              "6        0.131146      0.004262         0.002870        0.000482   \n",
              "7        0.152552      0.006399         0.003271        0.001584   \n",
              "8        0.170902      0.014162         0.002888        0.000602   \n",
              "9        0.115817      0.004093         0.002854        0.000470   \n",
              "10       0.132973      0.004609         0.002905        0.000507   \n",
              "11       0.150007      0.004543         0.002787        0.000603   \n",
              "12       0.118932      0.005999         0.003055        0.000541   \n",
              "13       0.142349      0.011672         0.002787        0.000441   \n",
              "14       0.153686      0.009087         0.003021        0.000892   \n",
              "15       0.120595      0.008413         0.002823        0.000458   \n",
              "16       0.147362      0.014083         0.002939        0.000546   \n",
              "17       0.157080      0.008838         0.002952        0.000436   \n",
              "18       0.115575      0.010813         0.002804        0.000477   \n",
              "19       0.137802      0.008044         0.002975        0.000606   \n",
              "20       0.146980      0.004556         0.002856        0.000606   \n",
              "21       0.116070      0.003138         0.002824        0.000573   \n",
              "22       0.135385      0.011478         0.003154        0.000993   \n",
              "23       0.152896      0.008013         0.002703        0.000477   \n",
              "24       0.115030      0.005425         0.003005        0.000366   \n",
              "25       0.134154      0.006482         0.002905        0.000492   \n",
              "26       0.153421      0.008788         0.002871        0.000578   \n",
              "\n",
              "   param_learning_rate param_max_depth param_n_estimators  \\\n",
              "0                 0.05               4                600   \n",
              "1                 0.05               4                700   \n",
              "2                 0.05               4                800   \n",
              "3                 0.05               5                600   \n",
              "4                 0.05               5                700   \n",
              "5                 0.05               5                800   \n",
              "6                 0.05               6                600   \n",
              "7                 0.05               6                700   \n",
              "8                 0.05               6                800   \n",
              "9                  0.1               4                600   \n",
              "10                 0.1               4                700   \n",
              "11                 0.1               4                800   \n",
              "12                 0.1               5                600   \n",
              "13                 0.1               5                700   \n",
              "14                 0.1               5                800   \n",
              "15                 0.1               6                600   \n",
              "16                 0.1               6                700   \n",
              "17                 0.1               6                800   \n",
              "18                0.15               4                600   \n",
              "19                0.15               4                700   \n",
              "20                0.15               4                800   \n",
              "21                0.15               5                600   \n",
              "22                0.15               5                700   \n",
              "23                0.15               5                800   \n",
              "24                0.15               6                600   \n",
              "25                0.15               6                700   \n",
              "26                0.15               6                800   \n",
              "\n",
              "                                               params  split0_test_score  \\\n",
              "0   {'learning_rate': 0.05, 'max_depth': 4, 'n_est...          -0.204088   \n",
              "1   {'learning_rate': 0.05, 'max_depth': 4, 'n_est...          -0.204088   \n",
              "2   {'learning_rate': 0.05, 'max_depth': 4, 'n_est...          -0.204088   \n",
              "3   {'learning_rate': 0.05, 'max_depth': 5, 'n_est...          -0.249771   \n",
              "4   {'learning_rate': 0.05, 'max_depth': 5, 'n_est...          -0.249771   \n",
              "5   {'learning_rate': 0.05, 'max_depth': 5, 'n_est...          -0.249771   \n",
              "6   {'learning_rate': 0.05, 'max_depth': 6, 'n_est...          -0.240069   \n",
              "7   {'learning_rate': 0.05, 'max_depth': 6, 'n_est...          -0.240069   \n",
              "8   {'learning_rate': 0.05, 'max_depth': 6, 'n_est...          -0.240069   \n",
              "9   {'learning_rate': 0.1, 'max_depth': 4, 'n_esti...          -0.208710   \n",
              "10  {'learning_rate': 0.1, 'max_depth': 4, 'n_esti...          -0.208710   \n",
              "11  {'learning_rate': 0.1, 'max_depth': 4, 'n_esti...          -0.208710   \n",
              "12  {'learning_rate': 0.1, 'max_depth': 5, 'n_esti...          -0.244649   \n",
              "13  {'learning_rate': 0.1, 'max_depth': 5, 'n_esti...          -0.244649   \n",
              "14  {'learning_rate': 0.1, 'max_depth': 5, 'n_esti...          -0.244649   \n",
              "15  {'learning_rate': 0.1, 'max_depth': 6, 'n_esti...          -0.259447   \n",
              "16  {'learning_rate': 0.1, 'max_depth': 6, 'n_esti...          -0.259447   \n",
              "17  {'learning_rate': 0.1, 'max_depth': 6, 'n_esti...          -0.259447   \n",
              "18  {'learning_rate': 0.15, 'max_depth': 4, 'n_est...          -0.190156   \n",
              "19  {'learning_rate': 0.15, 'max_depth': 4, 'n_est...          -0.190156   \n",
              "20  {'learning_rate': 0.15, 'max_depth': 4, 'n_est...          -0.190156   \n",
              "21  {'learning_rate': 0.15, 'max_depth': 5, 'n_est...          -0.244758   \n",
              "22  {'learning_rate': 0.15, 'max_depth': 5, 'n_est...          -0.244758   \n",
              "23  {'learning_rate': 0.15, 'max_depth': 5, 'n_est...          -0.244758   \n",
              "24  {'learning_rate': 0.15, 'max_depth': 6, 'n_est...          -0.277802   \n",
              "25  {'learning_rate': 0.15, 'max_depth': 6, 'n_est...          -0.277802   \n",
              "26  {'learning_rate': 0.15, 'max_depth': 6, 'n_est...          -0.277802   \n",
              "\n",
              "    split1_test_score  ...  split23_test_score  split24_test_score  \\\n",
              "0            0.297535  ...           -0.108803            0.377131   \n",
              "1            0.297535  ...           -0.108803            0.377131   \n",
              "2            0.297535  ...           -0.108803            0.377131   \n",
              "3            0.296364  ...           -0.109230            0.364800   \n",
              "4            0.296364  ...           -0.109230            0.364800   \n",
              "5            0.296364  ...           -0.109230            0.364800   \n",
              "6            0.295615  ...           -0.108820            0.365526   \n",
              "7            0.295615  ...           -0.108820            0.365526   \n",
              "8            0.295615  ...           -0.108820            0.365526   \n",
              "9            0.296688  ...           -0.110826            0.382168   \n",
              "10           0.296688  ...           -0.110826            0.382168   \n",
              "11           0.296688  ...           -0.110826            0.382168   \n",
              "12           0.296274  ...           -0.111552            0.363658   \n",
              "13           0.296274  ...           -0.111552            0.363658   \n",
              "14           0.296274  ...           -0.111552            0.363658   \n",
              "15           0.295761  ...           -0.110578            0.364620   \n",
              "16           0.295761  ...           -0.110578            0.364620   \n",
              "17           0.295761  ...           -0.110578            0.364620   \n",
              "18           0.297802  ...           -0.109663            0.375144   \n",
              "19           0.297802  ...           -0.109663            0.375144   \n",
              "20           0.297802  ...           -0.109663            0.375144   \n",
              "21           0.296008  ...           -0.108667            0.369397   \n",
              "22           0.296008  ...           -0.108667            0.369397   \n",
              "23           0.296008  ...           -0.108667            0.369397   \n",
              "24           0.296021  ...           -0.111494            0.369148   \n",
              "25           0.296021  ...           -0.111494            0.369148   \n",
              "26           0.296021  ...           -0.111494            0.369148   \n",
              "\n",
              "    split25_test_score  split26_test_score  split27_test_score  \\\n",
              "0             0.413786           -0.028253            0.112258   \n",
              "1             0.413786           -0.028253            0.112258   \n",
              "2             0.413786           -0.028253            0.112258   \n",
              "3             0.412809           -0.098685            0.110325   \n",
              "4             0.412809           -0.098685            0.110325   \n",
              "5             0.412809           -0.098685            0.110325   \n",
              "6             0.412750           -0.092915            0.109000   \n",
              "7             0.412750           -0.092915            0.109000   \n",
              "8             0.412750           -0.092915            0.109000   \n",
              "9             0.412537           -0.022608            0.112245   \n",
              "10            0.412537           -0.022608            0.112245   \n",
              "11            0.412537           -0.022608            0.112245   \n",
              "12            0.412830           -0.089378            0.109641   \n",
              "13            0.412830           -0.089378            0.109641   \n",
              "14            0.412830           -0.089378            0.109641   \n",
              "15            0.412775           -0.082972            0.109166   \n",
              "16            0.412775           -0.082972            0.109166   \n",
              "17            0.412775           -0.082972            0.109166   \n",
              "18            0.412179           -0.001619            0.112174   \n",
              "19            0.412179           -0.001619            0.112174   \n",
              "20            0.412179           -0.001619            0.112174   \n",
              "21            0.412622           -0.100377            0.110219   \n",
              "22            0.412622           -0.100377            0.110219   \n",
              "23            0.412622           -0.100377            0.110219   \n",
              "24            0.412719           -0.095065            0.108987   \n",
              "25            0.412719           -0.095065            0.108987   \n",
              "26            0.412719           -0.095065            0.108987   \n",
              "\n",
              "    split28_test_score  split29_test_score  mean_test_score  std_test_score  \\\n",
              "0            -0.162864            0.363707        -0.184059        1.521568   \n",
              "1            -0.162864            0.363707        -0.184059        1.521568   \n",
              "2            -0.162864            0.363707        -0.184059        1.521568   \n",
              "3            -0.178207            0.363512        -0.191245        1.522942   \n",
              "4            -0.178207            0.363512        -0.191245        1.522942   \n",
              "5            -0.178207            0.363512        -0.191245        1.522942   \n",
              "6            -0.191642            0.364385        -0.192448        1.523837   \n",
              "7            -0.191642            0.364385        -0.192448        1.523837   \n",
              "8            -0.191642            0.364385        -0.192448        1.523837   \n",
              "9            -0.161494            0.362980        -0.185035        1.528866   \n",
              "10           -0.161494            0.362980        -0.185035        1.528866   \n",
              "11           -0.161494            0.362980        -0.185035        1.528866   \n",
              "12           -0.169495            0.363351        -0.190309        1.522384   \n",
              "13           -0.169495            0.363351        -0.190309        1.522384   \n",
              "14           -0.169495            0.363351        -0.190309        1.522384   \n",
              "15           -0.167836            0.364540        -0.192297        1.524121   \n",
              "16           -0.167836            0.364540        -0.192297        1.524121   \n",
              "17           -0.167836            0.364540        -0.192297        1.524121   \n",
              "18           -0.159315            0.363210        -0.180758        1.525615   \n",
              "19           -0.159315            0.363210        -0.180758        1.525615   \n",
              "20           -0.159315            0.363210        -0.180758        1.525615   \n",
              "21           -0.174954            0.363316        -0.190384        1.522225   \n",
              "22           -0.174954            0.363316        -0.190384        1.522225   \n",
              "23           -0.174954            0.363316        -0.190384        1.522225   \n",
              "24           -0.180245            0.364341        -0.193087        1.522459   \n",
              "25           -0.180245            0.364341        -0.193087        1.522459   \n",
              "26           -0.180245            0.364341        -0.193087        1.522459   \n",
              "\n",
              "    rank_test_score  \n",
              "0                 4  \n",
              "1                 4  \n",
              "2                 4  \n",
              "3                16  \n",
              "4                16  \n",
              "5                16  \n",
              "6                22  \n",
              "7                22  \n",
              "8                22  \n",
              "9                 7  \n",
              "10                7  \n",
              "11                7  \n",
              "12               10  \n",
              "13               10  \n",
              "14               10  \n",
              "15               19  \n",
              "16               19  \n",
              "17               19  \n",
              "18                1  \n",
              "19                1  \n",
              "20                1  \n",
              "21               13  \n",
              "22               13  \n",
              "23               13  \n",
              "24               25  \n",
              "25               25  \n",
              "26               25  \n",
              "\n",
              "[27 rows x 41 columns]"
            ]
          },
          "execution_count": 106,
          "metadata": {},
          "output_type": "execute_result"
        }
      ],
      "source": [
        "pd.DataFrame(search.cv_results_)"
      ]
    },
    {
      "cell_type": "code",
      "execution_count": null,
      "metadata": {
        "id": "l1WqaBqafHmn"
      },
      "outputs": [],
      "source": [
        "d = []\n",
        "for r in range(10):\n",
        "    for test_size in [0.1, 0.2, 0.3, 0.4]:\n",
        "        x_train, x_test, y_train, y_test = train_test_split(df_sel[x_col], df_sel[y_col], test_size = 0.2)\n",
        "        xgb_r = xgb.XGBRegressor(\n",
        "            max_depth     = search.best_params_[\"max_depth\"],\n",
        "            n_estimators  = search.best_params_[\"n_estimators\"],\n",
        "            learning_rate = search.best_params_[\"learning_rate\"],\n",
        "            # colsample_bytree = search.best_params_[\"colsample_bytree\"],\n",
        "            eval_metric='rmsle'\n",
        "        )\n",
        "\n",
        "        xgb_r.fit(x_train, y_train)\n",
        "        y_pred = xgb_r.predict(x_test)\n",
        "        mape = np.sqrt(MAPE(y_test, y_pred))\n",
        "        # print(f\"MAPE: {round(mape, 4)}\")\n",
        "\n",
        "        rmse = np.sqrt(RMSE(y_test, y_pred))\n",
        "        # print(f\"RMSE: {round(rmse, 4)}\")\n",
        "\n",
        "        d.append({\n",
        "            'r' : r,\n",
        "            'test_size' : test_size,\n",
        "            'mape' : mape\n",
        "        })"
      ]
    },
    {
      "cell_type": "code",
      "execution_count": null,
      "metadata": {
        "id": "AO7JxnMMfHmn",
        "outputId": "905388e6-74ef-4a54-a837-c3565febec8f"
      },
      "outputs": [
        {
          "data": {
            "text/html": [
              "<div>\n",
              "<style scoped>\n",
              "    .dataframe tbody tr th:only-of-type {\n",
              "        vertical-align: middle;\n",
              "    }\n",
              "\n",
              "    .dataframe tbody tr th {\n",
              "        vertical-align: top;\n",
              "    }\n",
              "\n",
              "    .dataframe thead th {\n",
              "        text-align: right;\n",
              "    }\n",
              "</style>\n",
              "<table border=\"1\" class=\"dataframe\">\n",
              "  <thead>\n",
              "    <tr style=\"text-align: right;\">\n",
              "      <th></th>\n",
              "      <th>r</th>\n",
              "      <th>test_size</th>\n",
              "      <th>mape</th>\n",
              "    </tr>\n",
              "  </thead>\n",
              "  <tbody>\n",
              "    <tr>\n",
              "      <th>0</th>\n",
              "      <td>0</td>\n",
              "      <td>0.1</td>\n",
              "      <td>0.542354</td>\n",
              "    </tr>\n",
              "    <tr>\n",
              "      <th>1</th>\n",
              "      <td>0</td>\n",
              "      <td>0.2</td>\n",
              "      <td>0.491802</td>\n",
              "    </tr>\n",
              "    <tr>\n",
              "      <th>2</th>\n",
              "      <td>0</td>\n",
              "      <td>0.3</td>\n",
              "      <td>0.531919</td>\n",
              "    </tr>\n",
              "    <tr>\n",
              "      <th>3</th>\n",
              "      <td>0</td>\n",
              "      <td>0.4</td>\n",
              "      <td>0.624551</td>\n",
              "    </tr>\n",
              "    <tr>\n",
              "      <th>4</th>\n",
              "      <td>1</td>\n",
              "      <td>0.1</td>\n",
              "      <td>0.576395</td>\n",
              "    </tr>\n",
              "    <tr>\n",
              "      <th>5</th>\n",
              "      <td>1</td>\n",
              "      <td>0.2</td>\n",
              "      <td>0.490373</td>\n",
              "    </tr>\n",
              "    <tr>\n",
              "      <th>6</th>\n",
              "      <td>1</td>\n",
              "      <td>0.3</td>\n",
              "      <td>0.422376</td>\n",
              "    </tr>\n",
              "    <tr>\n",
              "      <th>7</th>\n",
              "      <td>1</td>\n",
              "      <td>0.4</td>\n",
              "      <td>0.490598</td>\n",
              "    </tr>\n",
              "    <tr>\n",
              "      <th>8</th>\n",
              "      <td>2</td>\n",
              "      <td>0.1</td>\n",
              "      <td>0.470141</td>\n",
              "    </tr>\n",
              "    <tr>\n",
              "      <th>9</th>\n",
              "      <td>2</td>\n",
              "      <td>0.2</td>\n",
              "      <td>0.601111</td>\n",
              "    </tr>\n",
              "    <tr>\n",
              "      <th>10</th>\n",
              "      <td>2</td>\n",
              "      <td>0.3</td>\n",
              "      <td>0.448068</td>\n",
              "    </tr>\n",
              "    <tr>\n",
              "      <th>11</th>\n",
              "      <td>2</td>\n",
              "      <td>0.4</td>\n",
              "      <td>0.632283</td>\n",
              "    </tr>\n",
              "    <tr>\n",
              "      <th>12</th>\n",
              "      <td>3</td>\n",
              "      <td>0.1</td>\n",
              "      <td>0.528345</td>\n",
              "    </tr>\n",
              "    <tr>\n",
              "      <th>13</th>\n",
              "      <td>3</td>\n",
              "      <td>0.2</td>\n",
              "      <td>0.384904</td>\n",
              "    </tr>\n",
              "    <tr>\n",
              "      <th>14</th>\n",
              "      <td>3</td>\n",
              "      <td>0.3</td>\n",
              "      <td>0.514045</td>\n",
              "    </tr>\n",
              "    <tr>\n",
              "      <th>15</th>\n",
              "      <td>3</td>\n",
              "      <td>0.4</td>\n",
              "      <td>0.513783</td>\n",
              "    </tr>\n",
              "    <tr>\n",
              "      <th>16</th>\n",
              "      <td>4</td>\n",
              "      <td>0.1</td>\n",
              "      <td>0.415515</td>\n",
              "    </tr>\n",
              "    <tr>\n",
              "      <th>17</th>\n",
              "      <td>4</td>\n",
              "      <td>0.2</td>\n",
              "      <td>0.558309</td>\n",
              "    </tr>\n",
              "    <tr>\n",
              "      <th>18</th>\n",
              "      <td>4</td>\n",
              "      <td>0.3</td>\n",
              "      <td>0.555244</td>\n",
              "    </tr>\n",
              "    <tr>\n",
              "      <th>19</th>\n",
              "      <td>4</td>\n",
              "      <td>0.4</td>\n",
              "      <td>0.539527</td>\n",
              "    </tr>\n",
              "    <tr>\n",
              "      <th>20</th>\n",
              "      <td>5</td>\n",
              "      <td>0.1</td>\n",
              "      <td>0.619723</td>\n",
              "    </tr>\n",
              "    <tr>\n",
              "      <th>21</th>\n",
              "      <td>5</td>\n",
              "      <td>0.2</td>\n",
              "      <td>0.457690</td>\n",
              "    </tr>\n",
              "    <tr>\n",
              "      <th>22</th>\n",
              "      <td>5</td>\n",
              "      <td>0.3</td>\n",
              "      <td>0.595645</td>\n",
              "    </tr>\n",
              "    <tr>\n",
              "      <th>23</th>\n",
              "      <td>5</td>\n",
              "      <td>0.4</td>\n",
              "      <td>0.564775</td>\n",
              "    </tr>\n",
              "    <tr>\n",
              "      <th>24</th>\n",
              "      <td>6</td>\n",
              "      <td>0.1</td>\n",
              "      <td>0.561328</td>\n",
              "    </tr>\n",
              "    <tr>\n",
              "      <th>25</th>\n",
              "      <td>6</td>\n",
              "      <td>0.2</td>\n",
              "      <td>0.599432</td>\n",
              "    </tr>\n",
              "    <tr>\n",
              "      <th>26</th>\n",
              "      <td>6</td>\n",
              "      <td>0.3</td>\n",
              "      <td>0.622875</td>\n",
              "    </tr>\n",
              "    <tr>\n",
              "      <th>27</th>\n",
              "      <td>6</td>\n",
              "      <td>0.4</td>\n",
              "      <td>0.506519</td>\n",
              "    </tr>\n",
              "    <tr>\n",
              "      <th>28</th>\n",
              "      <td>7</td>\n",
              "      <td>0.1</td>\n",
              "      <td>0.551520</td>\n",
              "    </tr>\n",
              "    <tr>\n",
              "      <th>29</th>\n",
              "      <td>7</td>\n",
              "      <td>0.2</td>\n",
              "      <td>0.463929</td>\n",
              "    </tr>\n",
              "    <tr>\n",
              "      <th>30</th>\n",
              "      <td>7</td>\n",
              "      <td>0.3</td>\n",
              "      <td>0.533564</td>\n",
              "    </tr>\n",
              "    <tr>\n",
              "      <th>31</th>\n",
              "      <td>7</td>\n",
              "      <td>0.4</td>\n",
              "      <td>0.553694</td>\n",
              "    </tr>\n",
              "    <tr>\n",
              "      <th>32</th>\n",
              "      <td>8</td>\n",
              "      <td>0.1</td>\n",
              "      <td>0.529329</td>\n",
              "    </tr>\n",
              "    <tr>\n",
              "      <th>33</th>\n",
              "      <td>8</td>\n",
              "      <td>0.2</td>\n",
              "      <td>0.414679</td>\n",
              "    </tr>\n",
              "    <tr>\n",
              "      <th>34</th>\n",
              "      <td>8</td>\n",
              "      <td>0.3</td>\n",
              "      <td>0.401433</td>\n",
              "    </tr>\n",
              "    <tr>\n",
              "      <th>35</th>\n",
              "      <td>8</td>\n",
              "      <td>0.4</td>\n",
              "      <td>0.614380</td>\n",
              "    </tr>\n",
              "    <tr>\n",
              "      <th>36</th>\n",
              "      <td>9</td>\n",
              "      <td>0.1</td>\n",
              "      <td>0.456056</td>\n",
              "    </tr>\n",
              "    <tr>\n",
              "      <th>37</th>\n",
              "      <td>9</td>\n",
              "      <td>0.2</td>\n",
              "      <td>0.656320</td>\n",
              "    </tr>\n",
              "    <tr>\n",
              "      <th>38</th>\n",
              "      <td>9</td>\n",
              "      <td>0.3</td>\n",
              "      <td>0.393461</td>\n",
              "    </tr>\n",
              "    <tr>\n",
              "      <th>39</th>\n",
              "      <td>9</td>\n",
              "      <td>0.4</td>\n",
              "      <td>0.592927</td>\n",
              "    </tr>\n",
              "  </tbody>\n",
              "</table>\n",
              "</div>"
            ],
            "text/plain": [
              "    r  test_size      mape\n",
              "0   0        0.1  0.542354\n",
              "1   0        0.2  0.491802\n",
              "2   0        0.3  0.531919\n",
              "3   0        0.4  0.624551\n",
              "4   1        0.1  0.576395\n",
              "5   1        0.2  0.490373\n",
              "6   1        0.3  0.422376\n",
              "7   1        0.4  0.490598\n",
              "8   2        0.1  0.470141\n",
              "9   2        0.2  0.601111\n",
              "10  2        0.3  0.448068\n",
              "11  2        0.4  0.632283\n",
              "12  3        0.1  0.528345\n",
              "13  3        0.2  0.384904\n",
              "14  3        0.3  0.514045\n",
              "15  3        0.4  0.513783\n",
              "16  4        0.1  0.415515\n",
              "17  4        0.2  0.558309\n",
              "18  4        0.3  0.555244\n",
              "19  4        0.4  0.539527\n",
              "20  5        0.1  0.619723\n",
              "21  5        0.2  0.457690\n",
              "22  5        0.3  0.595645\n",
              "23  5        0.4  0.564775\n",
              "24  6        0.1  0.561328\n",
              "25  6        0.2  0.599432\n",
              "26  6        0.3  0.622875\n",
              "27  6        0.4  0.506519\n",
              "28  7        0.1  0.551520\n",
              "29  7        0.2  0.463929\n",
              "30  7        0.3  0.533564\n",
              "31  7        0.4  0.553694\n",
              "32  8        0.1  0.529329\n",
              "33  8        0.2  0.414679\n",
              "34  8        0.3  0.401433\n",
              "35  8        0.4  0.614380\n",
              "36  9        0.1  0.456056\n",
              "37  9        0.2  0.656320\n",
              "38  9        0.3  0.393461\n",
              "39  9        0.4  0.592927"
            ]
          },
          "execution_count": 121,
          "metadata": {},
          "output_type": "execute_result"
        }
      ],
      "source": [
        "pd.DataFrame(d)"
      ]
    },
    {
      "cell_type": "code",
      "execution_count": null,
      "metadata": {
        "id": "OmBC1to5fHmn",
        "outputId": "1f0428f7-ce97-4e01-efe8-7ddd02044304"
      },
      "outputs": [
        {
          "data": {
            "image/png": "[encoded data removed]",
            "text/plain": [
              "<Figure size 640x480 with 1 Axes>"
            ]
          },
          "metadata": {},
          "output_type": "display_data"
        }
      ],
      "source": [
        "plt.hist(y_test, bins = [x * 0.1 for x in list(range(0, 11))])\n",
        "plt.hist(y_pred, bins = [x * 0.1 for x in list(range(0, 11))])\n",
        "plt.show()"
      ]
    },
    {
      "cell_type": "markdown",
      "metadata": {
        "id": "eDH5vw_-WwRz"
      },
      "source": [
        "## Empirical simulation"
      ]
    },
    {
      "cell_type": "markdown",
      "metadata": {
        "id": "NeNBvCq5groG"
      },
      "source": [
        "### Unit test"
      ]
    },
    {
      "cell_type": "code",
      "execution_count": null,
      "metadata": {
        "colab": {
          "base_uri": "https://localhost:8080/"
        },
        "id": "B1n3Y7nPcYes",
        "outputId": "ecf031c8-a6ed-457c-c629-a4977214dda5"
      },
      "outputs": [
        {
          "data": {
            "text/plain": [
              "158    39\n",
              "61      8\n",
              "30      4\n",
              "15      3\n",
              "75      3\n",
              "25      2\n",
              "6       1\n",
              "8       1\n",
              "32      1\n",
              "36      1\n",
              "46      1\n",
              "55      1\n",
              "71      1\n",
              "82      1\n",
              "85      1\n",
              "144     1\n",
              "Name: ID, dtype: int64"
            ]
          },
          "execution_count": 106,
          "metadata": {},
          "output_type": "execute_result"
        }
      ],
      "source": [
        "df_base['ID'].value_counts()"
      ]
    },
    {
      "cell_type": "code",
      "execution_count": null,
      "metadata": {
        "colab": {
          "base_uri": "https://localhost:8080/"
        },
        "id": "jRsA6i6lgeLu",
        "outputId": "ebecf294-1fff-4c9b-f6fc-c46f3371388c"
      },
      "outputs": [
        {
          "data": {
            "text/plain": [
              "<Axes: >"
            ]
          },
          "execution_count": 108,
          "metadata": {},
          "output_type": "execute_result"
        },
        {
          "data": {
            "image/png": "[encoded data removed]",
            "text/plain": [
              "<Figure size 640x480 with 1 Axes>"
            ]
          },
          "metadata": {},
          "output_type": "display_data"
        }
      ],
      "source": [
        "freq = df_base['ID'].value_counts() / sum(df_base['ID'].value_counts())\n",
        "freq.plot(kind = 'bar')"
      ]
    },
    {
      "cell_type": "code",
      "execution_count": null,
      "metadata": {
        "colab": {
          "base_uri": "https://localhost:8080/"
        },
        "id": "nz6-Q8GBc2y1",
        "outputId": "ef2575b7-a6fe-4ac7-a3d1-e1ce2ce2dc41"
      },
      "outputs": [
        {
          "data": {
            "text/plain": [
              "array([144, 158,  82,  15, 158, 158,  82, 158, 158,  55, 158,  36, 158,\n",
              "       158,  55,  61,  30, 158, 158, 158, 158,  36, 144, 158,  71,  61,\n",
              "         8, 158,  55,  32, 158,  30, 158,  30,  25,  30, 158, 158, 158,\n",
              "        75, 158, 158,  85, 158,  46,  25, 158, 158, 158, 158], dtype=int64)"
            ]
          },
          "execution_count": 113,
          "metadata": {},
          "output_type": "execute_result"
        }
      ],
      "source": [
        "np.random.choice(\n",
        "  a = df_base['ID'].value_counts().index,\n",
        "  size = 50,\n",
        "  p = df_base['ID'].value_counts() / sum(df_base['ID'].value_counts())\n",
        ")"
      ]
    },
    {
      "cell_type": "markdown",
      "metadata": {
        "id": "OmmJCSM1fHmo"
      },
      "source": [
        "## Reconstruction method"
      ]
    },
    {
      "cell_type": "code",
      "execution_count": null,
      "metadata": {
        "id": "SicwPdHvfHmw"
      },
      "outputs": [],
      "source": [
        "from imblearn.combine import SMOTEENN"
      ]
    },
    {
      "cell_type": "markdown",
      "metadata": {
        "id": "cny5JcQGgxhW"
      },
      "source": [
        "### Model"
      ]
    },
    {
      "cell_type": "code",
      "execution_count": null,
      "metadata": {
        "id": "RbwVO_8edZJL"
      },
      "outputs": [],
      "source": [
        "def empirical_simulator(df, col, n):\n",
        "  df[col].value_counts()\n",
        "  simulated_data = np.random.choice(\n",
        "    a = df[c].value_counts().index,\n",
        "    size = n,\n",
        "    p = df[c].value_counts() / sum(df[c].value_counts())\n",
        "  )\n",
        "  return simulated_data"
      ]
    },
    {
      "cell_type": "markdown",
      "metadata": {
        "id": "C2ZJVbsag00E"
      },
      "source": [
        "### Simulated data"
      ]
    },
    {
      "cell_type": "code",
      "execution_count": null,
      "metadata": {
        "id": "upCTF2rid4vL"
      },
      "outputs": [],
      "source": [
        "new_data = {}\n",
        "for c in df_final.columns:\n",
        "  new_data[c] = empirical_simulator(df_final, c, 1000)\n",
        "df_empirical_simulated = pd.DataFrame(new_data)"
      ]
    },
    {
      "cell_type": "markdown",
      "metadata": {
        "id": "q5xk3zKTg_OK"
      },
      "source": [
        "### Visualization"
      ]
    },
    {
      "cell_type": "code",
      "execution_count": null,
      "metadata": {
        "colab": {
          "base_uri": "https://localhost:8080/",
          "height": 1000
        },
        "id": "AF2e2iQWhBZj",
        "outputId": "9f4d77e9-4e8d-4148-d20b-e66ffc9b38e4"
      },
      "outputs": [
        {
          "data": {
            "image/png": "[encoded data removed]",
            "text/plain": [
              "<Figure size 640x480 with 1 Axes>"
            ]
          },
          "metadata": {},
          "output_type": "display_data"
        },
        {
          "data": {
            "image/png": "[encoded data removed]",
            "text/plain": [
              "<Figure size 640x480 with 1 Axes>"
            ]
          },
          "metadata": {},
          "output_type": "display_data"
        },
        {
          "data": {
            "image/png": "[encoded data removed]",
            "text/plain": [
              "<Figure size 640x480 with 1 Axes>"
            ]
          },
          "metadata": {},
          "output_type": "display_data"
        },
        {
          "data": {
            "image/png": "[encoded data removed]",
            "text/plain": [
              "<Figure size 640x480 with 1 Axes>"
            ]
          },
          "metadata": {},
          "output_type": "display_data"
        },
        {
          "data": {
            "image/png": "[encoded data removed]",
            "text/plain": [
              "<Figure size 640x480 with 1 Axes>"
            ]
          },
          "metadata": {},
          "output_type": "display_data"
        },
        {
          "data": {
            "image/png": "[encoded data removed]",
            "text/plain": [
              "<Figure size 640x480 with 1 Axes>"
            ]
          },
          "metadata": {},
          "output_type": "display_data"
        },
        {
          "data": {
            "image/png": "[encoded data removed]",
            "text/plain": [
              "<Figure size 640x480 with 1 Axes>"
            ]
          },
          "metadata": {},
          "output_type": "display_data"
        },
        {
          "data": {
            "image/png": "[encoded data removed]",
            "text/plain": [
              "<Figure size 640x480 with 1 Axes>"
            ]
          },
          "metadata": {},
          "output_type": "display_data"
        }
      ],
      "source": [
        "for c in df_final.columns:\n",
        "  plt.figure()\n",
        "  plt.title(c)\n",
        "  sns.boxplot(\n",
        "    data=[df_empirical_simulated[c], df_final[c]])\n",
        "  plt.show()"
      ]
    },
    {
      "cell_type": "markdown",
      "metadata": {
        "id": "Y6pMLjFXfJuL"
      },
      "source": [
        "## Normality simulation"
      ]
    },
    {
      "cell_type": "code",
      "execution_count": null,
      "metadata": {
        "id": "MNs4KdQafQ-5"
      },
      "outputs": [],
      "source": [
        "import pingouin as pg"
      ]
    },
    {
      "cell_type": "code",
      "execution_count": null,
      "metadata": {
        "id": "Qt7vJFI_fHmx",
        "outputId": "93775fb6-e3c8-459b-b4fe-d3d4a86c44e6"
      },
      "outputs": [
        {
          "data": {
            "text/plain": [
              "Index(['ID', 'Cell1', 'Age', 'Sex', 'Type', 'Method', '%hydroxylysine_ind',\n",
              "       'errors'],\n",
              "      dtype='object')"
            ]
          },
          "execution_count": 172,
          "metadata": {},
          "output_type": "execute_result"
        }
      ],
      "source": [
        "df_final.columns"
      ]
    },
    {
      "cell_type": "code",
      "execution_count": null,
      "metadata": {
        "id": "mAZz0tOXfHmx",
        "outputId": "c2841f11-5a1c-421a-ccfa-5e259e6f58a8"
      },
      "outputs": [
        {
          "data": {
            "image/png": "[encoded data removed]",
            "text/plain": [
              "<Figure size 640x480 with 1 Axes>"
            ]
          },
          "metadata": {},
          "output_type": "display_data"
        },
        {
          "data": {
            "image/png": "[encoded data removed]",
            "text/plain": [
              "<Figure size 640x480 with 1 Axes>"
            ]
          },
          "metadata": {},
          "output_type": "display_data"
        },
        {
          "data": {
            "image/png": "[encoded data removed]",
            "text/plain": [
              "<Figure size 640x480 with 1 Axes>"
            ]
          },
          "metadata": {},
          "output_type": "display_data"
        },
        {
          "data": {
            "image/png": "[encoded data removed]",
            "text/plain": [
              "<Figure size 640x480 with 1 Axes>"
            ]
          },
          "metadata": {},
          "output_type": "display_data"
        },
        {
          "data": {
            "image/png": "[encoded data removed]",
            "text/plain": [
              "<Figure size 640x480 with 1 Axes>"
            ]
          },
          "metadata": {},
          "output_type": "display_data"
        },
        {
          "data": {
            "image/png": "[encoded data removed]",
            "text/plain": [
              "<Figure size 640x480 with 1 Axes>"
            ]
          },
          "metadata": {},
          "output_type": "display_data"
        }
      ],
      "source": [
        "for c in ['Cell1', 'Age', 'Sex', 'Type', 'Method', '%hydroxylysine_ind']:\n",
        "    plt.figure()\n",
        "    plt.hist(df_final[c])\n",
        "    plt.title(c)\n",
        "    plt.show()"
      ]
    },
    {
      "cell_type": "code",
      "execution_count": null,
      "metadata": {
        "id": "9bS0Dk60fHmx",
        "outputId": "e3e32e11-2187-4aff-a84f-9be28a272158"
      },
      "outputs": [
        {
          "data": {
            "text/plain": [
              "array([1, 2, 3], dtype=int64)"
            ]
          },
          "execution_count": 174,
          "metadata": {},
          "output_type": "execute_result"
        }
      ],
      "source": [
        "df_final.Sex.unique()"
      ]
    },
    {
      "cell_type": "code",
      "execution_count": null,
      "metadata": {
        "id": "AZ9xsW49fHmy",
        "outputId": "378b18cc-1f22-4fb2-a9a3-02611d39c08f"
      },
      "outputs": [
        {
          "data": {
            "text/plain": [
              "<Axes: xlabel='Theoretical quantiles', ylabel='Ordered quantiles'>"
            ]
          },
          "execution_count": 175,
          "metadata": {},
          "output_type": "execute_result"
        },
        {
          "data": {
            "image/png": "[encoded data removed]",
            "text/plain": [
              "<Figure size 640x480 with 1 Axes>"
            ]
          },
          "metadata": {},
          "output_type": "display_data"
        }
      ],
      "source": [
        "pg.qqplot(df_final['%hydroxylysine_ind'], dist='norm')"
      ]
    },
    {
      "cell_type": "code",
      "execution_count": null,
      "metadata": {
        "id": "XwrHWMK4fHmy",
        "outputId": "b9763375-439a-4c4c-e11d-32572667432b"
      },
      "outputs": [
        {
          "name": "stdout",
          "output_type": "stream",
          "text": [
            "                           W          pval  normal\n",
            "%hydroxylysine_ind  0.739249  9.521427e-10   False\n"
          ]
        }
      ],
      "source": [
        "print(pg.normality(df_final['%hydroxylysine_ind']))"
      ]
    },
    {
      "cell_type": "code",
      "execution_count": null,
      "metadata": {
        "id": "Vyhj3nj1fHmy"
      },
      "outputs": [],
      "source": [
        "import statsmodels.api as sm"
      ]
    },
    {
      "cell_type": "code",
      "execution_count": null,
      "metadata": {
        "id": "KNTYIw-BfHmz"
      },
      "outputs": [],
      "source": [
        "model = sm.OLS(\n",
        "    df_final['%hydroxylysine_ind'],\n",
        "    df_final[['Cell1', 'Age', 'Sex', 'Type', 'Method', '%hydroxylysine_ind']]\n",
        ")"
      ]
    },
    {
      "cell_type": "code",
      "execution_count": null,
      "metadata": {
        "id": "UBKuNRegfHmz",
        "outputId": "e0d2d6fc-b33a-4438-a542-fd7ac48cb1b1"
      },
      "outputs": [
        {
          "data": {
            "text/plain": [
              "Cell1                -1.387779e-17\n",
              "Age                  -3.122502e-17\n",
              "Sex                   8.326673e-17\n",
              "Type                  1.804112e-16\n",
              "Method               -1.075529e-16\n",
              "%hydroxylysine_ind    1.000000e+00\n",
              "dtype: float64"
            ]
          },
          "execution_count": 179,
          "metadata": {},
          "output_type": "execute_result"
        }
      ],
      "source": [
        "results = model.fit()\n",
        "results.params"
      ]
    }
  ],
  "metadata": {
    "colab": {
      "provenance": [],
      "toc_visible": true,
      "include_colab_link": true
    },
    "kernelspec": {
      "display_name": "Python 3",
      "name": "python3"
    },
    "language_info": {
      "codemirror_mode": {
        "name": "ipython",
        "version": 3
      },
      "file_extension": ".py",
      "mimetype": "text/x-python",
      "name": "python",
      "nbconvert_exporter": "python",
      "pygments_lexer": "ipython3",
      "version": "3.11.0"
    }
  },
  "nbformat": 4,
  "nbformat_minor": 0
}
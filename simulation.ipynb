{
  "cells": [
    {
      "attachments": {},
      "cell_type": "markdown",
      "metadata": {
        "colab_type": "text",
        "id": "view-in-github"
      },
      "source": [
        "<a href=\"https://colab.research.google.com/github/RareDiseaseData/Meta-analysis-data/blob/main/simulation.ipynb\" target=\"_parent\"><img src=\"https://colab.research.google.com/assets/colab-badge.svg\" alt=\"Open In Colab\"/></a>"
      ]
    },
    {
      "attachments": {},
      "cell_type": "markdown",
      "metadata": {
        "id": "vT3qm419Wz19"
      },
      "source": [
        "## Packages"
      ]
    },
    {
      "cell_type": "code",
      "execution_count": 142,
      "metadata": {
        "id": "dHfLZ_gITD32"
      },
      "outputs": [],
      "source": [
        "import numpy as np\n",
        "import pandas as pd\n",
        "import matplotlib.pyplot as plt\n",
        "import seaborn as sns"
      ]
    },
    {
      "attachments": {},
      "cell_type": "markdown",
      "metadata": {
        "id": "f1_HLPUfW2N_"
      },
      "source": [
        "## Read data"
      ]
    },
    {
      "cell_type": "code",
      "execution_count": 143,
      "metadata": {
        "colab": {
          "base_uri": "https://localhost:8080/",
          "height": 1000
        },
        "id": "NVa0eUQCTM1g",
        "outputId": "964720be-5762-47af-e266-e1fda86b0560"
      },
      "outputs": [
        {
          "data": {
            "text/html": [
              "<div>\n",
              "<style scoped>\n",
              "    .dataframe tbody tr th:only-of-type {\n",
              "        vertical-align: middle;\n",
              "    }\n",
              "\n",
              "    .dataframe tbody tr th {\n",
              "        vertical-align: top;\n",
              "    }\n",
              "\n",
              "    .dataframe thead th {\n",
              "        text-align: right;\n",
              "    }\n",
              "</style>\n",
              "<table border=\"1\" class=\"dataframe\">\n",
              "  <thead>\n",
              "    <tr style=\"text-align: right;\">\n",
              "      <th></th>\n",
              "      <th>ID</th>\n",
              "      <th>Author</th>\n",
              "      <th>Year</th>\n",
              "      <th>Title</th>\n",
              "      <th>Cell1</th>\n",
              "      <th>Cell2</th>\n",
              "      <th>Age</th>\n",
              "      <th>Sex</th>\n",
              "      <th>Type</th>\n",
              "      <th>n</th>\n",
              "      <th>...</th>\n",
              "      <th>Method</th>\n",
              "      <th>Control vs patient vs aggregate</th>\n",
              "      <th>Measurement</th>\n",
              "      <th>%hydroxylysine_ind</th>\n",
              "      <th>%hydroxylysine_per_n1</th>\n",
              "      <th>%hydoxylation_per_n2</th>\n",
              "      <th>STD_n1</th>\n",
              "      <th>STD_n2</th>\n",
              "      <th>STD simulated from regression</th>\n",
              "      <th>STD combined</th>\n",
              "    </tr>\n",
              "  </thead>\n",
              "  <tbody>\n",
              "    <tr>\n",
              "      <th>0</th>\n",
              "      <td>6</td>\n",
              "      <td>Bleckmann, H.;Kresse, H.;Wollensak, J.;Buddeck...</td>\n",
              "      <td>1971</td>\n",
              "      <td>[Glycosaminoglycan and collagen analyses in os...</td>\n",
              "      <td>2</td>\n",
              "      <td>2</td>\n",
              "      <td>2</td>\n",
              "      <td>1</td>\n",
              "      <td>9</td>\n",
              "      <td>1.0</td>\n",
              "      <td>...</td>\n",
              "      <td>1</td>\n",
              "      <td>1</td>\n",
              "      <td>1</td>\n",
              "      <td>0.465116</td>\n",
              "      <td>NaN</td>\n",
              "      <td>NaN</td>\n",
              "      <td>NaN</td>\n",
              "      <td>NaN</td>\n",
              "      <td>0.093500</td>\n",
              "      <td>NaN</td>\n",
              "    </tr>\n",
              "    <tr>\n",
              "      <th>1</th>\n",
              "      <td>8</td>\n",
              "      <td>Eastoe, J. E.;Martens, P.;Thomas, N. R.</td>\n",
              "      <td>1973</td>\n",
              "      <td>The amino-acid composition of human hard tissu...</td>\n",
              "      <td>2</td>\n",
              "      <td>3</td>\n",
              "      <td>1</td>\n",
              "      <td>1</td>\n",
              "      <td>2</td>\n",
              "      <td>1.0</td>\n",
              "      <td>...</td>\n",
              "      <td>2</td>\n",
              "      <td>1</td>\n",
              "      <td>1</td>\n",
              "      <td>0.219020</td>\n",
              "      <td>NaN</td>\n",
              "      <td>NaN</td>\n",
              "      <td>NaN</td>\n",
              "      <td>NaN</td>\n",
              "      <td>0.083326</td>\n",
              "      <td>NaN</td>\n",
              "    </tr>\n",
              "    <tr>\n",
              "      <th>2</th>\n",
              "      <td>15</td>\n",
              "      <td>Trelstad, R. L.;Rubin, D.;Gross, J.</td>\n",
              "      <td>1977</td>\n",
              "      <td>Osteogenesis imperfecta congenita: evidence fo...</td>\n",
              "      <td>1</td>\n",
              "      <td>1</td>\n",
              "      <td>1</td>\n",
              "      <td>2</td>\n",
              "      <td>2</td>\n",
              "      <td>3.0</td>\n",
              "      <td>...</td>\n",
              "      <td>5</td>\n",
              "      <td>1</td>\n",
              "      <td>1</td>\n",
              "      <td>0.218750</td>\n",
              "      <td>0.314373</td>\n",
              "      <td>0.314373</td>\n",
              "      <td>0.00587</td>\n",
              "      <td>0.00587</td>\n",
              "      <td>NaN</td>\n",
              "      <td>NaN</td>\n",
              "    </tr>\n",
              "    <tr>\n",
              "      <th>3</th>\n",
              "      <td>15</td>\n",
              "      <td>Trelstad, R. L.;Rubin, D.;Gross, J.</td>\n",
              "      <td>1977</td>\n",
              "      <td>Osteogenesis imperfecta congenita: evidence fo...</td>\n",
              "      <td>2</td>\n",
              "      <td>2</td>\n",
              "      <td>1</td>\n",
              "      <td>2</td>\n",
              "      <td>2</td>\n",
              "      <td>NaN</td>\n",
              "      <td>...</td>\n",
              "      <td>3</td>\n",
              "      <td>1</td>\n",
              "      <td>1</td>\n",
              "      <td>0.371429</td>\n",
              "      <td>NaN</td>\n",
              "      <td>NaN</td>\n",
              "      <td>NaN</td>\n",
              "      <td>NaN</td>\n",
              "      <td>0.041000</td>\n",
              "      <td>NaN</td>\n",
              "    </tr>\n",
              "    <tr>\n",
              "      <th>4</th>\n",
              "      <td>15</td>\n",
              "      <td>Trelstad, R. L.;Rubin, D.;Gross, J.</td>\n",
              "      <td>1978</td>\n",
              "      <td>Osteogenesis imperfecta congenita: evidence fo...</td>\n",
              "      <td>2</td>\n",
              "      <td>3</td>\n",
              "      <td>1</td>\n",
              "      <td>2</td>\n",
              "      <td>2</td>\n",
              "      <td>NaN</td>\n",
              "      <td>...</td>\n",
              "      <td>3</td>\n",
              "      <td>1</td>\n",
              "      <td>1</td>\n",
              "      <td>0.352941</td>\n",
              "      <td>NaN</td>\n",
              "      <td>NaN</td>\n",
              "      <td>NaN</td>\n",
              "      <td>NaN</td>\n",
              "      <td>0.037900</td>\n",
              "      <td>NaN</td>\n",
              "    </tr>\n",
              "    <tr>\n",
              "      <th>...</th>\n",
              "      <td>...</td>\n",
              "      <td>...</td>\n",
              "      <td>...</td>\n",
              "      <td>...</td>\n",
              "      <td>...</td>\n",
              "      <td>...</td>\n",
              "      <td>...</td>\n",
              "      <td>...</td>\n",
              "      <td>...</td>\n",
              "      <td>...</td>\n",
              "      <td>...</td>\n",
              "      <td>...</td>\n",
              "      <td>...</td>\n",
              "      <td>...</td>\n",
              "      <td>...</td>\n",
              "      <td>...</td>\n",
              "      <td>...</td>\n",
              "      <td>...</td>\n",
              "      <td>...</td>\n",
              "      <td>...</td>\n",
              "      <td>...</td>\n",
              "    </tr>\n",
              "    <tr>\n",
              "      <th>64</th>\n",
              "      <td>158</td>\n",
              "      <td>Lehmann, H. W.;Rimek, D.;Bodo, M.;Brenner, R. ...</td>\n",
              "      <td>1995</td>\n",
              "      <td>Hydroxylation of collagen type I: evidence tha...</td>\n",
              "      <td>1</td>\n",
              "      <td>1</td>\n",
              "      <td>5</td>\n",
              "      <td>3</td>\n",
              "      <td>4</td>\n",
              "      <td>NaN</td>\n",
              "      <td>...</td>\n",
              "      <td>5</td>\n",
              "      <td>1</td>\n",
              "      <td>1</td>\n",
              "      <td>0.370504</td>\n",
              "      <td>NaN</td>\n",
              "      <td>NaN</td>\n",
              "      <td>NaN</td>\n",
              "      <td>NaN</td>\n",
              "      <td>0.044100</td>\n",
              "      <td>NaN</td>\n",
              "    </tr>\n",
              "    <tr>\n",
              "      <th>65</th>\n",
              "      <td>158</td>\n",
              "      <td>Lehmann, H. W.;Rimek, D.;Bodo, M.;Brenner, R. ...</td>\n",
              "      <td>1995</td>\n",
              "      <td>Hydroxylation of collagen type I: evidence tha...</td>\n",
              "      <td>1</td>\n",
              "      <td>1</td>\n",
              "      <td>5</td>\n",
              "      <td>3</td>\n",
              "      <td>4</td>\n",
              "      <td>NaN</td>\n",
              "      <td>...</td>\n",
              "      <td>5</td>\n",
              "      <td>1</td>\n",
              "      <td>1</td>\n",
              "      <td>0.412710</td>\n",
              "      <td>NaN</td>\n",
              "      <td>NaN</td>\n",
              "      <td>NaN</td>\n",
              "      <td>NaN</td>\n",
              "      <td>0.051200</td>\n",
              "      <td>NaN</td>\n",
              "    </tr>\n",
              "    <tr>\n",
              "      <th>66</th>\n",
              "      <td>158</td>\n",
              "      <td>Lehmann, H. W.;Rimek, D.;Bodo, M.;Brenner, R. ...</td>\n",
              "      <td>1995</td>\n",
              "      <td>Hydroxylation of collagen type I: evidence tha...</td>\n",
              "      <td>1</td>\n",
              "      <td>1</td>\n",
              "      <td>5</td>\n",
              "      <td>3</td>\n",
              "      <td>4</td>\n",
              "      <td>NaN</td>\n",
              "      <td>...</td>\n",
              "      <td>5</td>\n",
              "      <td>1</td>\n",
              "      <td>1</td>\n",
              "      <td>0.423261</td>\n",
              "      <td>NaN</td>\n",
              "      <td>NaN</td>\n",
              "      <td>NaN</td>\n",
              "      <td>NaN</td>\n",
              "      <td>0.053000</td>\n",
              "      <td>NaN</td>\n",
              "    </tr>\n",
              "    <tr>\n",
              "      <th>67</th>\n",
              "      <td>158</td>\n",
              "      <td>Lehmann, H. W.;Rimek, D.;Bodo, M.;Brenner, R. ...</td>\n",
              "      <td>1995</td>\n",
              "      <td>Hydroxylation of collagen type I: evidence tha...</td>\n",
              "      <td>1</td>\n",
              "      <td>1</td>\n",
              "      <td>5</td>\n",
              "      <td>3</td>\n",
              "      <td>4</td>\n",
              "      <td>NaN</td>\n",
              "      <td>...</td>\n",
              "      <td>5</td>\n",
              "      <td>1</td>\n",
              "      <td>1</td>\n",
              "      <td>0.425180</td>\n",
              "      <td>NaN</td>\n",
              "      <td>NaN</td>\n",
              "      <td>NaN</td>\n",
              "      <td>NaN</td>\n",
              "      <td>0.053300</td>\n",
              "      <td>NaN</td>\n",
              "    </tr>\n",
              "    <tr>\n",
              "      <th>68</th>\n",
              "      <td>158</td>\n",
              "      <td>Lehmann, H. W.;Rimek, D.;Bodo, M.;Brenner, R. ...</td>\n",
              "      <td>1995</td>\n",
              "      <td>Hydroxylation of collagen type I: evidence tha...</td>\n",
              "      <td>1</td>\n",
              "      <td>1</td>\n",
              "      <td>5</td>\n",
              "      <td>3</td>\n",
              "      <td>4</td>\n",
              "      <td>NaN</td>\n",
              "      <td>...</td>\n",
              "      <td>5</td>\n",
              "      <td>1</td>\n",
              "      <td>1</td>\n",
              "      <td>0.469305</td>\n",
              "      <td>NaN</td>\n",
              "      <td>NaN</td>\n",
              "      <td>NaN</td>\n",
              "      <td>NaN</td>\n",
              "      <td>0.060700</td>\n",
              "      <td>NaN</td>\n",
              "    </tr>\n",
              "  </tbody>\n",
              "</table>\n",
              "<p>69 rows × 23 columns</p>\n",
              "</div>"
            ],
            "text/plain": [
              "     ID                                             Author  Year  \\\n",
              "0     6  Bleckmann, H.;Kresse, H.;Wollensak, J.;Buddeck...  1971   \n",
              "1     8            Eastoe, J. E.;Martens, P.;Thomas, N. R.  1973   \n",
              "2    15                Trelstad, R. L.;Rubin, D.;Gross, J.  1977   \n",
              "3    15                Trelstad, R. L.;Rubin, D.;Gross, J.  1977   \n",
              "4    15                Trelstad, R. L.;Rubin, D.;Gross, J.  1978   \n",
              "..  ...                                                ...   ...   \n",
              "64  158  Lehmann, H. W.;Rimek, D.;Bodo, M.;Brenner, R. ...  1995   \n",
              "65  158  Lehmann, H. W.;Rimek, D.;Bodo, M.;Brenner, R. ...  1995   \n",
              "66  158  Lehmann, H. W.;Rimek, D.;Bodo, M.;Brenner, R. ...  1995   \n",
              "67  158  Lehmann, H. W.;Rimek, D.;Bodo, M.;Brenner, R. ...  1995   \n",
              "68  158  Lehmann, H. W.;Rimek, D.;Bodo, M.;Brenner, R. ...  1995   \n",
              "\n",
              "                                                Title  Cell1  Cell2  Age  Sex  \\\n",
              "0   [Glycosaminoglycan and collagen analyses in os...      2      2    2    1   \n",
              "1   The amino-acid composition of human hard tissu...      2      3    1    1   \n",
              "2   Osteogenesis imperfecta congenita: evidence fo...      1      1    1    2   \n",
              "3   Osteogenesis imperfecta congenita: evidence fo...      2      2    1    2   \n",
              "4   Osteogenesis imperfecta congenita: evidence fo...      2      3    1    2   \n",
              "..                                                ...    ...    ...  ...  ...   \n",
              "64  Hydroxylation of collagen type I: evidence tha...      1      1    5    3   \n",
              "65  Hydroxylation of collagen type I: evidence tha...      1      1    5    3   \n",
              "66  Hydroxylation of collagen type I: evidence tha...      1      1    5    3   \n",
              "67  Hydroxylation of collagen type I: evidence tha...      1      1    5    3   \n",
              "68  Hydroxylation of collagen type I: evidence tha...      1      1    5    3   \n",
              "\n",
              "    Type    n  ...  Method Control vs patient vs aggregate  Measurement  \\\n",
              "0      9  1.0  ...       1                               1            1   \n",
              "1      2  1.0  ...       2                               1            1   \n",
              "2      2  3.0  ...       5                               1            1   \n",
              "3      2  NaN  ...       3                               1            1   \n",
              "4      2  NaN  ...       3                               1            1   \n",
              "..   ...  ...  ...     ...                             ...          ...   \n",
              "64     4  NaN  ...       5                               1            1   \n",
              "65     4  NaN  ...       5                               1            1   \n",
              "66     4  NaN  ...       5                               1            1   \n",
              "67     4  NaN  ...       5                               1            1   \n",
              "68     4  NaN  ...       5                               1            1   \n",
              "\n",
              "    %hydroxylysine_ind  %hydroxylysine_per_n1  %hydoxylation_per_n2   STD_n1  \\\n",
              "0             0.465116                    NaN                   NaN      NaN   \n",
              "1             0.219020                    NaN                   NaN      NaN   \n",
              "2             0.218750               0.314373              0.314373  0.00587   \n",
              "3             0.371429                    NaN                   NaN      NaN   \n",
              "4             0.352941                    NaN                   NaN      NaN   \n",
              "..                 ...                    ...                   ...      ...   \n",
              "64            0.370504                    NaN                   NaN      NaN   \n",
              "65            0.412710                    NaN                   NaN      NaN   \n",
              "66            0.423261                    NaN                   NaN      NaN   \n",
              "67            0.425180                    NaN                   NaN      NaN   \n",
              "68            0.469305                    NaN                   NaN      NaN   \n",
              "\n",
              "     STD_n2  STD simulated from regression  STD combined  \n",
              "0       NaN                       0.093500           NaN  \n",
              "1       NaN                       0.083326           NaN  \n",
              "2   0.00587                            NaN           NaN  \n",
              "3       NaN                       0.041000           NaN  \n",
              "4       NaN                       0.037900           NaN  \n",
              "..      ...                            ...           ...  \n",
              "64      NaN                       0.044100           NaN  \n",
              "65      NaN                       0.051200           NaN  \n",
              "66      NaN                       0.053000           NaN  \n",
              "67      NaN                       0.053300           NaN  \n",
              "68      NaN                       0.060700           NaN  \n",
              "\n",
              "[69 rows x 23 columns]"
            ]
          },
          "execution_count": 143,
          "metadata": {},
          "output_type": "execute_result"
        }
      ],
      "source": [
        "df = pd.read_csv(\"content/Hyl_Patient_data.csv\")\n",
        "df"
      ]
    },
    {
      "attachments": {},
      "cell_type": "markdown",
      "metadata": {
        "id": "U0DPRcOIW422"
      },
      "source": [
        "## Preprocessing"
      ]
    },
    {
      "cell_type": "code",
      "execution_count": 144,
      "metadata": {
        "colab": {
          "base_uri": "https://localhost:8080/"
        },
        "id": "SWVyZZM1V51c",
        "outputId": "e9697714-8c3d-444f-b38d-936a7eab9aec"
      },
      "outputs": [
        {
          "data": {
            "text/plain": [
              "Index(['ID', 'Author', 'Year', 'Title', 'Cell1', 'Cell2', 'Age', 'Sex', 'Type',\n",
              "       'n', 'n2', 'Contains std', 'type of comparaison', 'Method',\n",
              "       'Control vs patient vs aggregate', 'Measurement', '%hydroxylysine_ind',\n",
              "       '%hydroxylysine_per_n1', '%hydoxylation_per_n2', 'STD_n1', 'STD_n2',\n",
              "       'STD simulated from regression', 'STD combined'],\n",
              "      dtype='object')"
            ]
          },
          "execution_count": 144,
          "metadata": {},
          "output_type": "execute_result"
        }
      ],
      "source": [
        "df.columns"
      ]
    },
    {
      "cell_type": "code",
      "execution_count": 145,
      "metadata": {
        "colab": {
          "base_uri": "https://localhost:8080/",
          "height": 423
        },
        "id": "oBe4UDfCV7t-",
        "outputId": "ae59093b-7300-4676-e904-11aab36f3b33"
      },
      "outputs": [
        {
          "data": {
            "text/html": [
              "<div>\n",
              "<style scoped>\n",
              "    .dataframe tbody tr th:only-of-type {\n",
              "        vertical-align: middle;\n",
              "    }\n",
              "\n",
              "    .dataframe tbody tr th {\n",
              "        vertical-align: top;\n",
              "    }\n",
              "\n",
              "    .dataframe thead th {\n",
              "        text-align: right;\n",
              "    }\n",
              "</style>\n",
              "<table border=\"1\" class=\"dataframe\">\n",
              "  <thead>\n",
              "    <tr style=\"text-align: right;\">\n",
              "      <th></th>\n",
              "      <th>ID</th>\n",
              "      <th>Cell1</th>\n",
              "      <th>Age</th>\n",
              "      <th>Sex</th>\n",
              "      <th>Type</th>\n",
              "      <th>n</th>\n",
              "      <th>Method</th>\n",
              "      <th>%hydroxylysine_ind</th>\n",
              "      <th>STD_n1</th>\n",
              "      <th>STD_n2</th>\n",
              "    </tr>\n",
              "  </thead>\n",
              "  <tbody>\n",
              "    <tr>\n",
              "      <th>0</th>\n",
              "      <td>6</td>\n",
              "      <td>2</td>\n",
              "      <td>2</td>\n",
              "      <td>1</td>\n",
              "      <td>9</td>\n",
              "      <td>1.0</td>\n",
              "      <td>1</td>\n",
              "      <td>0.465116</td>\n",
              "      <td>NaN</td>\n",
              "      <td>NaN</td>\n",
              "    </tr>\n",
              "    <tr>\n",
              "      <th>1</th>\n",
              "      <td>8</td>\n",
              "      <td>2</td>\n",
              "      <td>1</td>\n",
              "      <td>1</td>\n",
              "      <td>2</td>\n",
              "      <td>1.0</td>\n",
              "      <td>2</td>\n",
              "      <td>0.219020</td>\n",
              "      <td>NaN</td>\n",
              "      <td>NaN</td>\n",
              "    </tr>\n",
              "    <tr>\n",
              "      <th>2</th>\n",
              "      <td>15</td>\n",
              "      <td>1</td>\n",
              "      <td>1</td>\n",
              "      <td>2</td>\n",
              "      <td>2</td>\n",
              "      <td>3.0</td>\n",
              "      <td>5</td>\n",
              "      <td>0.218750</td>\n",
              "      <td>0.00587</td>\n",
              "      <td>0.00587</td>\n",
              "    </tr>\n",
              "    <tr>\n",
              "      <th>3</th>\n",
              "      <td>15</td>\n",
              "      <td>2</td>\n",
              "      <td>1</td>\n",
              "      <td>2</td>\n",
              "      <td>2</td>\n",
              "      <td>NaN</td>\n",
              "      <td>3</td>\n",
              "      <td>0.371429</td>\n",
              "      <td>NaN</td>\n",
              "      <td>NaN</td>\n",
              "    </tr>\n",
              "    <tr>\n",
              "      <th>4</th>\n",
              "      <td>15</td>\n",
              "      <td>2</td>\n",
              "      <td>1</td>\n",
              "      <td>2</td>\n",
              "      <td>2</td>\n",
              "      <td>NaN</td>\n",
              "      <td>3</td>\n",
              "      <td>0.352941</td>\n",
              "      <td>NaN</td>\n",
              "      <td>NaN</td>\n",
              "    </tr>\n",
              "    <tr>\n",
              "      <th>...</th>\n",
              "      <td>...</td>\n",
              "      <td>...</td>\n",
              "      <td>...</td>\n",
              "      <td>...</td>\n",
              "      <td>...</td>\n",
              "      <td>...</td>\n",
              "      <td>...</td>\n",
              "      <td>...</td>\n",
              "      <td>...</td>\n",
              "      <td>...</td>\n",
              "    </tr>\n",
              "    <tr>\n",
              "      <th>64</th>\n",
              "      <td>158</td>\n",
              "      <td>1</td>\n",
              "      <td>5</td>\n",
              "      <td>3</td>\n",
              "      <td>4</td>\n",
              "      <td>NaN</td>\n",
              "      <td>5</td>\n",
              "      <td>0.370504</td>\n",
              "      <td>NaN</td>\n",
              "      <td>NaN</td>\n",
              "    </tr>\n",
              "    <tr>\n",
              "      <th>65</th>\n",
              "      <td>158</td>\n",
              "      <td>1</td>\n",
              "      <td>5</td>\n",
              "      <td>3</td>\n",
              "      <td>4</td>\n",
              "      <td>NaN</td>\n",
              "      <td>5</td>\n",
              "      <td>0.412710</td>\n",
              "      <td>NaN</td>\n",
              "      <td>NaN</td>\n",
              "    </tr>\n",
              "    <tr>\n",
              "      <th>66</th>\n",
              "      <td>158</td>\n",
              "      <td>1</td>\n",
              "      <td>5</td>\n",
              "      <td>3</td>\n",
              "      <td>4</td>\n",
              "      <td>NaN</td>\n",
              "      <td>5</td>\n",
              "      <td>0.423261</td>\n",
              "      <td>NaN</td>\n",
              "      <td>NaN</td>\n",
              "    </tr>\n",
              "    <tr>\n",
              "      <th>67</th>\n",
              "      <td>158</td>\n",
              "      <td>1</td>\n",
              "      <td>5</td>\n",
              "      <td>3</td>\n",
              "      <td>4</td>\n",
              "      <td>NaN</td>\n",
              "      <td>5</td>\n",
              "      <td>0.425180</td>\n",
              "      <td>NaN</td>\n",
              "      <td>NaN</td>\n",
              "    </tr>\n",
              "    <tr>\n",
              "      <th>68</th>\n",
              "      <td>158</td>\n",
              "      <td>1</td>\n",
              "      <td>5</td>\n",
              "      <td>3</td>\n",
              "      <td>4</td>\n",
              "      <td>NaN</td>\n",
              "      <td>5</td>\n",
              "      <td>0.469305</td>\n",
              "      <td>NaN</td>\n",
              "      <td>NaN</td>\n",
              "    </tr>\n",
              "  </tbody>\n",
              "</table>\n",
              "<p>69 rows × 10 columns</p>\n",
              "</div>"
            ],
            "text/plain": [
              "     ID  Cell1  Age  Sex  Type    n  Method  %hydroxylysine_ind   STD_n1  \\\n",
              "0     6      2    2    1     9  1.0       1            0.465116      NaN   \n",
              "1     8      2    1    1     2  1.0       2            0.219020      NaN   \n",
              "2    15      1    1    2     2  3.0       5            0.218750  0.00587   \n",
              "3    15      2    1    2     2  NaN       3            0.371429      NaN   \n",
              "4    15      2    1    2     2  NaN       3            0.352941      NaN   \n",
              "..  ...    ...  ...  ...   ...  ...     ...                 ...      ...   \n",
              "64  158      1    5    3     4  NaN       5            0.370504      NaN   \n",
              "65  158      1    5    3     4  NaN       5            0.412710      NaN   \n",
              "66  158      1    5    3     4  NaN       5            0.423261      NaN   \n",
              "67  158      1    5    3     4  NaN       5            0.425180      NaN   \n",
              "68  158      1    5    3     4  NaN       5            0.469305      NaN   \n",
              "\n",
              "     STD_n2  \n",
              "0       NaN  \n",
              "1       NaN  \n",
              "2   0.00587  \n",
              "3       NaN  \n",
              "4       NaN  \n",
              "..      ...  \n",
              "64      NaN  \n",
              "65      NaN  \n",
              "66      NaN  \n",
              "67      NaN  \n",
              "68      NaN  \n",
              "\n",
              "[69 rows x 10 columns]"
            ]
          },
          "execution_count": 145,
          "metadata": {},
          "output_type": "execute_result"
        }
      ],
      "source": [
        "df_sel = df[[\n",
        "    'ID',\n",
        "    'Cell1', # 1 fibroblast or 2 bone \n",
        "    'Age', \n",
        "    'Sex', \n",
        "    'Type', # severity of the pain (not linear)\n",
        "    'n', \n",
        "    'Method', # quemistry method used for the extraction\n",
        "    '%hydroxylysine_ind', # outcome for ipd\n",
        "    'STD_n1', # within study std\n",
        "    'STD_n2' # within study std within type\n",
        "  ]]\n",
        "df_sel"
      ]
    },
    {
      "cell_type": "code",
      "execution_count": 146,
      "metadata": {
        "colab": {
          "base_uri": "https://localhost:8080/",
          "height": 300
        },
        "id": "NhcsPmwiYLKN",
        "outputId": "f9e22504-6ee5-4222-b010-8935337fb2a1"
      },
      "outputs": [
        {
          "data": {
            "text/html": [
              "<div>\n",
              "<style scoped>\n",
              "    .dataframe tbody tr th:only-of-type {\n",
              "        vertical-align: middle;\n",
              "    }\n",
              "\n",
              "    .dataframe tbody tr th {\n",
              "        vertical-align: top;\n",
              "    }\n",
              "\n",
              "    .dataframe thead th {\n",
              "        text-align: right;\n",
              "    }\n",
              "</style>\n",
              "<table border=\"1\" class=\"dataframe\">\n",
              "  <thead>\n",
              "    <tr style=\"text-align: right;\">\n",
              "      <th></th>\n",
              "      <th>ID</th>\n",
              "      <th>Cell1</th>\n",
              "      <th>Age</th>\n",
              "      <th>Sex</th>\n",
              "      <th>Type</th>\n",
              "      <th>n</th>\n",
              "      <th>Method</th>\n",
              "      <th>%hydroxylysine_ind</th>\n",
              "      <th>STD_n1</th>\n",
              "      <th>STD_n2</th>\n",
              "    </tr>\n",
              "  </thead>\n",
              "  <tbody>\n",
              "    <tr>\n",
              "      <th>15</th>\n",
              "      <td>61</td>\n",
              "      <td>1</td>\n",
              "      <td>2</td>\n",
              "      <td>3</td>\n",
              "      <td>1</td>\n",
              "      <td>3.0</td>\n",
              "      <td>5</td>\n",
              "      <td>0.129901</td>\n",
              "      <td>0.008515</td>\n",
              "      <td>0.008515</td>\n",
              "    </tr>\n",
              "    <tr>\n",
              "      <th>16</th>\n",
              "      <td>61</td>\n",
              "      <td>1</td>\n",
              "      <td>1</td>\n",
              "      <td>3</td>\n",
              "      <td>2</td>\n",
              "      <td>5.0</td>\n",
              "      <td>5</td>\n",
              "      <td>0.260990</td>\n",
              "      <td>0.015050</td>\n",
              "      <td>0.015050</td>\n",
              "    </tr>\n",
              "    <tr>\n",
              "      <th>17</th>\n",
              "      <td>61</td>\n",
              "      <td>1</td>\n",
              "      <td>5</td>\n",
              "      <td>3</td>\n",
              "      <td>3</td>\n",
              "      <td>12.0</td>\n",
              "      <td>5</td>\n",
              "      <td>0.140198</td>\n",
              "      <td>0.020990</td>\n",
              "      <td>0.020990</td>\n",
              "    </tr>\n",
              "    <tr>\n",
              "      <th>18</th>\n",
              "      <td>61</td>\n",
              "      <td>1</td>\n",
              "      <td>5</td>\n",
              "      <td>3</td>\n",
              "      <td>4</td>\n",
              "      <td>3.0</td>\n",
              "      <td>5</td>\n",
              "      <td>0.121188</td>\n",
              "      <td>0.010495</td>\n",
              "      <td>0.010495</td>\n",
              "    </tr>\n",
              "    <tr>\n",
              "      <th>19</th>\n",
              "      <td>61</td>\n",
              "      <td>2</td>\n",
              "      <td>2</td>\n",
              "      <td>3</td>\n",
              "      <td>1</td>\n",
              "      <td>3.0</td>\n",
              "      <td>3</td>\n",
              "      <td>0.134257</td>\n",
              "      <td>0.010693</td>\n",
              "      <td>0.010693</td>\n",
              "    </tr>\n",
              "    <tr>\n",
              "      <th>20</th>\n",
              "      <td>61</td>\n",
              "      <td>2</td>\n",
              "      <td>1</td>\n",
              "      <td>3</td>\n",
              "      <td>2</td>\n",
              "      <td>5.0</td>\n",
              "      <td>3</td>\n",
              "      <td>0.271683</td>\n",
              "      <td>0.021782</td>\n",
              "      <td>0.021782</td>\n",
              "    </tr>\n",
              "    <tr>\n",
              "      <th>21</th>\n",
              "      <td>61</td>\n",
              "      <td>2</td>\n",
              "      <td>5</td>\n",
              "      <td>3</td>\n",
              "      <td>3</td>\n",
              "      <td>12.0</td>\n",
              "      <td>3</td>\n",
              "      <td>0.114455</td>\n",
              "      <td>0.016634</td>\n",
              "      <td>0.016634</td>\n",
              "    </tr>\n",
              "    <tr>\n",
              "      <th>22</th>\n",
              "      <td>61</td>\n",
              "      <td>2</td>\n",
              "      <td>5</td>\n",
              "      <td>3</td>\n",
              "      <td>4</td>\n",
              "      <td>3.0</td>\n",
              "      <td>3</td>\n",
              "      <td>0.152079</td>\n",
              "      <td>0.011881</td>\n",
              "      <td>0.011881</td>\n",
              "    </tr>\n",
              "  </tbody>\n",
              "</table>\n",
              "</div>"
            ],
            "text/plain": [
              "    ID  Cell1  Age  Sex  Type     n  Method  %hydroxylysine_ind    STD_n1  \\\n",
              "15  61      1    2    3     1   3.0       5            0.129901  0.008515   \n",
              "16  61      1    1    3     2   5.0       5            0.260990  0.015050   \n",
              "17  61      1    5    3     3  12.0       5            0.140198  0.020990   \n",
              "18  61      1    5    3     4   3.0       5            0.121188  0.010495   \n",
              "19  61      2    2    3     1   3.0       3            0.134257  0.010693   \n",
              "20  61      2    1    3     2   5.0       3            0.271683  0.021782   \n",
              "21  61      2    5    3     3  12.0       3            0.114455  0.016634   \n",
              "22  61      2    5    3     4   3.0       3            0.152079  0.011881   \n",
              "\n",
              "      STD_n2  \n",
              "15  0.008515  \n",
              "16  0.015050  \n",
              "17  0.020990  \n",
              "18  0.010495  \n",
              "19  0.010693  \n",
              "20  0.021782  \n",
              "21  0.016634  \n",
              "22  0.011881  "
            ]
          },
          "execution_count": 146,
          "metadata": {},
          "output_type": "execute_result"
        }
      ],
      "source": [
        "df_sel[df_sel.ID == 61] # aggregate; maybe something went wrong here"
      ]
    },
    {
      "cell_type": "code",
      "execution_count": 147,
      "metadata": {
        "colab": {
          "base_uri": "https://localhost:8080/",
          "height": 143
        },
        "id": "sXJ5ObFXYnyK",
        "outputId": "c2832a03-fe40-4a7c-ca91-b372526c94c8"
      },
      "outputs": [
        {
          "data": {
            "text/html": [
              "<div>\n",
              "<style scoped>\n",
              "    .dataframe tbody tr th:only-of-type {\n",
              "        vertical-align: middle;\n",
              "    }\n",
              "\n",
              "    .dataframe tbody tr th {\n",
              "        vertical-align: top;\n",
              "    }\n",
              "\n",
              "    .dataframe thead th {\n",
              "        text-align: right;\n",
              "    }\n",
              "</style>\n",
              "<table border=\"1\" class=\"dataframe\">\n",
              "  <thead>\n",
              "    <tr style=\"text-align: right;\">\n",
              "      <th></th>\n",
              "      <th>ID</th>\n",
              "      <th>Cell1</th>\n",
              "      <th>Age</th>\n",
              "      <th>Sex</th>\n",
              "      <th>Type</th>\n",
              "      <th>n</th>\n",
              "      <th>Method</th>\n",
              "      <th>%hydroxylysine_ind</th>\n",
              "      <th>STD_n1</th>\n",
              "      <th>STD_n2</th>\n",
              "    </tr>\n",
              "  </thead>\n",
              "  <tbody>\n",
              "    <tr>\n",
              "      <th>24</th>\n",
              "      <td>75</td>\n",
              "      <td>1</td>\n",
              "      <td>3</td>\n",
              "      <td>3</td>\n",
              "      <td>9</td>\n",
              "      <td>3.0</td>\n",
              "      <td>-1</td>\n",
              "      <td>0.241</td>\n",
              "      <td>0.045</td>\n",
              "      <td>0.045</td>\n",
              "    </tr>\n",
              "    <tr>\n",
              "      <th>25</th>\n",
              "      <td>75</td>\n",
              "      <td>1</td>\n",
              "      <td>1</td>\n",
              "      <td>3</td>\n",
              "      <td>9</td>\n",
              "      <td>NaN</td>\n",
              "      <td>-1</td>\n",
              "      <td>0.196</td>\n",
              "      <td>NaN</td>\n",
              "      <td>NaN</td>\n",
              "    </tr>\n",
              "    <tr>\n",
              "      <th>26</th>\n",
              "      <td>75</td>\n",
              "      <td>1</td>\n",
              "      <td>4</td>\n",
              "      <td>3</td>\n",
              "      <td>9</td>\n",
              "      <td>NaN</td>\n",
              "      <td>-1</td>\n",
              "      <td>0.151</td>\n",
              "      <td>NaN</td>\n",
              "      <td>NaN</td>\n",
              "    </tr>\n",
              "  </tbody>\n",
              "</table>\n",
              "</div>"
            ],
            "text/plain": [
              "    ID  Cell1  Age  Sex  Type    n  Method  %hydroxylysine_ind  STD_n1  STD_n2\n",
              "24  75      1    3    3     9  3.0      -1               0.241   0.045   0.045\n",
              "25  75      1    1    3     9  NaN      -1               0.196     NaN     NaN\n",
              "26  75      1    4    3     9  NaN      -1               0.151     NaN     NaN"
            ]
          },
          "execution_count": 147,
          "metadata": {},
          "output_type": "execute_result"
        }
      ],
      "source": [
        "df_sel[df_sel.ID == 75] # Did not report the method, values significantly lower\n",
        "df_sel.loc[df_sel.ID == 75, 'Method'] = -1\n",
        "df_sel[df_sel.ID == 75]"
      ]
    },
    {
      "cell_type": "code",
      "execution_count": 148,
      "metadata": {
        "colab": {
          "base_uri": "https://localhost:8080/",
          "height": 1000
        },
        "id": "8XfGQ1lbZIaN",
        "outputId": "06dd8988-c8ef-452d-a83e-1db674dc74e7"
      },
      "outputs": [
        {
          "name": "stderr",
          "output_type": "stream",
          "text": [
            "C:\\Users\\bena8\\AppData\\Local\\Temp\\ipykernel_2616\\4216655815.py:2: SettingWithCopyWarning: \n",
            "A value is trying to be set on a copy of a slice from a DataFrame.\n",
            "Try using .loc[row_indexer,col_indexer] = value instead\n",
            "\n",
            "See the caveats in the documentation: https://pandas.pydata.org/pandas-docs/stable/user_guide/indexing.html#returning-a-view-versus-a-copy\n",
            "  df_sel['errors'] = 0\n"
          ]
        }
      ],
      "source": [
        "idx = df_sel.loc[(df_sel.ID == 61) | (df_sel.ID == 75)].index\n",
        "df_sel['errors'] = 0\n",
        "df_sel.iloc[idx] = 1"
      ]
    },
    {
      "attachments": {},
      "cell_type": "markdown",
      "metadata": {
        "id": "DOCT0c4NW7vd"
      },
      "source": [
        "## Roadmap"
      ]
    },
    {
      "cell_type": "markdown",
      "metadata": {
        "id": "LZWIS-9daoO_"
      },
      "source": [
        "- [x] Empirical distribution (https://machinelearningmastery.com/empirical-distribution-function-in-python/)\n",
        "\n",
        "##############################\n",
        "\n",
        "- [ ] Check distribution of each column (normal, Bernoulli (maybe others))\n",
        "- [ ] Generate data based on those distributions 🙂\n",
        "\n",
        "##############################\n",
        "\n",
        "- [ ] Statistical test for normality\n",
        "\n",
        "- [ ] Get mean and std if normal and simulate data from those values\n",
        "\n",
        "- [ ] Oversampling methods (SMOTE)\n",
        "\n",
        "- [ ] Clusters or Groups\n",
        "\n",
        "  - [ ] Apply some techniques for simulate data from above"
      ]
    },
    {
      "attachments": {},
      "cell_type": "markdown",
      "metadata": {
        "id": "a60nKOn1fDcx"
      },
      "source": [
        "## Base dataframe"
      ]
    },
    {
      "cell_type": "code",
      "execution_count": 149,
      "metadata": {
        "colab": {
          "base_uri": "https://localhost:8080/",
          "height": 1000
        },
        "id": "qN9_QXeyfCq8",
        "outputId": "66aa8d33-9214-4eb0-a353-443e2ff868ba"
      },
      "outputs": [
        {
          "data": {
            "text/html": [
              "<div>\n",
              "<style scoped>\n",
              "    .dataframe tbody tr th:only-of-type {\n",
              "        vertical-align: middle;\n",
              "    }\n",
              "\n",
              "    .dataframe tbody tr th {\n",
              "        vertical-align: top;\n",
              "    }\n",
              "\n",
              "    .dataframe thead th {\n",
              "        text-align: right;\n",
              "    }\n",
              "</style>\n",
              "<table border=\"1\" class=\"dataframe\">\n",
              "  <thead>\n",
              "    <tr style=\"text-align: right;\">\n",
              "      <th></th>\n",
              "      <th>ID</th>\n",
              "      <th>Cell1</th>\n",
              "      <th>Age</th>\n",
              "      <th>Sex</th>\n",
              "      <th>Type</th>\n",
              "      <th>Method</th>\n",
              "      <th>%hydroxylysine_ind</th>\n",
              "      <th>errors</th>\n",
              "    </tr>\n",
              "  </thead>\n",
              "  <tbody>\n",
              "    <tr>\n",
              "      <th>0</th>\n",
              "      <td>6</td>\n",
              "      <td>2</td>\n",
              "      <td>2</td>\n",
              "      <td>1</td>\n",
              "      <td>9</td>\n",
              "      <td>1</td>\n",
              "      <td>0.465116</td>\n",
              "      <td>0</td>\n",
              "    </tr>\n",
              "    <tr>\n",
              "      <th>1</th>\n",
              "      <td>8</td>\n",
              "      <td>2</td>\n",
              "      <td>1</td>\n",
              "      <td>1</td>\n",
              "      <td>2</td>\n",
              "      <td>2</td>\n",
              "      <td>0.219020</td>\n",
              "      <td>0</td>\n",
              "    </tr>\n",
              "    <tr>\n",
              "      <th>2</th>\n",
              "      <td>15</td>\n",
              "      <td>1</td>\n",
              "      <td>1</td>\n",
              "      <td>2</td>\n",
              "      <td>2</td>\n",
              "      <td>5</td>\n",
              "      <td>0.218750</td>\n",
              "      <td>0</td>\n",
              "    </tr>\n",
              "    <tr>\n",
              "      <th>3</th>\n",
              "      <td>15</td>\n",
              "      <td>2</td>\n",
              "      <td>1</td>\n",
              "      <td>2</td>\n",
              "      <td>2</td>\n",
              "      <td>3</td>\n",
              "      <td>0.371429</td>\n",
              "      <td>0</td>\n",
              "    </tr>\n",
              "    <tr>\n",
              "      <th>4</th>\n",
              "      <td>15</td>\n",
              "      <td>2</td>\n",
              "      <td>1</td>\n",
              "      <td>2</td>\n",
              "      <td>2</td>\n",
              "      <td>3</td>\n",
              "      <td>0.352941</td>\n",
              "      <td>0</td>\n",
              "    </tr>\n",
              "    <tr>\n",
              "      <th>...</th>\n",
              "      <td>...</td>\n",
              "      <td>...</td>\n",
              "      <td>...</td>\n",
              "      <td>...</td>\n",
              "      <td>...</td>\n",
              "      <td>...</td>\n",
              "      <td>...</td>\n",
              "      <td>...</td>\n",
              "    </tr>\n",
              "    <tr>\n",
              "      <th>64</th>\n",
              "      <td>158</td>\n",
              "      <td>1</td>\n",
              "      <td>5</td>\n",
              "      <td>3</td>\n",
              "      <td>4</td>\n",
              "      <td>5</td>\n",
              "      <td>0.370504</td>\n",
              "      <td>0</td>\n",
              "    </tr>\n",
              "    <tr>\n",
              "      <th>65</th>\n",
              "      <td>158</td>\n",
              "      <td>1</td>\n",
              "      <td>5</td>\n",
              "      <td>3</td>\n",
              "      <td>4</td>\n",
              "      <td>5</td>\n",
              "      <td>0.412710</td>\n",
              "      <td>0</td>\n",
              "    </tr>\n",
              "    <tr>\n",
              "      <th>66</th>\n",
              "      <td>158</td>\n",
              "      <td>1</td>\n",
              "      <td>5</td>\n",
              "      <td>3</td>\n",
              "      <td>4</td>\n",
              "      <td>5</td>\n",
              "      <td>0.423261</td>\n",
              "      <td>0</td>\n",
              "    </tr>\n",
              "    <tr>\n",
              "      <th>67</th>\n",
              "      <td>158</td>\n",
              "      <td>1</td>\n",
              "      <td>5</td>\n",
              "      <td>3</td>\n",
              "      <td>4</td>\n",
              "      <td>5</td>\n",
              "      <td>0.425180</td>\n",
              "      <td>0</td>\n",
              "    </tr>\n",
              "    <tr>\n",
              "      <th>68</th>\n",
              "      <td>158</td>\n",
              "      <td>1</td>\n",
              "      <td>5</td>\n",
              "      <td>3</td>\n",
              "      <td>4</td>\n",
              "      <td>5</td>\n",
              "      <td>0.469305</td>\n",
              "      <td>0</td>\n",
              "    </tr>\n",
              "  </tbody>\n",
              "</table>\n",
              "<p>69 rows × 8 columns</p>\n",
              "</div>"
            ],
            "text/plain": [
              "     ID  Cell1  Age  Sex  Type  Method  %hydroxylysine_ind  errors\n",
              "0     6      2    2    1     9       1            0.465116       0\n",
              "1     8      2    1    1     2       2            0.219020       0\n",
              "2    15      1    1    2     2       5            0.218750       0\n",
              "3    15      2    1    2     2       3            0.371429       0\n",
              "4    15      2    1    2     2       3            0.352941       0\n",
              "..  ...    ...  ...  ...   ...     ...                 ...     ...\n",
              "64  158      1    5    3     4       5            0.370504       0\n",
              "65  158      1    5    3     4       5            0.412710       0\n",
              "66  158      1    5    3     4       5            0.423261       0\n",
              "67  158      1    5    3     4       5            0.425180       0\n",
              "68  158      1    5    3     4       5            0.469305       0\n",
              "\n",
              "[69 rows x 8 columns]"
            ]
          },
          "execution_count": 149,
          "metadata": {},
          "output_type": "execute_result"
        }
      ],
      "source": [
        "df_final = df_sel[[\n",
        "  'ID',\n",
        "  'Cell1',\n",
        "  'Age',\n",
        "  'Sex',\n",
        "  'Type',\n",
        "  'Method',\n",
        "  '%hydroxylysine_ind',\n",
        "  'errors'\n",
        "]]\n",
        "df_final"
      ]
    },
    {
      "cell_type": "code",
      "execution_count": 150,
      "metadata": {},
      "outputs": [
        {
          "name": "stderr",
          "output_type": "stream",
          "text": [
            "c:\\Users\\bena8\\mambaforge\\envs\\py11\\Lib\\site-packages\\seaborn\\axisgrid.py:118: UserWarning: The figure layout has changed to tight\n",
            "  self._figure.tight_layout(*args, **kwargs)\n"
          ]
        },
        {
          "data": {
            "text/plain": [
              "<Figure size 640x480 with 0 Axes>"
            ]
          },
          "metadata": {},
          "output_type": "display_data"
        },
        {
          "data": {
            "image/png": "[encoded data removed]",
            "text/plain": [
              "<Figure size 558.875x500 with 1 Axes>"
            ]
          },
          "metadata": {},
          "output_type": "display_data"
        },
        {
          "name": "stderr",
          "output_type": "stream",
          "text": [
            "c:\\Users\\bena8\\mambaforge\\envs\\py11\\Lib\\site-packages\\seaborn\\axisgrid.py:118: UserWarning: The figure layout has changed to tight\n",
            "  self._figure.tight_layout(*args, **kwargs)\n"
          ]
        },
        {
          "data": {
            "text/plain": [
              "<Figure size 640x480 with 0 Axes>"
            ]
          },
          "metadata": {},
          "output_type": "display_data"
        },
        {
          "data": {
            "image/png": "[encoded data removed]",
            "text/plain": [
              "<Figure size 558.875x500 with 1 Axes>"
            ]
          },
          "metadata": {},
          "output_type": "display_data"
        },
        {
          "name": "stderr",
          "output_type": "stream",
          "text": [
            "c:\\Users\\bena8\\mambaforge\\envs\\py11\\Lib\\site-packages\\seaborn\\axisgrid.py:118: UserWarning: The figure layout has changed to tight\n",
            "  self._figure.tight_layout(*args, **kwargs)\n"
          ]
        },
        {
          "data": {
            "text/plain": [
              "<Figure size 640x480 with 0 Axes>"
            ]
          },
          "metadata": {},
          "output_type": "display_data"
        },
        {
          "data": {
            "image/png": "[encoded data removed]",
            "text/plain": [
              "<Figure size 558.875x500 with 1 Axes>"
            ]
          },
          "metadata": {},
          "output_type": "display_data"
        },
        {
          "name": "stderr",
          "output_type": "stream",
          "text": [
            "c:\\Users\\bena8\\mambaforge\\envs\\py11\\Lib\\site-packages\\seaborn\\axisgrid.py:118: UserWarning: The figure layout has changed to tight\n",
            "  self._figure.tight_layout(*args, **kwargs)\n"
          ]
        },
        {
          "data": {
            "text/plain": [
              "<Figure size 640x480 with 0 Axes>"
            ]
          },
          "metadata": {},
          "output_type": "display_data"
        },
        {
          "data": {
            "image/png": "[encoded data removed]",
            "text/plain": [
              "<Figure size 558.875x500 with 1 Axes>"
            ]
          },
          "metadata": {},
          "output_type": "display_data"
        },
        {
          "name": "stderr",
          "output_type": "stream",
          "text": [
            "c:\\Users\\bena8\\mambaforge\\envs\\py11\\Lib\\site-packages\\seaborn\\axisgrid.py:118: UserWarning: The figure layout has changed to tight\n",
            "  self._figure.tight_layout(*args, **kwargs)\n"
          ]
        },
        {
          "data": {
            "text/plain": [
              "<Figure size 640x480 with 0 Axes>"
            ]
          },
          "metadata": {},
          "output_type": "display_data"
        },
        {
          "data": {
            "image/png": "[encoded data removed]",
            "text/plain": [
              "<Figure size 558.875x500 with 1 Axes>"
            ]
          },
          "metadata": {},
          "output_type": "display_data"
        },
        {
          "name": "stderr",
          "output_type": "stream",
          "text": [
            "c:\\Users\\bena8\\mambaforge\\envs\\py11\\Lib\\site-packages\\seaborn\\axisgrid.py:118: UserWarning: The figure layout has changed to tight\n",
            "  self._figure.tight_layout(*args, **kwargs)\n"
          ]
        },
        {
          "data": {
            "text/plain": [
              "<Figure size 640x480 with 0 Axes>"
            ]
          },
          "metadata": {},
          "output_type": "display_data"
        },
        {
          "data": {
            "image/png": "[encoded data removed]",
            "text/plain": [
              "<Figure size 558.875x500 with 1 Axes>"
            ]
          },
          "metadata": {},
          "output_type": "display_data"
        }
      ],
      "source": [
        "columns = [\n",
        "    'Cell1', 'Age', 'Sex', 'Type', 'Method', '%hydroxylysine_ind'\n",
        "]\n",
        "for c in columns:\n",
        "    plt.figure()\n",
        "    sns.displot(df_final, x=c, hue=\"errors\")\n",
        "    plt.title(c)\n",
        "    plt.show()"
      ]
    },
    {
      "cell_type": "markdown",
      "metadata": {},
      "source": [
        "## Prediction"
      ]
    },
    {
      "cell_type": "code",
      "execution_count": 151,
      "metadata": {},
      "outputs": [],
      "source": [
        "from sklearn.model_selection import train_test_split\n",
        "from sklearn.model_selection import RepeatedKFold\n",
        "from sklearn.model_selection import cross_val_score\n",
        "from sklearn.metrics import mean_absolute_percentage_error as MAPE\n",
        "from sklearn.metrics import mean_squared_error as RMSE"
      ]
    },
    {
      "cell_type": "code",
      "execution_count": 152,
      "metadata": {},
      "outputs": [
        {
          "data": {
            "text/plain": [
              "Index(['ID', 'Cell1', 'Age', 'Sex', 'Type', 'n', 'Method',\n",
              "       '%hydroxylysine_ind', 'STD_n1', 'STD_n2', 'errors'],\n",
              "      dtype='object')"
            ]
          },
          "execution_count": 152,
          "metadata": {},
          "output_type": "execute_result"
        }
      ],
      "source": [
        "df_sel.columns"
      ]
    },
    {
      "cell_type": "code",
      "execution_count": 153,
      "metadata": {},
      "outputs": [],
      "source": [
        "x_col = ['Cell1', 'Age', 'Sex', 'Type', 'n', 'Method']\n",
        "y_col = ['%hydroxylysine_ind']"
      ]
    },
    {
      "cell_type": "code",
      "execution_count": 191,
      "metadata": {},
      "outputs": [],
      "source": [
        "x_train, x_test, y_train, y_test = train_test_split(df_sel[x_col], df_sel[y_col], test_size = 0.3)"
      ]
    },
    {
      "cell_type": "code",
      "execution_count": 155,
      "metadata": {},
      "outputs": [],
      "source": [
        "import xgboost as xgb\n",
        "xgb_r = xgb.XGBRegressor()"
      ]
    },
    {
      "cell_type": "markdown",
      "metadata": {},
      "source": [
        "### Best result by random folds"
      ]
    },
    {
      "cell_type": "code",
      "execution_count": 362,
      "metadata": {},
      "outputs": [
        {
          "name": "stdout",
          "output_type": "stream",
          "text": [
            "Mean MAPE: 0.203; Sdv MAPE: 0.091\n"
          ]
        }
      ],
      "source": [
        "# define model evaluation method\n",
        "cv = RepeatedKFold(n_splits=10, n_repeats=3)\n",
        "# evaluate model\n",
        "scores = cross_val_score(xgb_r, df_sel[x_col], df_sel[y_col], scoring='neg_mean_absolute_percentage_error', cv = cv, n_jobs = -1)\n",
        "scores = abs(scores)\n",
        "print('Mean MAPE: %.3f; Sdv MAPE: %.3f' % (scores.mean(), scores.std()) )"
      ]
    },
    {
      "cell_type": "markdown",
      "metadata": {},
      "source": [
        "### GridSearch"
      ]
    },
    {
      "cell_type": "code",
      "execution_count": 265,
      "metadata": {},
      "outputs": [
        {
          "name": "stdout",
          "output_type": "stream",
          "text": [
            "The best hyperparameters are  {'colsample_bytree': 0.6666666666666666, 'learning_rate': 0.01, 'max_depth': 5, 'n_estimators': 700}\n"
          ]
        }
      ],
      "source": [
        "# https://machinelearningmastery.com/xgboost-for-regression/\n",
        "xgb_r = xgb.XGBRegressor(eval_metric = 'rmsle')\n",
        "\n",
        "#=========================================================================\n",
        "# exhaustively search for the optimal hyperparameters\n",
        "#=========================================================================\n",
        "from sklearn.model_selection import GridSearchCV\n",
        "# set up our search grid\n",
        "# https://xgboost.readthedocs.io/en/latest/python/python_api.html#xgboost.XGBRegressor\n",
        "param_grid = {\"max_depth\":    [4, 5, 6],\n",
        "              \"n_estimators\": [700, 800, 900, 1000],\n",
        "              \"learning_rate\": [0.0001, 0.001, 0.01, 0.1, 0.2, 0.3],\n",
        "              \"colsample_bytree\" : [1, 5/6, 4/6, 3/6]\n",
        "              }\n",
        "\n",
        "# try out every combination of the above values\n",
        "search = GridSearchCV(xgb_r, param_grid, cv = cv).fit(x_train, y_train)\n",
        "\n",
        "print(\"The best hyperparameters are \", search.best_params_)"
      ]
    },
    {
      "cell_type": "code",
      "execution_count": 434,
      "metadata": {},
      "outputs": [
        {
          "name": "stdout",
          "output_type": "stream",
          "text": [
            "MAPE: 0.3401\n",
            "RMSE: 0.0535\n"
          ]
        }
      ],
      "source": [
        "x_train, x_test, y_train, y_test = train_test_split(df_sel[x_col], df_sel[y_col], test_size = 0.2)\n",
        "xgb_r = xgb.XGBRegressor(\n",
        "    max_depth     = search.best_params_[\"max_depth\"],\n",
        "    n_estimators  = search.best_params_[\"n_estimators\"],\n",
        "    learning_rate = search.best_params_[\"learning_rate\"],\n",
        "    colsample_bytree = search.best_params_[\"colsample_bytree\"],\n",
        "    eval_metric='rmsle'\n",
        ")\n",
        "\n",
        "xgb_r.fit(x_train, y_train)\n",
        "y_pred = xgb_r.predict(x_test)\n",
        "mape = np.sqrt(MAPE(y_test, y_pred))\n",
        "print(f\"MAPE: {round(mape, 4)}\")\n",
        "\n",
        "rmse = np.sqrt(RMSE(y_test, y_pred))\n",
        "print(f\"RMSE: {round(rmse, 4)}\")"
      ]
    },
    {
      "cell_type": "code",
      "execution_count": 163,
      "metadata": {},
      "outputs": [
        {
          "data": {
            "image/png": "[encoded data removed]",
            "text/plain": [
              "<Figure size 640x480 with 1 Axes>"
            ]
          },
          "metadata": {},
          "output_type": "display_data"
        }
      ],
      "source": [
        "plt.hist(y_test, bins = [x * 0.1 for x in list(range(0, 11))])\n",
        "plt.hist(y_pred, bins = [x * 0.1 for x in list(range(0, 11))])\n",
        "plt.show()"
      ]
    },
    {
      "attachments": {},
      "cell_type": "markdown",
      "metadata": {
        "id": "eDH5vw_-WwRz"
      },
      "source": [
        "## Empirical simulation"
      ]
    },
    {
      "attachments": {},
      "cell_type": "markdown",
      "metadata": {
        "id": "NeNBvCq5groG"
      },
      "source": [
        "### Unit test"
      ]
    },
    {
      "cell_type": "code",
      "execution_count": 164,
      "metadata": {
        "colab": {
          "base_uri": "https://localhost:8080/"
        },
        "id": "B1n3Y7nPcYes",
        "outputId": "ecf031c8-a6ed-457c-c629-a4977214dda5"
      },
      "outputs": [
        {
          "data": {
            "text/plain": [
              "ID\n",
              "158    39\n",
              "1      11\n",
              "30      4\n",
              "15      3\n",
              "25      2\n",
              "6       1\n",
              "8       1\n",
              "32      1\n",
              "36      1\n",
              "46      1\n",
              "55      1\n",
              "71      1\n",
              "82      1\n",
              "85      1\n",
              "144     1\n",
              "Name: count, dtype: int64"
            ]
          },
          "execution_count": 164,
          "metadata": {},
          "output_type": "execute_result"
        }
      ],
      "source": [
        "df_final['ID'].value_counts()"
      ]
    },
    {
      "cell_type": "code",
      "execution_count": 165,
      "metadata": {
        "colab": {
          "base_uri": "https://localhost:8080/"
        },
        "id": "jRsA6i6lgeLu",
        "outputId": "ebecf294-1fff-4c9b-f6fc-c46f3371388c"
      },
      "outputs": [
        {
          "data": {
            "text/plain": [
              "<Axes: xlabel='ID'>"
            ]
          },
          "execution_count": 165,
          "metadata": {},
          "output_type": "execute_result"
        },
        {
          "data": {
            "image/png": "[encoded data removed]",
            "text/plain": [
              "<Figure size 640x480 with 1 Axes>"
            ]
          },
          "metadata": {},
          "output_type": "display_data"
        }
      ],
      "source": [
        "freq = df_final['ID'].value_counts() / sum(df_final['ID'].value_counts())\n",
        "freq.plot(kind = 'bar')"
      ]
    },
    {
      "cell_type": "code",
      "execution_count": 166,
      "metadata": {
        "colab": {
          "base_uri": "https://localhost:8080/"
        },
        "id": "nz6-Q8GBc2y1",
        "outputId": "ef2575b7-a6fe-4ac7-a3d1-e1ce2ce2dc41"
      },
      "outputs": [
        {
          "data": {
            "text/plain": [
              "array([158, 158, 158,  25, 158, 158,   6,  32, 158, 158, 158,  71, 158,\n",
              "       158, 158,   1,   8,   1, 158, 158, 158,  15,  82, 158, 158,  15,\n",
              "         1,  82, 158, 158,  30, 158, 158, 158,  30,  15, 158, 158, 158,\n",
              "       144, 158,  36,  25, 158, 158,   1,   1, 158,   1,  30], dtype=int64)"
            ]
          },
          "execution_count": 166,
          "metadata": {},
          "output_type": "execute_result"
        }
      ],
      "source": [
        "np.random.choice(  \n",
        "  a = df_final['ID'].value_counts().index,\n",
        "  size = 50,\n",
        "  p = df_final['ID'].value_counts() / sum(df_final['ID'].value_counts())\n",
        ")"
      ]
    },
    {
      "cell_type": "markdown",
      "metadata": {},
      "source": [
        "## Reconstruction method"
      ]
    },
    {
      "cell_type": "code",
      "execution_count": 167,
      "metadata": {},
      "outputs": [],
      "source": [
        "from imblearn.combine import SMOTEENN"
      ]
    },
    {
      "attachments": {},
      "cell_type": "markdown",
      "metadata": {
        "id": "cny5JcQGgxhW"
      },
      "source": [
        "### Model"
      ]
    },
    {
      "cell_type": "code",
      "execution_count": 168,
      "metadata": {
        "id": "RbwVO_8edZJL"
      },
      "outputs": [],
      "source": [
        "def empirical_simulator(df, col, n):\n",
        "  df[col].value_counts()\n",
        "  simulated_data = np.random.choice(  \n",
        "    a = df[c].value_counts().index,\n",
        "    size = n,\n",
        "    p = df[c].value_counts() / sum(df[c].value_counts())\n",
        "  )\n",
        "  return simulated_data"
      ]
    },
    {
      "attachments": {},
      "cell_type": "markdown",
      "metadata": {
        "id": "C2ZJVbsag00E"
      },
      "source": [
        "### Simulated data"
      ]
    },
    {
      "cell_type": "code",
      "execution_count": 169,
      "metadata": {
        "id": "upCTF2rid4vL"
      },
      "outputs": [],
      "source": [
        "new_data = {}\n",
        "for c in df_final.columns:\n",
        "  new_data[c] = empirical_simulator(df_final, c, 1000)\n",
        "df_empirical_simulated = pd.DataFrame(new_data)"
      ]
    },
    {
      "attachments": {},
      "cell_type": "markdown",
      "metadata": {
        "id": "q5xk3zKTg_OK"
      },
      "source": [
        "### Visualization"
      ]
    },
    {
      "cell_type": "code",
      "execution_count": 170,
      "metadata": {
        "colab": {
          "base_uri": "https://localhost:8080/",
          "height": 1000
        },
        "id": "AF2e2iQWhBZj",
        "outputId": "9f4d77e9-4e8d-4148-d20b-e66ffc9b38e4"
      },
      "outputs": [
        {
          "data": {
            "image/png": "[encoded data removed]",
            "text/plain": [
              "<Figure size 640x480 with 1 Axes>"
            ]
          },
          "metadata": {},
          "output_type": "display_data"
        },
        {
          "data": {
            "image/png": "[encoded data removed]",
            "text/plain": [
              "<Figure size 640x480 with 1 Axes>"
            ]
          },
          "metadata": {},
          "output_type": "display_data"
        },
        {
          "data": {
            "image/png": "[encoded data removed]",
            "text/plain": [
              "<Figure size 640x480 with 1 Axes>"
            ]
          },
          "metadata": {},
          "output_type": "display_data"
        },
        {
          "data": {
            "image/png": "[encoded data removed]",
            "text/plain": [
              "<Figure size 640x480 with 1 Axes>"
            ]
          },
          "metadata": {},
          "output_type": "display_data"
        },
        {
          "data": {
            "image/png": "[encoded data removed]",
            "text/plain": [
              "<Figure size 640x480 with 1 Axes>"
            ]
          },
          "metadata": {},
          "output_type": "display_data"
        },
        {
          "data": {
            "image/png": "[encoded data removed]",
            "text/plain": [
              "<Figure size 640x480 with 1 Axes>"
            ]
          },
          "metadata": {},
          "output_type": "display_data"
        },
        {
          "data": {
            "image/png": "[encoded data removed]",
            "text/plain": [
              "<Figure size 640x480 with 1 Axes>"
            ]
          },
          "metadata": {},
          "output_type": "display_data"
        },
        {
          "data": {
            "image/png": "[encoded data removed]",
            "text/plain": [
              "<Figure size 640x480 with 1 Axes>"
            ]
          },
          "metadata": {},
          "output_type": "display_data"
        }
      ],
      "source": [
        "for c in df_final.columns:\n",
        "  plt.figure()\n",
        "  plt.title(c)\n",
        "  sns.boxplot(\n",
        "    data=[df_empirical_simulated[c], df_final[c]])\n",
        "  plt.show()"
      ]
    },
    {
      "attachments": {},
      "cell_type": "markdown",
      "metadata": {
        "id": "Y6pMLjFXfJuL"
      },
      "source": [
        "## Normality simulation"
      ]
    },
    {
      "cell_type": "code",
      "execution_count": 171,
      "metadata": {
        "id": "MNs4KdQafQ-5"
      },
      "outputs": [],
      "source": [
        "import pingouin as pg"
      ]
    },
    {
      "cell_type": "code",
      "execution_count": 172,
      "metadata": {},
      "outputs": [
        {
          "data": {
            "text/plain": [
              "Index(['ID', 'Cell1', 'Age', 'Sex', 'Type', 'Method', '%hydroxylysine_ind',\n",
              "       'errors'],\n",
              "      dtype='object')"
            ]
          },
          "execution_count": 172,
          "metadata": {},
          "output_type": "execute_result"
        }
      ],
      "source": [
        "df_final.columns"
      ]
    },
    {
      "cell_type": "code",
      "execution_count": 173,
      "metadata": {},
      "outputs": [
        {
          "data": {
            "image/png": "[encoded data removed]",
            "text/plain": [
              "<Figure size 640x480 with 1 Axes>"
            ]
          },
          "metadata": {},
          "output_type": "display_data"
        },
        {
          "data": {
            "image/png": "[encoded data removed]",
            "text/plain": [
              "<Figure size 640x480 with 1 Axes>"
            ]
          },
          "metadata": {},
          "output_type": "display_data"
        },
        {
          "data": {
            "image/png": "[encoded data removed]",
            "text/plain": [
              "<Figure size 640x480 with 1 Axes>"
            ]
          },
          "metadata": {},
          "output_type": "display_data"
        },
        {
          "data": {
            "image/png": "[encoded data removed]",
            "text/plain": [
              "<Figure size 640x480 with 1 Axes>"
            ]
          },
          "metadata": {},
          "output_type": "display_data"
        },
        {
          "data": {
            "image/png": "[encoded data removed]",
            "text/plain": [
              "<Figure size 640x480 with 1 Axes>"
            ]
          },
          "metadata": {},
          "output_type": "display_data"
        },
        {
          "data": {
            "image/png": "[encoded data removed]",
            "text/plain": [
              "<Figure size 640x480 with 1 Axes>"
            ]
          },
          "metadata": {},
          "output_type": "display_data"
        }
      ],
      "source": [
        "for c in ['Cell1', 'Age', 'Sex', 'Type', 'Method', '%hydroxylysine_ind']:\n",
        "    plt.figure()\n",
        "    plt.hist(df_final[c])\n",
        "    plt.title(c)\n",
        "    plt.show()"
      ]
    },
    {
      "cell_type": "code",
      "execution_count": 174,
      "metadata": {},
      "outputs": [
        {
          "data": {
            "text/plain": [
              "array([1, 2, 3], dtype=int64)"
            ]
          },
          "execution_count": 174,
          "metadata": {},
          "output_type": "execute_result"
        }
      ],
      "source": [
        "df_final.Sex.unique()"
      ]
    },
    {
      "cell_type": "code",
      "execution_count": 175,
      "metadata": {},
      "outputs": [
        {
          "data": {
            "text/plain": [
              "<Axes: xlabel='Theoretical quantiles', ylabel='Ordered quantiles'>"
            ]
          },
          "execution_count": 175,
          "metadata": {},
          "output_type": "execute_result"
        },
        {
          "data": {
            "image/png": "[encoded data removed]",
            "text/plain": [
              "<Figure size 640x480 with 1 Axes>"
            ]
          },
          "metadata": {},
          "output_type": "display_data"
        }
      ],
      "source": [
        "pg.qqplot(df_final['%hydroxylysine_ind'], dist='norm')"
      ]
    },
    {
      "cell_type": "code",
      "execution_count": 176,
      "metadata": {},
      "outputs": [
        {
          "name": "stdout",
          "output_type": "stream",
          "text": [
            "                           W          pval  normal\n",
            "%hydroxylysine_ind  0.739249  9.521427e-10   False\n"
          ]
        }
      ],
      "source": [
        "print(pg.normality(df_final['%hydroxylysine_ind']))"
      ]
    },
    {
      "attachments": {},
      "cell_type": "markdown",
      "metadata": {},
      "source": [
        "- [ ] sample (increase variability)\n",
        "- [ ] see distribution\n",
        "- [ ] randomize\n",
        "\n",
        "- [ ] add control patient data\n",
        "- [ ] check distributions"
      ]
    },
    {
      "cell_type": "code",
      "execution_count": 177,
      "metadata": {},
      "outputs": [],
      "source": [
        "import statsmodels.api as sm"
      ]
    },
    {
      "cell_type": "code",
      "execution_count": 178,
      "metadata": {},
      "outputs": [],
      "source": [
        "model = sm.OLS(\n",
        "    df_final['%hydroxylysine_ind'],\n",
        "    df_final[['Cell1', 'Age', 'Sex', 'Type', 'Method', '%hydroxylysine_ind']]\n",
        ")"
      ]
    },
    {
      "cell_type": "code",
      "execution_count": 179,
      "metadata": {},
      "outputs": [
        {
          "data": {
            "text/plain": [
              "Cell1                -1.387779e-17\n",
              "Age                  -3.122502e-17\n",
              "Sex                   8.326673e-17\n",
              "Type                  1.804112e-16\n",
              "Method               -1.075529e-16\n",
              "%hydroxylysine_ind    1.000000e+00\n",
              "dtype: float64"
            ]
          },
          "execution_count": 179,
          "metadata": {},
          "output_type": "execute_result"
        }
      ],
      "source": [
        "results = model.fit()\n",
        "results.params"
      ]
    }
  ],
  "metadata": {
    "colab": {
      "authorship_tag": "ABX9TyOkPdwl0hfhkXDwpPoMskf8",
      "include_colab_link": true,
      "provenance": [],
      "toc_visible": true
    },
    "kernelspec": {
      "display_name": "Python 3",
      "name": "python3"
    },
    "language_info": {
      "codemirror_mode": {
        "name": "ipython",
        "version": 3
      },
      "file_extension": ".py",
      "mimetype": "text/x-python",
      "name": "python",
      "nbconvert_exporter": "python",
      "pygments_lexer": "ipython3",
      "version": "3.11.0"
    }
  },
  "nbformat": 4,
  "nbformat_minor": 0
}
